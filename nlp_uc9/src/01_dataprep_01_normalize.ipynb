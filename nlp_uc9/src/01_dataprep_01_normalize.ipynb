{
 "cells": [
  {
   "cell_type": "markdown",
   "metadata": {},
   "source": [
    "# Step 1 - Data Preparation\n",
    "\n",
    "## 1.1 Normalize the Texts\n",
    "\n",
    "This will cleanse and normalize the texts for the next step of vectorization."
   ]
  },
  {
   "cell_type": "markdown",
   "metadata": {},
   "source": [
    "## 1.1.1 - Load Required Modules"
   ]
  },
  {
   "cell_type": "code",
   "execution_count": 3,
   "metadata": {},
   "outputs": [
    {
     "name": "stderr",
     "output_type": "stream",
     "text": [
      "[nltk_data] Downloading package punkt to /home/cjwang/nltk_data...\n",
      "[nltk_data]   Package punkt is already up-to-date!\n",
      "[nltk_data] Downloading package averaged_perceptron_tagger to\n",
      "[nltk_data]     /home/cjwang/nltk_data...\n",
      "[nltk_data]   Package averaged_perceptron_tagger is already up-to-\n",
      "[nltk_data]       date!\n",
      "[nltk_data] Downloading package stopwords to /home/cjwang/nltk_data...\n",
      "[nltk_data]   Package stopwords is already up-to-date!\n",
      "[nltk_data] Downloading package wordnet to /home/cjwang/nltk_data...\n",
      "[nltk_data]   Package wordnet is already up-to-date!\n",
      "[nltk_data] Downloading package omw-1.4 to /home/cjwang/nltk_data...\n",
      "[nltk_data]   Package omw-1.4 is already up-to-date!\n"
     ]
    }
   ],
   "source": [
    "import pandas as pd\n",
    "pd.set_option(\"display.max_colwidth\", 1000)\n",
    "\n",
    "import nltk\n",
    "nltk.download(\"punkt\")\n",
    "nltk.download('averaged_perceptron_tagger')\n",
    "\n",
    "import warnings\n",
    "warnings.filterwarnings('ignore')\n",
    "\n",
    "import preprocess"
   ]
  },
  {
   "cell_type": "code",
   "execution_count": 6,
   "metadata": {},
   "outputs": [],
   "source": [
    "# Uncomment the following when preprocess.py is modified\n",
    "# Alternatively, restart the kernel which will start the notebook from scratch\n",
    "\n",
    "#import importlib\n",
    "#importlib.reload(preprocess)"
   ]
  },
  {
   "cell_type": "markdown",
   "metadata": {},
   "source": [
    "## 1.1.2 - Combine X and y into one dataframe"
   ]
  },
  {
   "cell_type": "code",
   "execution_count": 7,
   "metadata": {},
   "outputs": [
    {
     "name": "stdout",
     "output_type": "stream",
     "text": [
      "(404, 16)\n"
     ]
    },
    {
     "data": {
      "text/html": [
       "<div>\n",
       "<style scoped>\n",
       "    .dataframe tbody tr th:only-of-type {\n",
       "        vertical-align: middle;\n",
       "    }\n",
       "\n",
       "    .dataframe tbody tr th {\n",
       "        vertical-align: top;\n",
       "    }\n",
       "\n",
       "    .dataframe thead th {\n",
       "        text-align: right;\n",
       "    }\n",
       "</style>\n",
       "<table border=\"1\" class=\"dataframe\">\n",
       "  <thead>\n",
       "    <tr style=\"text-align: right;\">\n",
       "      <th></th>\n",
       "      <th>0</th>\n",
       "    </tr>\n",
       "  </thead>\n",
       "  <tbody>\n",
       "    <tr>\n",
       "      <th>m_MDR_count_1_period_ago_sqrt</th>\n",
       "      <td>1.0</td>\n",
       "    </tr>\n",
       "    <tr>\n",
       "      <th>r_Recall_count_during_window</th>\n",
       "      <td>0.0</td>\n",
       "    </tr>\n",
       "    <tr>\n",
       "      <th>r_avg_Recalls_per_device_in_product_code_during_window</th>\n",
       "      <td>0.071429</td>\n",
       "    </tr>\n",
       "    <tr>\n",
       "      <th>m_percent_of_MDRs_with_injury_during_window</th>\n",
       "      <td>0.0</td>\n",
       "    </tr>\n",
       "    <tr>\n",
       "      <th>m_percent_of_MDRs_with_remedial_action_of_recall_during_window</th>\n",
       "      <td>0.333333</td>\n",
       "    </tr>\n",
       "    <tr>\n",
       "      <th>m_percent_of_MDRs_with_product_problem_manufacturer_during_window</th>\n",
       "      <td>0.666667</td>\n",
       "    </tr>\n",
       "    <tr>\n",
       "      <th>m_percent_of_MDRs_with_product_problem_electronic_during_window</th>\n",
       "      <td>0.0</td>\n",
       "    </tr>\n",
       "    <tr>\n",
       "      <th>r_count_of_Recalls_before_window</th>\n",
       "      <td>0.0</td>\n",
       "    </tr>\n",
       "    <tr>\n",
       "      <th>m_MDRs_during_window_as_percent_of_MDRs_before_and_during_window</th>\n",
       "      <td>0.995025</td>\n",
       "    </tr>\n",
       "    <tr>\n",
       "      <th>d_has_UDI</th>\n",
       "      <td>1.0</td>\n",
       "    </tr>\n",
       "    <tr>\n",
       "      <th>d_medspec_radiology</th>\n",
       "      <td>0.0</td>\n",
       "    </tr>\n",
       "    <tr>\n",
       "      <th>manufacturer_size_proxy_device_count_sqrt</th>\n",
       "      <td>15.748016</td>\n",
       "    </tr>\n",
       "    <tr>\n",
       "      <th>d_decision_date_max_time</th>\n",
       "      <td>-9.25</td>\n",
       "    </tr>\n",
       "    <tr>\n",
       "      <th>m_mdrs_during_window_trend</th>\n",
       "      <td>0.095238</td>\n",
       "    </tr>\n",
       "    <tr>\n",
       "      <th>MDR_text</th>\n",
       "      <td>A REPORT WAS REC'D THAT STATED WHILE THE DEVIC...</td>\n",
       "    </tr>\n",
       "    <tr>\n",
       "      <th>recall</th>\n",
       "      <td>0</td>\n",
       "    </tr>\n",
       "  </tbody>\n",
       "</table>\n",
       "</div>"
      ],
      "text/plain": [
       "                                                                                                    0\n",
       "m_MDR_count_1_period_ago_sqrt                                                                     1.0\n",
       "r_Recall_count_during_window                                                                      0.0\n",
       "r_avg_Recalls_per_device_in_product_code_during...                                           0.071429\n",
       "m_percent_of_MDRs_with_injury_during_window                                                       0.0\n",
       "m_percent_of_MDRs_with_remedial_action_of_recal...                                           0.333333\n",
       "m_percent_of_MDRs_with_product_problem_manufact...                                           0.666667\n",
       "m_percent_of_MDRs_with_product_problem_electron...                                                0.0\n",
       "r_count_of_Recalls_before_window                                                                  0.0\n",
       "m_MDRs_during_window_as_percent_of_MDRs_before_...                                           0.995025\n",
       "d_has_UDI                                                                                         1.0\n",
       "d_medspec_radiology                                                                               0.0\n",
       "manufacturer_size_proxy_device_count_sqrt                                                   15.748016\n",
       "d_decision_date_max_time                                                                        -9.25\n",
       "m_mdrs_during_window_trend                                                                   0.095238\n",
       "MDR_text                                            A REPORT WAS REC'D THAT STATED WHILE THE DEVIC...\n",
       "recall                                                                                              0"
      ]
     },
     "execution_count": 7,
     "metadata": {},
     "output_type": "execute_result"
    }
   ],
   "source": [
    "df_X_train = pd.read_csv(\"../data/source/X_train.csv\")\n",
    "df_y_train = pd.read_csv(\"../data/source/y_train.csv\")\n",
    "\n",
    "df_train = pd.concat([df_X_train, df_y_train], axis=1)\n",
    "\n",
    "print(df_train.shape)\n",
    "df_train.head(1).T"
   ]
  },
  {
   "cell_type": "markdown",
   "metadata": {},
   "source": [
    "## 1.1.3 - Normalize the texts"
   ]
  },
  {
   "cell_type": "code",
   "execution_count": 13,
   "metadata": {},
   "outputs": [
    {
     "name": "stdout",
     "output_type": "stream",
     "text": [
      "(404, 17)\n"
     ]
    },
    {
     "data": {
      "text/html": [
       "<div>\n",
       "<style scoped>\n",
       "    .dataframe tbody tr th:only-of-type {\n",
       "        vertical-align: middle;\n",
       "    }\n",
       "\n",
       "    .dataframe tbody tr th {\n",
       "        vertical-align: top;\n",
       "    }\n",
       "\n",
       "    .dataframe thead th {\n",
       "        text-align: right;\n",
       "    }\n",
       "</style>\n",
       "<table border=\"1\" class=\"dataframe\">\n",
       "  <thead>\n",
       "    <tr style=\"text-align: right;\">\n",
       "      <th></th>\n",
       "      <th>0</th>\n",
       "    </tr>\n",
       "  </thead>\n",
       "  <tbody>\n",
       "    <tr>\n",
       "      <th>MDR_text</th>\n",
       "      <td>A REPORT WAS REC'D THAT STATED WHILE THE DEVICE WAS IN USE SMOKE WAS NOTED. THE DEVICE WAS REMOVED FROM SVC. THE HOSP BIO-MED OPENED THE DEVICE CASE AND FOUND EVIDENCE OF OVERHEATING, MELTING AND DAMAGE. THERE WAS NO PT HARM OR SERIOUS ADVERSE EVENT. CUSTOMER HAS NOT YET RETURNED THE DEVICE TO THE MFR FOR DEVICE EVAL. WHEN AND IF THE DEVICE BECOMES AVAILABLE AND IS RETURNED AND EVALUATED THE MFR WILL FILE A F/U REPORT DETAILING THE RESULTS OF THE EVAL. CUSTOMER HAS NOT YET RETURNED THE DEVICE TO THE MANUFACTURER FOR DEVICE EVALUATION. WHEN AND IF THE DEVICE BECOMES AVAILABLE AND IS RETURNED AND EVALUATED THE MANUFACTURER WILL FILE A FOLLOW-UP REPORT DETAILING THE RESULTS OF THE EVALUATION. USER FACILITY REPORTED THAT THE LUER LOCK CONNECTION BECAME DISCONNECTED FROM THE SET DURING USE. NO ADVERSE EFFECTS TO USERS OR PATIENTS REPORTED. CUSTOMER HAS NOT YET RETURNED THE DEVICE TO THE MANUFACTURER FOR DEVICE EVALUATION. WHEN AND IF THE DEVICE BECOMES AVAILABLE AND IS RETURNED AND EVAL...</td>\n",
       "    </tr>\n",
       "    <tr>\n",
       "      <th>normalized</th>\n",
       "      <td>report recd state devic use smoke note devic remov svc hosp biom open devic case found evid overh melt damag pt harm serious advers event custom yet return devic mfr devic eval devic becom avail return evalu mfr file fu report detail result eval custom yet return devic manufactur devic evalu devic becom avail return evalu manufactur file followup report detail result evalu user facil report luer lock connect becam disconnect set use advers effect user patient report custom yet return devic manufactur devic evalu devic becom avail return evalu manufactur file followup report detail result evalu report devic burn mark area power cordmain filter addit inform request respons date advers health outcom result event unit return evalu burn mark visibl power cord connect area confirm report event unit would turn therefor mechan evalu could perform visual inspect reveal fluid ingres power cord connector investig confirm fluid ingres root caus report event</td>\n",
       "    </tr>\n",
       "  </tbody>\n",
       "</table>\n",
       "</div>"
      ],
      "text/plain": [
       "                                                                                                                                                                                                                                                                                                                                                                                                                                                                                                                                                                                                                                                                                                                                                                                                                                                                                                                                                                                                                                                  0\n",
       "MDR_text    A REPORT WAS REC'D THAT STATED WHILE THE DEVICE WAS IN USE SMOKE WAS NOTED. THE DEVICE WAS REMOVED FROM SVC. THE HOSP BIO-MED OPENED THE DEVICE CASE AND FOUND EVIDENCE OF OVERHEATING, MELTING AND DAMAGE. THERE WAS NO PT HARM OR SERIOUS ADVERSE EVENT. CUSTOMER HAS NOT YET RETURNED THE DEVICE TO THE MFR FOR DEVICE EVAL. WHEN AND IF THE DEVICE BECOMES AVAILABLE AND IS RETURNED AND EVALUATED THE MFR WILL FILE A F/U REPORT DETAILING THE RESULTS OF THE EVAL. CUSTOMER HAS NOT YET RETURNED THE DEVICE TO THE MANUFACTURER FOR DEVICE EVALUATION. WHEN AND IF THE DEVICE BECOMES AVAILABLE AND IS RETURNED AND EVALUATED THE MANUFACTURER WILL FILE A FOLLOW-UP REPORT DETAILING THE RESULTS OF THE EVALUATION. USER FACILITY REPORTED THAT THE LUER LOCK CONNECTION BECAME DISCONNECTED FROM THE SET DURING USE. NO ADVERSE EFFECTS TO USERS OR PATIENTS REPORTED. CUSTOMER HAS NOT YET RETURNED THE DEVICE TO THE MANUFACTURER FOR DEVICE EVALUATION. WHEN AND IF THE DEVICE BECOMES AVAILABLE AND IS RETURNED AND EVAL...\n",
       "normalized                                          report recd state devic use smoke note devic remov svc hosp biom open devic case found evid overh melt damag pt harm serious advers event custom yet return devic mfr devic eval devic becom avail return evalu mfr file fu report detail result eval custom yet return devic manufactur devic evalu devic becom avail return evalu manufactur file followup report detail result evalu user facil report luer lock connect becam disconnect set use advers effect user patient report custom yet return devic manufactur devic evalu devic becom avail return evalu manufactur file followup report detail result evalu report devic burn mark area power cordmain filter addit inform request respons date advers health outcom result event unit return evalu burn mark visibl power cord connect area confirm report event unit would turn therefor mechan evalu could perform visual inspect reveal fluid ingres power cord connector investig confirm fluid ingres root caus report event"
      ]
     },
     "execution_count": 13,
     "metadata": {},
     "output_type": "execute_result"
    }
   ],
   "source": [
    "#df_train[\"normalized\"] = df_train[\"MDR_text\"].apply(lambda x: preprocess.normalize(x, \"snowball\", \"wordnet\", \"nltk\"))\n",
    "\n",
    "print(df_train.shape)\n",
    "df_train[[\"MDR_text\",\"normalized\"]].head(1).T"
   ]
  },
  {
   "cell_type": "markdown",
   "metadata": {},
   "source": [
    "## 1.1.4 - Save the dataframe"
   ]
  },
  {
   "cell_type": "code",
   "execution_count": 9,
   "metadata": {},
   "outputs": [],
   "source": [
    "df_train.to_csv(\"../data/prepared/train_normalized.csv\", index=False)"
   ]
  },
  {
   "cell_type": "markdown",
   "metadata": {},
   "source": [
    "## The End."
   ]
  }
 ],
 "metadata": {
  "interpreter": {
   "hash": "949777d72b0d2535278d3dc13498b2535136f6dfe0678499012e853ee9abcab1"
  },
  "kernelspec": {
   "display_name": "Python 3 (ipykernel)",
   "language": "python",
   "name": "python3"
  },
  "language_info": {
   "codemirror_mode": {
    "name": "ipython",
    "version": 3
   },
   "file_extension": ".py",
   "mimetype": "text/x-python",
   "name": "python",
   "nbconvert_exporter": "python",
   "pygments_lexer": "ipython3",
   "version": "3.8.10"
  }
 },
 "nbformat": 4,
 "nbformat_minor": 4
}
