{
 "cells": [
  {
   "cell_type": "code",
   "execution_count": 10,
   "metadata": {},
   "outputs": [
    {
     "ename": "HTTPError",
     "evalue": "HTTP Error 503: first byte timeout",
     "output_type": "error",
     "traceback": [
      "\u001b[0;31m---------------------------------------------------------------------------\u001b[0m",
      "\u001b[0;31mHTTPError\u001b[0m                                 Traceback (most recent call last)",
      "\u001b[1;32m/workspaces/pycaret/pycaret_01.ipynb Cell 1'\u001b[0m in \u001b[0;36m<cell line: 2>\u001b[0;34m()\u001b[0m\n\u001b[1;32m      <a href='vscode-notebook-cell://codespaces%2Bwcj365-pycaret-q469q5ggc4pg4/workspaces/pycaret/pycaret_01.ipynb#ch0000000vscode-remote?line=0'>1</a>\u001b[0m \u001b[39mfrom\u001b[39;00m \u001b[39mpycaret\u001b[39;00m\u001b[39m.\u001b[39;00m\u001b[39mdatasets\u001b[39;00m \u001b[39mimport\u001b[39;00m get_data\n\u001b[0;32m----> <a href='vscode-notebook-cell://codespaces%2Bwcj365-pycaret-q469q5ggc4pg4/workspaces/pycaret/pycaret_01.ipynb#ch0000000vscode-remote?line=1'>2</a>\u001b[0m data \u001b[39m=\u001b[39m get_data(\u001b[39m'\u001b[39;49m\u001b[39mkiva\u001b[39;49m\u001b[39m'\u001b[39;49m)\n",
      "File \u001b[0;32m~/.local/lib/python3.8/site-packages/pycaret/datasets.py:68\u001b[0m, in \u001b[0;36mget_data\u001b[0;34m(dataset, save_copy, profile, verbose, address)\u001b[0m\n\u001b[1;32m     <a href='file:///home/vscode/.local/lib/python3.8/site-packages/pycaret/datasets.py?line=65'>66</a>\u001b[0m     data \u001b[39m=\u001b[39m pd\u001b[39m.\u001b[39mread_csv(filename)\n\u001b[1;32m     <a href='file:///home/vscode/.local/lib/python3.8/site-packages/pycaret/datasets.py?line=66'>67</a>\u001b[0m \u001b[39melse\u001b[39;00m:\n\u001b[0;32m---> <a href='file:///home/vscode/.local/lib/python3.8/site-packages/pycaret/datasets.py?line=67'>68</a>\u001b[0m     data \u001b[39m=\u001b[39m pd\u001b[39m.\u001b[39;49mread_csv(complete_address)\n\u001b[1;32m     <a href='file:///home/vscode/.local/lib/python3.8/site-packages/pycaret/datasets.py?line=69'>70</a>\u001b[0m \u001b[39m# create a copy for pandas profiler\u001b[39;00m\n\u001b[1;32m     <a href='file:///home/vscode/.local/lib/python3.8/site-packages/pycaret/datasets.py?line=70'>71</a>\u001b[0m data_for_profiling \u001b[39m=\u001b[39m data\u001b[39m.\u001b[39mcopy()\n",
      "File \u001b[0;32m~/.local/lib/python3.8/site-packages/pandas/util/_decorators.py:311\u001b[0m, in \u001b[0;36mdeprecate_nonkeyword_arguments.<locals>.decorate.<locals>.wrapper\u001b[0;34m(*args, **kwargs)\u001b[0m\n\u001b[1;32m    <a href='file:///home/vscode/.local/lib/python3.8/site-packages/pandas/util/_decorators.py?line=304'>305</a>\u001b[0m \u001b[39mif\u001b[39;00m \u001b[39mlen\u001b[39m(args) \u001b[39m>\u001b[39m num_allow_args:\n\u001b[1;32m    <a href='file:///home/vscode/.local/lib/python3.8/site-packages/pandas/util/_decorators.py?line=305'>306</a>\u001b[0m     warnings\u001b[39m.\u001b[39mwarn(\n\u001b[1;32m    <a href='file:///home/vscode/.local/lib/python3.8/site-packages/pandas/util/_decorators.py?line=306'>307</a>\u001b[0m         msg\u001b[39m.\u001b[39mformat(arguments\u001b[39m=\u001b[39marguments),\n\u001b[1;32m    <a href='file:///home/vscode/.local/lib/python3.8/site-packages/pandas/util/_decorators.py?line=307'>308</a>\u001b[0m         \u001b[39mFutureWarning\u001b[39;00m,\n\u001b[1;32m    <a href='file:///home/vscode/.local/lib/python3.8/site-packages/pandas/util/_decorators.py?line=308'>309</a>\u001b[0m         stacklevel\u001b[39m=\u001b[39mstacklevel,\n\u001b[1;32m    <a href='file:///home/vscode/.local/lib/python3.8/site-packages/pandas/util/_decorators.py?line=309'>310</a>\u001b[0m     )\n\u001b[0;32m--> <a href='file:///home/vscode/.local/lib/python3.8/site-packages/pandas/util/_decorators.py?line=310'>311</a>\u001b[0m \u001b[39mreturn\u001b[39;00m func(\u001b[39m*\u001b[39;49margs, \u001b[39m*\u001b[39;49m\u001b[39m*\u001b[39;49mkwargs)\n",
      "File \u001b[0;32m~/.local/lib/python3.8/site-packages/pandas/io/parsers/readers.py:680\u001b[0m, in \u001b[0;36mread_csv\u001b[0;34m(filepath_or_buffer, sep, delimiter, header, names, index_col, usecols, squeeze, prefix, mangle_dupe_cols, dtype, engine, converters, true_values, false_values, skipinitialspace, skiprows, skipfooter, nrows, na_values, keep_default_na, na_filter, verbose, skip_blank_lines, parse_dates, infer_datetime_format, keep_date_col, date_parser, dayfirst, cache_dates, iterator, chunksize, compression, thousands, decimal, lineterminator, quotechar, quoting, doublequote, escapechar, comment, encoding, encoding_errors, dialect, error_bad_lines, warn_bad_lines, on_bad_lines, delim_whitespace, low_memory, memory_map, float_precision, storage_options)\u001b[0m\n\u001b[1;32m    <a href='file:///home/vscode/.local/lib/python3.8/site-packages/pandas/io/parsers/readers.py?line=664'>665</a>\u001b[0m kwds_defaults \u001b[39m=\u001b[39m _refine_defaults_read(\n\u001b[1;32m    <a href='file:///home/vscode/.local/lib/python3.8/site-packages/pandas/io/parsers/readers.py?line=665'>666</a>\u001b[0m     dialect,\n\u001b[1;32m    <a href='file:///home/vscode/.local/lib/python3.8/site-packages/pandas/io/parsers/readers.py?line=666'>667</a>\u001b[0m     delimiter,\n\u001b[0;32m   (...)\u001b[0m\n\u001b[1;32m    <a href='file:///home/vscode/.local/lib/python3.8/site-packages/pandas/io/parsers/readers.py?line=675'>676</a>\u001b[0m     defaults\u001b[39m=\u001b[39m{\u001b[39m\"\u001b[39m\u001b[39mdelimiter\u001b[39m\u001b[39m\"\u001b[39m: \u001b[39m\"\u001b[39m\u001b[39m,\u001b[39m\u001b[39m\"\u001b[39m},\n\u001b[1;32m    <a href='file:///home/vscode/.local/lib/python3.8/site-packages/pandas/io/parsers/readers.py?line=676'>677</a>\u001b[0m )\n\u001b[1;32m    <a href='file:///home/vscode/.local/lib/python3.8/site-packages/pandas/io/parsers/readers.py?line=677'>678</a>\u001b[0m kwds\u001b[39m.\u001b[39mupdate(kwds_defaults)\n\u001b[0;32m--> <a href='file:///home/vscode/.local/lib/python3.8/site-packages/pandas/io/parsers/readers.py?line=679'>680</a>\u001b[0m \u001b[39mreturn\u001b[39;00m _read(filepath_or_buffer, kwds)\n",
      "File \u001b[0;32m~/.local/lib/python3.8/site-packages/pandas/io/parsers/readers.py:575\u001b[0m, in \u001b[0;36m_read\u001b[0;34m(filepath_or_buffer, kwds)\u001b[0m\n\u001b[1;32m    <a href='file:///home/vscode/.local/lib/python3.8/site-packages/pandas/io/parsers/readers.py?line=571'>572</a>\u001b[0m _validate_names(kwds\u001b[39m.\u001b[39mget(\u001b[39m\"\u001b[39m\u001b[39mnames\u001b[39m\u001b[39m\"\u001b[39m, \u001b[39mNone\u001b[39;00m))\n\u001b[1;32m    <a href='file:///home/vscode/.local/lib/python3.8/site-packages/pandas/io/parsers/readers.py?line=573'>574</a>\u001b[0m \u001b[39m# Create the parser.\u001b[39;00m\n\u001b[0;32m--> <a href='file:///home/vscode/.local/lib/python3.8/site-packages/pandas/io/parsers/readers.py?line=574'>575</a>\u001b[0m parser \u001b[39m=\u001b[39m TextFileReader(filepath_or_buffer, \u001b[39m*\u001b[39;49m\u001b[39m*\u001b[39;49mkwds)\n\u001b[1;32m    <a href='file:///home/vscode/.local/lib/python3.8/site-packages/pandas/io/parsers/readers.py?line=576'>577</a>\u001b[0m \u001b[39mif\u001b[39;00m chunksize \u001b[39mor\u001b[39;00m iterator:\n\u001b[1;32m    <a href='file:///home/vscode/.local/lib/python3.8/site-packages/pandas/io/parsers/readers.py?line=577'>578</a>\u001b[0m     \u001b[39mreturn\u001b[39;00m parser\n",
      "File \u001b[0;32m~/.local/lib/python3.8/site-packages/pandas/io/parsers/readers.py:933\u001b[0m, in \u001b[0;36mTextFileReader.__init__\u001b[0;34m(self, f, engine, **kwds)\u001b[0m\n\u001b[1;32m    <a href='file:///home/vscode/.local/lib/python3.8/site-packages/pandas/io/parsers/readers.py?line=929'>930</a>\u001b[0m     \u001b[39mself\u001b[39m\u001b[39m.\u001b[39moptions[\u001b[39m\"\u001b[39m\u001b[39mhas_index_names\u001b[39m\u001b[39m\"\u001b[39m] \u001b[39m=\u001b[39m kwds[\u001b[39m\"\u001b[39m\u001b[39mhas_index_names\u001b[39m\u001b[39m\"\u001b[39m]\n\u001b[1;32m    <a href='file:///home/vscode/.local/lib/python3.8/site-packages/pandas/io/parsers/readers.py?line=931'>932</a>\u001b[0m \u001b[39mself\u001b[39m\u001b[39m.\u001b[39mhandles: IOHandles \u001b[39m|\u001b[39m \u001b[39mNone\u001b[39;00m \u001b[39m=\u001b[39m \u001b[39mNone\u001b[39;00m\n\u001b[0;32m--> <a href='file:///home/vscode/.local/lib/python3.8/site-packages/pandas/io/parsers/readers.py?line=932'>933</a>\u001b[0m \u001b[39mself\u001b[39m\u001b[39m.\u001b[39m_engine \u001b[39m=\u001b[39m \u001b[39mself\u001b[39;49m\u001b[39m.\u001b[39;49m_make_engine(f, \u001b[39mself\u001b[39;49m\u001b[39m.\u001b[39;49mengine)\n",
      "File \u001b[0;32m~/.local/lib/python3.8/site-packages/pandas/io/parsers/readers.py:1217\u001b[0m, in \u001b[0;36mTextFileReader._make_engine\u001b[0;34m(self, f, engine)\u001b[0m\n\u001b[1;32m   <a href='file:///home/vscode/.local/lib/python3.8/site-packages/pandas/io/parsers/readers.py?line=1212'>1213</a>\u001b[0m     mode \u001b[39m=\u001b[39m \u001b[39m\"\u001b[39m\u001b[39mrb\u001b[39m\u001b[39m\"\u001b[39m\n\u001b[1;32m   <a href='file:///home/vscode/.local/lib/python3.8/site-packages/pandas/io/parsers/readers.py?line=1213'>1214</a>\u001b[0m \u001b[39m# error: No overload variant of \"get_handle\" matches argument types\u001b[39;00m\n\u001b[1;32m   <a href='file:///home/vscode/.local/lib/python3.8/site-packages/pandas/io/parsers/readers.py?line=1214'>1215</a>\u001b[0m \u001b[39m# \"Union[str, PathLike[str], ReadCsvBuffer[bytes], ReadCsvBuffer[str]]\"\u001b[39;00m\n\u001b[1;32m   <a href='file:///home/vscode/.local/lib/python3.8/site-packages/pandas/io/parsers/readers.py?line=1215'>1216</a>\u001b[0m \u001b[39m# , \"str\", \"bool\", \"Any\", \"Any\", \"Any\", \"Any\", \"Any\"\u001b[39;00m\n\u001b[0;32m-> <a href='file:///home/vscode/.local/lib/python3.8/site-packages/pandas/io/parsers/readers.py?line=1216'>1217</a>\u001b[0m \u001b[39mself\u001b[39m\u001b[39m.\u001b[39mhandles \u001b[39m=\u001b[39m get_handle(  \u001b[39m# type: ignore[call-overload]\u001b[39;49;00m\n\u001b[1;32m   <a href='file:///home/vscode/.local/lib/python3.8/site-packages/pandas/io/parsers/readers.py?line=1217'>1218</a>\u001b[0m     f,\n\u001b[1;32m   <a href='file:///home/vscode/.local/lib/python3.8/site-packages/pandas/io/parsers/readers.py?line=1218'>1219</a>\u001b[0m     mode,\n\u001b[1;32m   <a href='file:///home/vscode/.local/lib/python3.8/site-packages/pandas/io/parsers/readers.py?line=1219'>1220</a>\u001b[0m     encoding\u001b[39m=\u001b[39;49m\u001b[39mself\u001b[39;49m\u001b[39m.\u001b[39;49moptions\u001b[39m.\u001b[39;49mget(\u001b[39m\"\u001b[39;49m\u001b[39mencoding\u001b[39;49m\u001b[39m\"\u001b[39;49m, \u001b[39mNone\u001b[39;49;00m),\n\u001b[1;32m   <a href='file:///home/vscode/.local/lib/python3.8/site-packages/pandas/io/parsers/readers.py?line=1220'>1221</a>\u001b[0m     compression\u001b[39m=\u001b[39;49m\u001b[39mself\u001b[39;49m\u001b[39m.\u001b[39;49moptions\u001b[39m.\u001b[39;49mget(\u001b[39m\"\u001b[39;49m\u001b[39mcompression\u001b[39;49m\u001b[39m\"\u001b[39;49m, \u001b[39mNone\u001b[39;49;00m),\n\u001b[1;32m   <a href='file:///home/vscode/.local/lib/python3.8/site-packages/pandas/io/parsers/readers.py?line=1221'>1222</a>\u001b[0m     memory_map\u001b[39m=\u001b[39;49m\u001b[39mself\u001b[39;49m\u001b[39m.\u001b[39;49moptions\u001b[39m.\u001b[39;49mget(\u001b[39m\"\u001b[39;49m\u001b[39mmemory_map\u001b[39;49m\u001b[39m\"\u001b[39;49m, \u001b[39mFalse\u001b[39;49;00m),\n\u001b[1;32m   <a href='file:///home/vscode/.local/lib/python3.8/site-packages/pandas/io/parsers/readers.py?line=1222'>1223</a>\u001b[0m     is_text\u001b[39m=\u001b[39;49mis_text,\n\u001b[1;32m   <a href='file:///home/vscode/.local/lib/python3.8/site-packages/pandas/io/parsers/readers.py?line=1223'>1224</a>\u001b[0m     errors\u001b[39m=\u001b[39;49m\u001b[39mself\u001b[39;49m\u001b[39m.\u001b[39;49moptions\u001b[39m.\u001b[39;49mget(\u001b[39m\"\u001b[39;49m\u001b[39mencoding_errors\u001b[39;49m\u001b[39m\"\u001b[39;49m, \u001b[39m\"\u001b[39;49m\u001b[39mstrict\u001b[39;49m\u001b[39m\"\u001b[39;49m),\n\u001b[1;32m   <a href='file:///home/vscode/.local/lib/python3.8/site-packages/pandas/io/parsers/readers.py?line=1224'>1225</a>\u001b[0m     storage_options\u001b[39m=\u001b[39;49m\u001b[39mself\u001b[39;49m\u001b[39m.\u001b[39;49moptions\u001b[39m.\u001b[39;49mget(\u001b[39m\"\u001b[39;49m\u001b[39mstorage_options\u001b[39;49m\u001b[39m\"\u001b[39;49m, \u001b[39mNone\u001b[39;49;00m),\n\u001b[1;32m   <a href='file:///home/vscode/.local/lib/python3.8/site-packages/pandas/io/parsers/readers.py?line=1225'>1226</a>\u001b[0m )\n\u001b[1;32m   <a href='file:///home/vscode/.local/lib/python3.8/site-packages/pandas/io/parsers/readers.py?line=1226'>1227</a>\u001b[0m \u001b[39massert\u001b[39;00m \u001b[39mself\u001b[39m\u001b[39m.\u001b[39mhandles \u001b[39mis\u001b[39;00m \u001b[39mnot\u001b[39;00m \u001b[39mNone\u001b[39;00m\n\u001b[1;32m   <a href='file:///home/vscode/.local/lib/python3.8/site-packages/pandas/io/parsers/readers.py?line=1227'>1228</a>\u001b[0m f \u001b[39m=\u001b[39m \u001b[39mself\u001b[39m\u001b[39m.\u001b[39mhandles\u001b[39m.\u001b[39mhandle\n",
      "File \u001b[0;32m~/.local/lib/python3.8/site-packages/pandas/io/common.py:670\u001b[0m, in \u001b[0;36mget_handle\u001b[0;34m(path_or_buf, mode, encoding, compression, memory_map, is_text, errors, storage_options)\u001b[0m\n\u001b[1;32m    <a href='file:///home/vscode/.local/lib/python3.8/site-packages/pandas/io/common.py?line=666'>667</a>\u001b[0m     codecs\u001b[39m.\u001b[39mlookup_error(errors)\n\u001b[1;32m    <a href='file:///home/vscode/.local/lib/python3.8/site-packages/pandas/io/common.py?line=668'>669</a>\u001b[0m \u001b[39m# open URLs\u001b[39;00m\n\u001b[0;32m--> <a href='file:///home/vscode/.local/lib/python3.8/site-packages/pandas/io/common.py?line=669'>670</a>\u001b[0m ioargs \u001b[39m=\u001b[39m _get_filepath_or_buffer(\n\u001b[1;32m    <a href='file:///home/vscode/.local/lib/python3.8/site-packages/pandas/io/common.py?line=670'>671</a>\u001b[0m     path_or_buf,\n\u001b[1;32m    <a href='file:///home/vscode/.local/lib/python3.8/site-packages/pandas/io/common.py?line=671'>672</a>\u001b[0m     encoding\u001b[39m=\u001b[39;49mencoding,\n\u001b[1;32m    <a href='file:///home/vscode/.local/lib/python3.8/site-packages/pandas/io/common.py?line=672'>673</a>\u001b[0m     compression\u001b[39m=\u001b[39;49mcompression,\n\u001b[1;32m    <a href='file:///home/vscode/.local/lib/python3.8/site-packages/pandas/io/common.py?line=673'>674</a>\u001b[0m     mode\u001b[39m=\u001b[39;49mmode,\n\u001b[1;32m    <a href='file:///home/vscode/.local/lib/python3.8/site-packages/pandas/io/common.py?line=674'>675</a>\u001b[0m     storage_options\u001b[39m=\u001b[39;49mstorage_options,\n\u001b[1;32m    <a href='file:///home/vscode/.local/lib/python3.8/site-packages/pandas/io/common.py?line=675'>676</a>\u001b[0m )\n\u001b[1;32m    <a href='file:///home/vscode/.local/lib/python3.8/site-packages/pandas/io/common.py?line=677'>678</a>\u001b[0m handle \u001b[39m=\u001b[39m ioargs\u001b[39m.\u001b[39mfilepath_or_buffer\n\u001b[1;32m    <a href='file:///home/vscode/.local/lib/python3.8/site-packages/pandas/io/common.py?line=678'>679</a>\u001b[0m handles: \u001b[39mlist\u001b[39m[BaseBuffer]\n",
      "File \u001b[0;32m~/.local/lib/python3.8/site-packages/pandas/io/common.py:339\u001b[0m, in \u001b[0;36m_get_filepath_or_buffer\u001b[0;34m(filepath_or_buffer, encoding, compression, mode, storage_options)\u001b[0m\n\u001b[1;32m    <a href='file:///home/vscode/.local/lib/python3.8/site-packages/pandas/io/common.py?line=336'>337</a>\u001b[0m \u001b[39m# assuming storage_options is to be interpreted as headers\u001b[39;00m\n\u001b[1;32m    <a href='file:///home/vscode/.local/lib/python3.8/site-packages/pandas/io/common.py?line=337'>338</a>\u001b[0m req_info \u001b[39m=\u001b[39m urllib\u001b[39m.\u001b[39mrequest\u001b[39m.\u001b[39mRequest(filepath_or_buffer, headers\u001b[39m=\u001b[39mstorage_options)\n\u001b[0;32m--> <a href='file:///home/vscode/.local/lib/python3.8/site-packages/pandas/io/common.py?line=338'>339</a>\u001b[0m \u001b[39mwith\u001b[39;00m urlopen(req_info) \u001b[39mas\u001b[39;00m req:\n\u001b[1;32m    <a href='file:///home/vscode/.local/lib/python3.8/site-packages/pandas/io/common.py?line=339'>340</a>\u001b[0m     content_encoding \u001b[39m=\u001b[39m req\u001b[39m.\u001b[39mheaders\u001b[39m.\u001b[39mget(\u001b[39m\"\u001b[39m\u001b[39mContent-Encoding\u001b[39m\u001b[39m\"\u001b[39m, \u001b[39mNone\u001b[39;00m)\n\u001b[1;32m    <a href='file:///home/vscode/.local/lib/python3.8/site-packages/pandas/io/common.py?line=340'>341</a>\u001b[0m     \u001b[39mif\u001b[39;00m content_encoding \u001b[39m==\u001b[39m \u001b[39m\"\u001b[39m\u001b[39mgzip\u001b[39m\u001b[39m\"\u001b[39m:\n\u001b[1;32m    <a href='file:///home/vscode/.local/lib/python3.8/site-packages/pandas/io/common.py?line=341'>342</a>\u001b[0m         \u001b[39m# Override compression based on Content-Encoding header\u001b[39;00m\n",
      "File \u001b[0;32m~/.local/lib/python3.8/site-packages/pandas/io/common.py:239\u001b[0m, in \u001b[0;36murlopen\u001b[0;34m(*args, **kwargs)\u001b[0m\n\u001b[1;32m    <a href='file:///home/vscode/.local/lib/python3.8/site-packages/pandas/io/common.py?line=232'>233</a>\u001b[0m \u001b[39m\"\"\"\u001b[39;00m\n\u001b[1;32m    <a href='file:///home/vscode/.local/lib/python3.8/site-packages/pandas/io/common.py?line=233'>234</a>\u001b[0m \u001b[39mLazy-import wrapper for stdlib urlopen, as that imports a big chunk of\u001b[39;00m\n\u001b[1;32m    <a href='file:///home/vscode/.local/lib/python3.8/site-packages/pandas/io/common.py?line=234'>235</a>\u001b[0m \u001b[39mthe stdlib.\u001b[39;00m\n\u001b[1;32m    <a href='file:///home/vscode/.local/lib/python3.8/site-packages/pandas/io/common.py?line=235'>236</a>\u001b[0m \u001b[39m\"\"\"\u001b[39;00m\n\u001b[1;32m    <a href='file:///home/vscode/.local/lib/python3.8/site-packages/pandas/io/common.py?line=236'>237</a>\u001b[0m \u001b[39mimport\u001b[39;00m \u001b[39murllib\u001b[39;00m\u001b[39m.\u001b[39;00m\u001b[39mrequest\u001b[39;00m\n\u001b[0;32m--> <a href='file:///home/vscode/.local/lib/python3.8/site-packages/pandas/io/common.py?line=238'>239</a>\u001b[0m \u001b[39mreturn\u001b[39;00m urllib\u001b[39m.\u001b[39;49mrequest\u001b[39m.\u001b[39;49murlopen(\u001b[39m*\u001b[39;49margs, \u001b[39m*\u001b[39;49m\u001b[39m*\u001b[39;49mkwargs)\n",
      "File \u001b[0;32m/usr/local/lib/python3.8/urllib/request.py:222\u001b[0m, in \u001b[0;36murlopen\u001b[0;34m(url, data, timeout, cafile, capath, cadefault, context)\u001b[0m\n\u001b[1;32m    <a href='file:///usr/local/lib/python3.8/urllib/request.py?line=219'>220</a>\u001b[0m \u001b[39melse\u001b[39;00m:\n\u001b[1;32m    <a href='file:///usr/local/lib/python3.8/urllib/request.py?line=220'>221</a>\u001b[0m     opener \u001b[39m=\u001b[39m _opener\n\u001b[0;32m--> <a href='file:///usr/local/lib/python3.8/urllib/request.py?line=221'>222</a>\u001b[0m \u001b[39mreturn\u001b[39;00m opener\u001b[39m.\u001b[39;49mopen(url, data, timeout)\n",
      "File \u001b[0;32m/usr/local/lib/python3.8/urllib/request.py:531\u001b[0m, in \u001b[0;36mOpenerDirector.open\u001b[0;34m(self, fullurl, data, timeout)\u001b[0m\n\u001b[1;32m    <a href='file:///usr/local/lib/python3.8/urllib/request.py?line=528'>529</a>\u001b[0m \u001b[39mfor\u001b[39;00m processor \u001b[39min\u001b[39;00m \u001b[39mself\u001b[39m\u001b[39m.\u001b[39mprocess_response\u001b[39m.\u001b[39mget(protocol, []):\n\u001b[1;32m    <a href='file:///usr/local/lib/python3.8/urllib/request.py?line=529'>530</a>\u001b[0m     meth \u001b[39m=\u001b[39m \u001b[39mgetattr\u001b[39m(processor, meth_name)\n\u001b[0;32m--> <a href='file:///usr/local/lib/python3.8/urllib/request.py?line=530'>531</a>\u001b[0m     response \u001b[39m=\u001b[39m meth(req, response)\n\u001b[1;32m    <a href='file:///usr/local/lib/python3.8/urllib/request.py?line=532'>533</a>\u001b[0m \u001b[39mreturn\u001b[39;00m response\n",
      "File \u001b[0;32m/usr/local/lib/python3.8/urllib/request.py:640\u001b[0m, in \u001b[0;36mHTTPErrorProcessor.http_response\u001b[0;34m(self, request, response)\u001b[0m\n\u001b[1;32m    <a href='file:///usr/local/lib/python3.8/urllib/request.py?line=636'>637</a>\u001b[0m \u001b[39m# According to RFC 2616, \"2xx\" code indicates that the client's\u001b[39;00m\n\u001b[1;32m    <a href='file:///usr/local/lib/python3.8/urllib/request.py?line=637'>638</a>\u001b[0m \u001b[39m# request was successfully received, understood, and accepted.\u001b[39;00m\n\u001b[1;32m    <a href='file:///usr/local/lib/python3.8/urllib/request.py?line=638'>639</a>\u001b[0m \u001b[39mif\u001b[39;00m \u001b[39mnot\u001b[39;00m (\u001b[39m200\u001b[39m \u001b[39m<\u001b[39m\u001b[39m=\u001b[39m code \u001b[39m<\u001b[39m \u001b[39m300\u001b[39m):\n\u001b[0;32m--> <a href='file:///usr/local/lib/python3.8/urllib/request.py?line=639'>640</a>\u001b[0m     response \u001b[39m=\u001b[39m \u001b[39mself\u001b[39;49m\u001b[39m.\u001b[39;49mparent\u001b[39m.\u001b[39;49merror(\n\u001b[1;32m    <a href='file:///usr/local/lib/python3.8/urllib/request.py?line=640'>641</a>\u001b[0m         \u001b[39m'\u001b[39;49m\u001b[39mhttp\u001b[39;49m\u001b[39m'\u001b[39;49m, request, response, code, msg, hdrs)\n\u001b[1;32m    <a href='file:///usr/local/lib/python3.8/urllib/request.py?line=642'>643</a>\u001b[0m \u001b[39mreturn\u001b[39;00m response\n",
      "File \u001b[0;32m/usr/local/lib/python3.8/urllib/request.py:569\u001b[0m, in \u001b[0;36mOpenerDirector.error\u001b[0;34m(self, proto, *args)\u001b[0m\n\u001b[1;32m    <a href='file:///usr/local/lib/python3.8/urllib/request.py?line=566'>567</a>\u001b[0m \u001b[39mif\u001b[39;00m http_err:\n\u001b[1;32m    <a href='file:///usr/local/lib/python3.8/urllib/request.py?line=567'>568</a>\u001b[0m     args \u001b[39m=\u001b[39m (\u001b[39mdict\u001b[39m, \u001b[39m'\u001b[39m\u001b[39mdefault\u001b[39m\u001b[39m'\u001b[39m, \u001b[39m'\u001b[39m\u001b[39mhttp_error_default\u001b[39m\u001b[39m'\u001b[39m) \u001b[39m+\u001b[39m orig_args\n\u001b[0;32m--> <a href='file:///usr/local/lib/python3.8/urllib/request.py?line=568'>569</a>\u001b[0m     \u001b[39mreturn\u001b[39;00m \u001b[39mself\u001b[39;49m\u001b[39m.\u001b[39;49m_call_chain(\u001b[39m*\u001b[39;49margs)\n",
      "File \u001b[0;32m/usr/local/lib/python3.8/urllib/request.py:502\u001b[0m, in \u001b[0;36mOpenerDirector._call_chain\u001b[0;34m(self, chain, kind, meth_name, *args)\u001b[0m\n\u001b[1;32m    <a href='file:///usr/local/lib/python3.8/urllib/request.py?line=499'>500</a>\u001b[0m \u001b[39mfor\u001b[39;00m handler \u001b[39min\u001b[39;00m handlers:\n\u001b[1;32m    <a href='file:///usr/local/lib/python3.8/urllib/request.py?line=500'>501</a>\u001b[0m     func \u001b[39m=\u001b[39m \u001b[39mgetattr\u001b[39m(handler, meth_name)\n\u001b[0;32m--> <a href='file:///usr/local/lib/python3.8/urllib/request.py?line=501'>502</a>\u001b[0m     result \u001b[39m=\u001b[39m func(\u001b[39m*\u001b[39;49margs)\n\u001b[1;32m    <a href='file:///usr/local/lib/python3.8/urllib/request.py?line=502'>503</a>\u001b[0m     \u001b[39mif\u001b[39;00m result \u001b[39mis\u001b[39;00m \u001b[39mnot\u001b[39;00m \u001b[39mNone\u001b[39;00m:\n\u001b[1;32m    <a href='file:///usr/local/lib/python3.8/urllib/request.py?line=503'>504</a>\u001b[0m         \u001b[39mreturn\u001b[39;00m result\n",
      "File \u001b[0;32m/usr/local/lib/python3.8/urllib/request.py:649\u001b[0m, in \u001b[0;36mHTTPDefaultErrorHandler.http_error_default\u001b[0;34m(self, req, fp, code, msg, hdrs)\u001b[0m\n\u001b[1;32m    <a href='file:///usr/local/lib/python3.8/urllib/request.py?line=647'>648</a>\u001b[0m \u001b[39mdef\u001b[39;00m \u001b[39mhttp_error_default\u001b[39m(\u001b[39mself\u001b[39m, req, fp, code, msg, hdrs):\n\u001b[0;32m--> <a href='file:///usr/local/lib/python3.8/urllib/request.py?line=648'>649</a>\u001b[0m     \u001b[39mraise\u001b[39;00m HTTPError(req\u001b[39m.\u001b[39mfull_url, code, msg, hdrs, fp)\n",
      "\u001b[0;31mHTTPError\u001b[0m: HTTP Error 503: first byte timeout"
     ]
    }
   ],
   "source": [
    "from pycaret.datasets import get_data\n",
    "data = get_data('kiva')"
   ]
  },
  {
   "cell_type": "code",
   "execution_count": null,
   "metadata": {},
   "outputs": [
    {
     "data": {
      "text/html": [
       "<div>\n",
       "<style scoped>\n",
       "    .dataframe tbody tr th:only-of-type {\n",
       "        vertical-align: middle;\n",
       "    }\n",
       "\n",
       "    .dataframe tbody tr th {\n",
       "        vertical-align: top;\n",
       "    }\n",
       "\n",
       "    .dataframe thead th {\n",
       "        text-align: right;\n",
       "    }\n",
       "</style>\n",
       "<table border=\"1\" class=\"dataframe\">\n",
       "  <thead>\n",
       "    <tr style=\"text-align: right;\">\n",
       "      <th></th>\n",
       "      <th>category</th>\n",
       "      <th>headline</th>\n",
       "    </tr>\n",
       "  </thead>\n",
       "  <tbody>\n",
       "    <tr>\n",
       "      <th>0</th>\n",
       "      <td>ENTERTAINMENT</td>\n",
       "      <td>Will Smith Joins Diplo And Nicky Jam For The 2...</td>\n",
       "    </tr>\n",
       "    <tr>\n",
       "      <th>1</th>\n",
       "      <td>ENTERTAINMENT</td>\n",
       "      <td>Hugh Grant Marries For The First Time At Age 57</td>\n",
       "    </tr>\n",
       "    <tr>\n",
       "      <th>2</th>\n",
       "      <td>ENTERTAINMENT</td>\n",
       "      <td>Jim Carrey Blasts 'Castrato' Adam Schiff And D...</td>\n",
       "    </tr>\n",
       "    <tr>\n",
       "      <th>3</th>\n",
       "      <td>ENTERTAINMENT</td>\n",
       "      <td>Julianna Margulies Uses Donald Trump Poop Bags...</td>\n",
       "    </tr>\n",
       "    <tr>\n",
       "      <th>4</th>\n",
       "      <td>ENTERTAINMENT</td>\n",
       "      <td>Morgan Freeman 'Devastated' That Sexual Harass...</td>\n",
       "    </tr>\n",
       "  </tbody>\n",
       "</table>\n",
       "</div>"
      ],
      "text/plain": [
       "        category                                           headline\n",
       "0  ENTERTAINMENT  Will Smith Joins Diplo And Nicky Jam For The 2...\n",
       "1  ENTERTAINMENT    Hugh Grant Marries For The First Time At Age 57\n",
       "2  ENTERTAINMENT  Jim Carrey Blasts 'Castrato' Adam Schiff And D...\n",
       "3  ENTERTAINMENT  Julianna Margulies Uses Donald Trump Poop Bags...\n",
       "4  ENTERTAINMENT  Morgan Freeman 'Devastated' That Sexual Harass..."
      ]
     },
     "execution_count": 1,
     "metadata": {},
     "output_type": "execute_result"
    }
   ],
   "source": [
    "import pandas as pd\n",
    "data = pd.read_csv(\"news_headlines.csv\")\n",
    "\n",
    "data.head()"
   ]
  },
  {
   "cell_type": "code",
   "execution_count": null,
   "metadata": {},
   "outputs": [
    {
     "data": {
      "text/plain": [
       "(50878, 2)"
      ]
     },
     "execution_count": 2,
     "metadata": {},
     "output_type": "execute_result"
    }
   ],
   "source": [
    "#check the shape of data\n",
    "data.shape"
   ]
  },
  {
   "cell_type": "code",
   "execution_count": null,
   "metadata": {},
   "outputs": [
    {
     "data": {
      "text/plain": [
       "(1000, 2)"
      ]
     },
     "execution_count": 3,
     "metadata": {},
     "output_type": "execute_result"
    }
   ],
   "source": [
    "# sampling the data to select only 1000 documents\n",
    "data = data.sample(1000, random_state=786).reset_index(drop=True)\n",
    "data.shape"
   ]
  },
  {
   "cell_type": "code",
   "execution_count": null,
   "metadata": {},
   "outputs": [],
   "source": [
    "from pycaret.nlp import *"
   ]
  },
  {
   "cell_type": "code",
   "execution_count": null,
   "metadata": {},
   "outputs": [
    {
     "data": {
      "text/html": [
       "<style type=\"text/css\">\n",
       "</style>\n",
       "<table id=\"T_056fb\">\n",
       "  <thead>\n",
       "    <tr>\n",
       "      <th id=\"T_056fb_level0_col0\" class=\"col_heading level0 col0\" >Description</th>\n",
       "      <th id=\"T_056fb_level0_col1\" class=\"col_heading level0 col1\" >Value</th>\n",
       "    </tr>\n",
       "  </thead>\n",
       "  <tbody>\n",
       "    <tr>\n",
       "      <td id=\"T_056fb_row0_col0\" class=\"data row0 col0\" >session_id</td>\n",
       "      <td id=\"T_056fb_row0_col1\" class=\"data row0 col1\" >123</td>\n",
       "    </tr>\n",
       "    <tr>\n",
       "      <td id=\"T_056fb_row1_col0\" class=\"data row1 col0\" >Documents</td>\n",
       "      <td id=\"T_056fb_row1_col1\" class=\"data row1 col1\" >1000</td>\n",
       "    </tr>\n",
       "    <tr>\n",
       "      <td id=\"T_056fb_row2_col0\" class=\"data row2 col0\" >Vocab Size</td>\n",
       "      <td id=\"T_056fb_row2_col1\" class=\"data row2 col1\" >1855</td>\n",
       "    </tr>\n",
       "    <tr>\n",
       "      <td id=\"T_056fb_row3_col0\" class=\"data row3 col0\" >Custom Stopwords</td>\n",
       "      <td id=\"T_056fb_row3_col1\" class=\"data row3 col1\" >False</td>\n",
       "    </tr>\n",
       "  </tbody>\n",
       "</table>\n"
      ],
      "text/plain": [
       "<pandas.io.formats.style.Styler at 0x7f61459e34f0>"
      ]
     },
     "metadata": {},
     "output_type": "display_data"
    }
   ],
   "source": [
    "exp_nlp101 = setup(data = data, target = 'headline', session_id = 123)"
   ]
  },
  {
   "cell_type": "code",
   "execution_count": null,
   "metadata": {},
   "outputs": [],
   "source": [
    "lda = create_model('lda')"
   ]
  },
  {
   "cell_type": "code",
   "execution_count": null,
   "metadata": {},
   "outputs": [
    {
     "name": "stdout",
     "output_type": "stream",
     "text": [
      "LdaModel(num_terms=1855, num_topics=4, decay=0.5, chunksize=100)\n"
     ]
    }
   ],
   "source": [
    "print(lda)"
   ]
  },
  {
   "cell_type": "code",
   "execution_count": null,
   "metadata": {},
   "outputs": [
    {
     "data": {
      "text/html": [
       "<div>\n",
       "<style scoped>\n",
       "    .dataframe tbody tr th:only-of-type {\n",
       "        vertical-align: middle;\n",
       "    }\n",
       "\n",
       "    .dataframe tbody tr th {\n",
       "        vertical-align: top;\n",
       "    }\n",
       "\n",
       "    .dataframe thead th {\n",
       "        text-align: right;\n",
       "    }\n",
       "</style>\n",
       "<table border=\"1\" class=\"dataframe\">\n",
       "  <thead>\n",
       "    <tr style=\"text-align: right;\">\n",
       "      <th></th>\n",
       "      <th>category</th>\n",
       "      <th>headline</th>\n",
       "      <th>Topic_0</th>\n",
       "      <th>Topic_1</th>\n",
       "      <th>Topic_2</th>\n",
       "      <th>Topic_3</th>\n",
       "      <th>Dominant_Topic</th>\n",
       "      <th>Perc_Dominant_Topic</th>\n",
       "    </tr>\n",
       "  </thead>\n",
       "  <tbody>\n",
       "    <tr>\n",
       "      <th>0</th>\n",
       "      <td>POLITICS</td>\n",
       "      <td>photo feature embarrass trump style misspelling</td>\n",
       "      <td>0.040092</td>\n",
       "      <td>0.867936</td>\n",
       "      <td>0.046046</td>\n",
       "      <td>0.045926</td>\n",
       "      <td>Topic 1</td>\n",
       "      <td>0.87</td>\n",
       "    </tr>\n",
       "    <tr>\n",
       "      <th>1</th>\n",
       "      <td>POLITICS</td>\n",
       "      <td>delight label fake news</td>\n",
       "      <td>0.054299</td>\n",
       "      <td>0.049319</td>\n",
       "      <td>0.841643</td>\n",
       "      <td>0.054740</td>\n",
       "      <td>Topic 2</td>\n",
       "      <td>0.84</td>\n",
       "    </tr>\n",
       "    <tr>\n",
       "      <th>2</th>\n",
       "      <td>POLITICS</td>\n",
       "      <td>exclusive public school teacher nationalist po...</td>\n",
       "      <td>0.882147</td>\n",
       "      <td>0.035418</td>\n",
       "      <td>0.043128</td>\n",
       "      <td>0.039307</td>\n",
       "      <td>Topic 0</td>\n",
       "      <td>0.88</td>\n",
       "    </tr>\n",
       "    <tr>\n",
       "      <th>3</th>\n",
       "      <td>POLITICS</td>\n",
       "      <td>comment year</td>\n",
       "      <td>0.088879</td>\n",
       "      <td>0.080784</td>\n",
       "      <td>0.098276</td>\n",
       "      <td>0.732062</td>\n",
       "      <td>Topic 3</td>\n",
       "      <td>0.73</td>\n",
       "    </tr>\n",
       "    <tr>\n",
       "      <th>4</th>\n",
       "      <td>POLITICS</td>\n",
       "      <td>speaker get behind always way</td>\n",
       "      <td>0.692336</td>\n",
       "      <td>0.041321</td>\n",
       "      <td>0.050377</td>\n",
       "      <td>0.215966</td>\n",
       "      <td>Topic 0</td>\n",
       "      <td>0.69</td>\n",
       "    </tr>\n",
       "  </tbody>\n",
       "</table>\n",
       "</div>"
      ],
      "text/plain": [
       "   category                                           headline   Topic_0  \\\n",
       "0  POLITICS    photo feature embarrass trump style misspelling  0.040092   \n",
       "1  POLITICS                            delight label fake news  0.054299   \n",
       "2  POLITICS  exclusive public school teacher nationalist po...  0.882147   \n",
       "3  POLITICS                                       comment year  0.088879   \n",
       "4  POLITICS                      speaker get behind always way  0.692336   \n",
       "\n",
       "    Topic_1   Topic_2   Topic_3 Dominant_Topic  Perc_Dominant_Topic  \n",
       "0  0.867936  0.046046  0.045926        Topic 1                 0.87  \n",
       "1  0.049319  0.841643  0.054740        Topic 2                 0.84  \n",
       "2  0.035418  0.043128  0.039307        Topic 0                 0.88  \n",
       "3  0.080784  0.098276  0.732062        Topic 3                 0.73  \n",
       "4  0.041321  0.050377  0.215966        Topic 0                 0.69  "
      ]
     },
     "execution_count": 8,
     "metadata": {},
     "output_type": "execute_result"
    }
   ],
   "source": [
    "lda_results = assign_model(lda)\n",
    "lda_results.head()"
   ]
  },
  {
   "cell_type": "code",
   "execution_count": null,
   "metadata": {},
   "outputs": [
    {
     "data": {
      "text/html": [
       "        <script type=\"text/javascript\">\n",
       "        window.PlotlyConfig = {MathJaxConfig: 'local'};\n",
       "        if (window.MathJax && window.MathJax.Hub && window.MathJax.Hub.Config) {window.MathJax.Hub.Config({SVG: {font: \"STIX-Web\"}});}\n",
       "        if (typeof require !== 'undefined') {\n",
       "        require.undef(\"plotly\");\n",
       "        requirejs.config({\n",
       "            paths: {\n",
       "                'plotly': ['https://cdn.plot.ly/plotly-2.12.1.min']\n",
       "            }\n",
       "        });\n",
       "        require(['plotly'], function(Plotly) {\n",
       "            window._Plotly = Plotly;\n",
       "        });\n",
       "        }\n",
       "        </script>\n",
       "        "
      ]
     },
     "metadata": {},
     "output_type": "display_data"
    },
    {
     "data": {
      "application/vnd.plotly.v1+json": {
       "config": {
        "linkText": "Export to plot.ly",
        "plotlyServerURL": "https://plot.ly",
        "showLink": true
       },
       "data": [
        {
         "marker": {
          "color": "rgba(255, 153, 51, 0.6)",
          "line": {
           "color": "rgba(255, 153, 51, 1.0)",
           "width": 1
          }
         },
         "name": "count",
         "orientation": "v",
         "text": "",
         "type": "bar",
         "x": [
          "trump",
          "say",
          "new",
          "year",
          "people",
          "make",
          "go",
          "want",
          "get",
          "call",
          "may",
          "state",
          "gun",
          "think",
          "woman",
          "election",
          "vote",
          "show",
          "look",
          "give",
          "take",
          "back",
          "watch",
          "plan",
          "could",
          "know",
          "man",
          "kill",
          "season",
          "help",
          "tax",
          "presidential",
          "right",
          "need",
          "still",
          "time",
          "film",
          "tell",
          "video",
          "end",
          "fan",
          "good",
          "use",
          "voter",
          "first",
          "push",
          "explain",
          "reveal",
          "see",
          "rule",
          "big",
          "student",
          "come",
          "campaign",
          "black",
          "well",
          "movie",
          "debate",
          "even",
          "change",
          "child",
          "hope",
          "happen",
          "game",
          "next",
          "find",
          "week",
          "family",
          "democratic",
          "would",
          "fight",
          "late",
          "rise",
          "law",
          "leave",
          "race",
          "way",
          "life",
          "try",
          "president",
          "poll",
          "political",
          "war",
          "bill",
          "old",
          "bad",
          "office",
          "teacher",
          "talk",
          "promise",
          "pay",
          "comment",
          "award",
          "love",
          "let",
          "keep",
          "former",
          "defend",
          "day",
          "assault"
         ],
         "y": [
          78,
          45,
          28,
          23,
          23,
          22,
          22,
          21,
          19,
          18,
          16,
          15,
          15,
          14,
          14,
          14,
          14,
          13,
          13,
          13,
          13,
          13,
          13,
          13,
          13,
          12,
          12,
          12,
          12,
          12,
          12,
          11,
          11,
          11,
          11,
          11,
          11,
          11,
          11,
          11,
          11,
          10,
          10,
          10,
          10,
          10,
          10,
          9,
          9,
          9,
          9,
          9,
          9,
          9,
          9,
          9,
          9,
          9,
          9,
          9,
          9,
          8,
          8,
          8,
          8,
          8,
          8,
          8,
          8,
          8,
          8,
          8,
          8,
          8,
          8,
          8,
          8,
          8,
          8,
          8,
          8,
          8,
          8,
          8,
          8,
          8,
          7,
          7,
          7,
          7,
          7,
          7,
          7,
          7,
          7,
          7,
          7,
          7,
          7,
          7
         ]
        }
       ],
       "layout": {
        "legend": {
         "bgcolor": "#F5F6F9",
         "font": {
          "color": "#4D5663"
         }
        },
        "paper_bgcolor": "#F5F6F9",
        "plot_bgcolor": "#F5F6F9",
        "template": {
         "data": {
          "bar": [
           {
            "error_x": {
             "color": "#2a3f5f"
            },
            "error_y": {
             "color": "#2a3f5f"
            },
            "marker": {
             "line": {
              "color": "#E5ECF6",
              "width": 0.5
             },
             "pattern": {
              "fillmode": "overlay",
              "size": 10,
              "solidity": 0.2
             }
            },
            "type": "bar"
           }
          ],
          "barpolar": [
           {
            "marker": {
             "line": {
              "color": "#E5ECF6",
              "width": 0.5
             },
             "pattern": {
              "fillmode": "overlay",
              "size": 10,
              "solidity": 0.2
             }
            },
            "type": "barpolar"
           }
          ],
          "carpet": [
           {
            "aaxis": {
             "endlinecolor": "#2a3f5f",
             "gridcolor": "white",
             "linecolor": "white",
             "minorgridcolor": "white",
             "startlinecolor": "#2a3f5f"
            },
            "baxis": {
             "endlinecolor": "#2a3f5f",
             "gridcolor": "white",
             "linecolor": "white",
             "minorgridcolor": "white",
             "startlinecolor": "#2a3f5f"
            },
            "type": "carpet"
           }
          ],
          "choropleth": [
           {
            "colorbar": {
             "outlinewidth": 0,
             "ticks": ""
            },
            "type": "choropleth"
           }
          ],
          "contour": [
           {
            "colorbar": {
             "outlinewidth": 0,
             "ticks": ""
            },
            "colorscale": [
             [
              0,
              "#0d0887"
             ],
             [
              0.1111111111111111,
              "#46039f"
             ],
             [
              0.2222222222222222,
              "#7201a8"
             ],
             [
              0.3333333333333333,
              "#9c179e"
             ],
             [
              0.4444444444444444,
              "#bd3786"
             ],
             [
              0.5555555555555556,
              "#d8576b"
             ],
             [
              0.6666666666666666,
              "#ed7953"
             ],
             [
              0.7777777777777778,
              "#fb9f3a"
             ],
             [
              0.8888888888888888,
              "#fdca26"
             ],
             [
              1,
              "#f0f921"
             ]
            ],
            "type": "contour"
           }
          ],
          "contourcarpet": [
           {
            "colorbar": {
             "outlinewidth": 0,
             "ticks": ""
            },
            "type": "contourcarpet"
           }
          ],
          "heatmap": [
           {
            "colorbar": {
             "outlinewidth": 0,
             "ticks": ""
            },
            "colorscale": [
             [
              0,
              "#0d0887"
             ],
             [
              0.1111111111111111,
              "#46039f"
             ],
             [
              0.2222222222222222,
              "#7201a8"
             ],
             [
              0.3333333333333333,
              "#9c179e"
             ],
             [
              0.4444444444444444,
              "#bd3786"
             ],
             [
              0.5555555555555556,
              "#d8576b"
             ],
             [
              0.6666666666666666,
              "#ed7953"
             ],
             [
              0.7777777777777778,
              "#fb9f3a"
             ],
             [
              0.8888888888888888,
              "#fdca26"
             ],
             [
              1,
              "#f0f921"
             ]
            ],
            "type": "heatmap"
           }
          ],
          "heatmapgl": [
           {
            "colorbar": {
             "outlinewidth": 0,
             "ticks": ""
            },
            "colorscale": [
             [
              0,
              "#0d0887"
             ],
             [
              0.1111111111111111,
              "#46039f"
             ],
             [
              0.2222222222222222,
              "#7201a8"
             ],
             [
              0.3333333333333333,
              "#9c179e"
             ],
             [
              0.4444444444444444,
              "#bd3786"
             ],
             [
              0.5555555555555556,
              "#d8576b"
             ],
             [
              0.6666666666666666,
              "#ed7953"
             ],
             [
              0.7777777777777778,
              "#fb9f3a"
             ],
             [
              0.8888888888888888,
              "#fdca26"
             ],
             [
              1,
              "#f0f921"
             ]
            ],
            "type": "heatmapgl"
           }
          ],
          "histogram": [
           {
            "marker": {
             "pattern": {
              "fillmode": "overlay",
              "size": 10,
              "solidity": 0.2
             }
            },
            "type": "histogram"
           }
          ],
          "histogram2d": [
           {
            "colorbar": {
             "outlinewidth": 0,
             "ticks": ""
            },
            "colorscale": [
             [
              0,
              "#0d0887"
             ],
             [
              0.1111111111111111,
              "#46039f"
             ],
             [
              0.2222222222222222,
              "#7201a8"
             ],
             [
              0.3333333333333333,
              "#9c179e"
             ],
             [
              0.4444444444444444,
              "#bd3786"
             ],
             [
              0.5555555555555556,
              "#d8576b"
             ],
             [
              0.6666666666666666,
              "#ed7953"
             ],
             [
              0.7777777777777778,
              "#fb9f3a"
             ],
             [
              0.8888888888888888,
              "#fdca26"
             ],
             [
              1,
              "#f0f921"
             ]
            ],
            "type": "histogram2d"
           }
          ],
          "histogram2dcontour": [
           {
            "colorbar": {
             "outlinewidth": 0,
             "ticks": ""
            },
            "colorscale": [
             [
              0,
              "#0d0887"
             ],
             [
              0.1111111111111111,
              "#46039f"
             ],
             [
              0.2222222222222222,
              "#7201a8"
             ],
             [
              0.3333333333333333,
              "#9c179e"
             ],
             [
              0.4444444444444444,
              "#bd3786"
             ],
             [
              0.5555555555555556,
              "#d8576b"
             ],
             [
              0.6666666666666666,
              "#ed7953"
             ],
             [
              0.7777777777777778,
              "#fb9f3a"
             ],
             [
              0.8888888888888888,
              "#fdca26"
             ],
             [
              1,
              "#f0f921"
             ]
            ],
            "type": "histogram2dcontour"
           }
          ],
          "mesh3d": [
           {
            "colorbar": {
             "outlinewidth": 0,
             "ticks": ""
            },
            "type": "mesh3d"
           }
          ],
          "parcoords": [
           {
            "line": {
             "colorbar": {
              "outlinewidth": 0,
              "ticks": ""
             }
            },
            "type": "parcoords"
           }
          ],
          "pie": [
           {
            "automargin": true,
            "type": "pie"
           }
          ],
          "scatter": [
           {
            "fillpattern": {
             "fillmode": "overlay",
             "size": 10,
             "solidity": 0.2
            },
            "type": "scatter"
           }
          ],
          "scatter3d": [
           {
            "line": {
             "colorbar": {
              "outlinewidth": 0,
              "ticks": ""
             }
            },
            "marker": {
             "colorbar": {
              "outlinewidth": 0,
              "ticks": ""
             }
            },
            "type": "scatter3d"
           }
          ],
          "scattercarpet": [
           {
            "marker": {
             "colorbar": {
              "outlinewidth": 0,
              "ticks": ""
             }
            },
            "type": "scattercarpet"
           }
          ],
          "scattergeo": [
           {
            "marker": {
             "colorbar": {
              "outlinewidth": 0,
              "ticks": ""
             }
            },
            "type": "scattergeo"
           }
          ],
          "scattergl": [
           {
            "marker": {
             "colorbar": {
              "outlinewidth": 0,
              "ticks": ""
             }
            },
            "type": "scattergl"
           }
          ],
          "scattermapbox": [
           {
            "marker": {
             "colorbar": {
              "outlinewidth": 0,
              "ticks": ""
             }
            },
            "type": "scattermapbox"
           }
          ],
          "scatterpolar": [
           {
            "marker": {
             "colorbar": {
              "outlinewidth": 0,
              "ticks": ""
             }
            },
            "type": "scatterpolar"
           }
          ],
          "scatterpolargl": [
           {
            "marker": {
             "colorbar": {
              "outlinewidth": 0,
              "ticks": ""
             }
            },
            "type": "scatterpolargl"
           }
          ],
          "scatterternary": [
           {
            "marker": {
             "colorbar": {
              "outlinewidth": 0,
              "ticks": ""
             }
            },
            "type": "scatterternary"
           }
          ],
          "surface": [
           {
            "colorbar": {
             "outlinewidth": 0,
             "ticks": ""
            },
            "colorscale": [
             [
              0,
              "#0d0887"
             ],
             [
              0.1111111111111111,
              "#46039f"
             ],
             [
              0.2222222222222222,
              "#7201a8"
             ],
             [
              0.3333333333333333,
              "#9c179e"
             ],
             [
              0.4444444444444444,
              "#bd3786"
             ],
             [
              0.5555555555555556,
              "#d8576b"
             ],
             [
              0.6666666666666666,
              "#ed7953"
             ],
             [
              0.7777777777777778,
              "#fb9f3a"
             ],
             [
              0.8888888888888888,
              "#fdca26"
             ],
             [
              1,
              "#f0f921"
             ]
            ],
            "type": "surface"
           }
          ],
          "table": [
           {
            "cells": {
             "fill": {
              "color": "#EBF0F8"
             },
             "line": {
              "color": "white"
             }
            },
            "header": {
             "fill": {
              "color": "#C8D4E3"
             },
             "line": {
              "color": "white"
             }
            },
            "type": "table"
           }
          ]
         },
         "layout": {
          "annotationdefaults": {
           "arrowcolor": "#2a3f5f",
           "arrowhead": 0,
           "arrowwidth": 1
          },
          "autotypenumbers": "strict",
          "coloraxis": {
           "colorbar": {
            "outlinewidth": 0,
            "ticks": ""
           }
          },
          "colorscale": {
           "diverging": [
            [
             0,
             "#8e0152"
            ],
            [
             0.1,
             "#c51b7d"
            ],
            [
             0.2,
             "#de77ae"
            ],
            [
             0.3,
             "#f1b6da"
            ],
            [
             0.4,
             "#fde0ef"
            ],
            [
             0.5,
             "#f7f7f7"
            ],
            [
             0.6,
             "#e6f5d0"
            ],
            [
             0.7,
             "#b8e186"
            ],
            [
             0.8,
             "#7fbc41"
            ],
            [
             0.9,
             "#4d9221"
            ],
            [
             1,
             "#276419"
            ]
           ],
           "sequential": [
            [
             0,
             "#0d0887"
            ],
            [
             0.1111111111111111,
             "#46039f"
            ],
            [
             0.2222222222222222,
             "#7201a8"
            ],
            [
             0.3333333333333333,
             "#9c179e"
            ],
            [
             0.4444444444444444,
             "#bd3786"
            ],
            [
             0.5555555555555556,
             "#d8576b"
            ],
            [
             0.6666666666666666,
             "#ed7953"
            ],
            [
             0.7777777777777778,
             "#fb9f3a"
            ],
            [
             0.8888888888888888,
             "#fdca26"
            ],
            [
             1,
             "#f0f921"
            ]
           ],
           "sequentialminus": [
            [
             0,
             "#0d0887"
            ],
            [
             0.1111111111111111,
             "#46039f"
            ],
            [
             0.2222222222222222,
             "#7201a8"
            ],
            [
             0.3333333333333333,
             "#9c179e"
            ],
            [
             0.4444444444444444,
             "#bd3786"
            ],
            [
             0.5555555555555556,
             "#d8576b"
            ],
            [
             0.6666666666666666,
             "#ed7953"
            ],
            [
             0.7777777777777778,
             "#fb9f3a"
            ],
            [
             0.8888888888888888,
             "#fdca26"
            ],
            [
             1,
             "#f0f921"
            ]
           ]
          },
          "colorway": [
           "#636efa",
           "#EF553B",
           "#00cc96",
           "#ab63fa",
           "#FFA15A",
           "#19d3f3",
           "#FF6692",
           "#B6E880",
           "#FF97FF",
           "#FECB52"
          ],
          "font": {
           "color": "#2a3f5f"
          },
          "geo": {
           "bgcolor": "white",
           "lakecolor": "white",
           "landcolor": "#E5ECF6",
           "showlakes": true,
           "showland": true,
           "subunitcolor": "white"
          },
          "hoverlabel": {
           "align": "left"
          },
          "hovermode": "closest",
          "mapbox": {
           "style": "light"
          },
          "paper_bgcolor": "white",
          "plot_bgcolor": "#E5ECF6",
          "polar": {
           "angularaxis": {
            "gridcolor": "white",
            "linecolor": "white",
            "ticks": ""
           },
           "bgcolor": "#E5ECF6",
           "radialaxis": {
            "gridcolor": "white",
            "linecolor": "white",
            "ticks": ""
           }
          },
          "scene": {
           "xaxis": {
            "backgroundcolor": "#E5ECF6",
            "gridcolor": "white",
            "gridwidth": 2,
            "linecolor": "white",
            "showbackground": true,
            "ticks": "",
            "zerolinecolor": "white"
           },
           "yaxis": {
            "backgroundcolor": "#E5ECF6",
            "gridcolor": "white",
            "gridwidth": 2,
            "linecolor": "white",
            "showbackground": true,
            "ticks": "",
            "zerolinecolor": "white"
           },
           "zaxis": {
            "backgroundcolor": "#E5ECF6",
            "gridcolor": "white",
            "gridwidth": 2,
            "linecolor": "white",
            "showbackground": true,
            "ticks": "",
            "zerolinecolor": "white"
           }
          },
          "shapedefaults": {
           "line": {
            "color": "#2a3f5f"
           }
          },
          "ternary": {
           "aaxis": {
            "gridcolor": "white",
            "linecolor": "white",
            "ticks": ""
           },
           "baxis": {
            "gridcolor": "white",
            "linecolor": "white",
            "ticks": ""
           },
           "bgcolor": "#E5ECF6",
           "caxis": {
            "gridcolor": "white",
            "linecolor": "white",
            "ticks": ""
           }
          },
          "title": {
           "x": 0.05
          },
          "xaxis": {
           "automargin": true,
           "gridcolor": "white",
           "linecolor": "white",
           "ticks": "",
           "title": {
            "standoff": 15
           },
           "zerolinecolor": "white",
           "zerolinewidth": 2
          },
          "yaxis": {
           "automargin": true,
           "gridcolor": "white",
           "linecolor": "white",
           "ticks": "",
           "title": {
            "standoff": 15
           },
           "zerolinecolor": "white",
           "zerolinewidth": 2
          }
         }
        },
        "title": {
         "font": {
          "color": "#4D5663"
         },
         "text": "Top 100 words after removing stop words"
        },
        "xaxis": {
         "gridcolor": "#E1E5ED",
         "linecolor": "black",
         "showgrid": true,
         "tickfont": {
          "color": "#4D5663"
         },
         "title": {
          "font": {
           "color": "#4D5663"
          },
          "text": ""
         },
         "zerolinecolor": "#E1E5ED"
        },
        "yaxis": {
         "gridcolor": "#E1E5ED",
         "linecolor": "black",
         "showgrid": true,
         "tickfont": {
          "color": "#4D5663"
         },
         "title": {
          "font": {
           "color": "#4D5663"
          },
          "text": "Count"
         },
         "zerolinecolor": "#E1E5ED"
        }
       }
      },
      "text/html": [
       "<div>                            <div id=\"817103f9-04fe-4f5d-9929-be067fd00561\" class=\"plotly-graph-div\" style=\"height:525px; width:100%;\"></div>            <script type=\"text/javascript\">                require([\"plotly\"], function(Plotly) {                    window.PLOTLYENV=window.PLOTLYENV || {};\n",
       "                    window.PLOTLYENV.BASE_URL='https://plot.ly';                                    if (document.getElementById(\"817103f9-04fe-4f5d-9929-be067fd00561\")) {                    Plotly.newPlot(                        \"817103f9-04fe-4f5d-9929-be067fd00561\",                        [{\"marker\":{\"color\":\"rgba(255, 153, 51, 0.6)\",\"line\":{\"color\":\"rgba(255, 153, 51, 1.0)\",\"width\":1}},\"name\":\"count\",\"orientation\":\"v\",\"text\":\"\",\"x\":[\"trump\",\"say\",\"new\",\"year\",\"people\",\"make\",\"go\",\"want\",\"get\",\"call\",\"may\",\"state\",\"gun\",\"think\",\"woman\",\"election\",\"vote\",\"show\",\"look\",\"give\",\"take\",\"back\",\"watch\",\"plan\",\"could\",\"know\",\"man\",\"kill\",\"season\",\"help\",\"tax\",\"presidential\",\"right\",\"need\",\"still\",\"time\",\"film\",\"tell\",\"video\",\"end\",\"fan\",\"good\",\"use\",\"voter\",\"first\",\"push\",\"explain\",\"reveal\",\"see\",\"rule\",\"big\",\"student\",\"come\",\"campaign\",\"black\",\"well\",\"movie\",\"debate\",\"even\",\"change\",\"child\",\"hope\",\"happen\",\"game\",\"next\",\"find\",\"week\",\"family\",\"democratic\",\"would\",\"fight\",\"late\",\"rise\",\"law\",\"leave\",\"race\",\"way\",\"life\",\"try\",\"president\",\"poll\",\"political\",\"war\",\"bill\",\"old\",\"bad\",\"office\",\"teacher\",\"talk\",\"promise\",\"pay\",\"comment\",\"award\",\"love\",\"let\",\"keep\",\"former\",\"defend\",\"day\",\"assault\"],\"y\":[78,45,28,23,23,22,22,21,19,18,16,15,15,14,14,14,14,13,13,13,13,13,13,13,13,12,12,12,12,12,12,11,11,11,11,11,11,11,11,11,11,10,10,10,10,10,10,9,9,9,9,9,9,9,9,9,9,9,9,9,9,8,8,8,8,8,8,8,8,8,8,8,8,8,8,8,8,8,8,8,8,8,8,8,8,8,7,7,7,7,7,7,7,7,7,7,7,7,7,7],\"type\":\"bar\"}],                        {\"legend\":{\"bgcolor\":\"#F5F6F9\",\"font\":{\"color\":\"#4D5663\"}},\"paper_bgcolor\":\"#F5F6F9\",\"plot_bgcolor\":\"#F5F6F9\",\"template\":{\"data\":{\"barpolar\":[{\"marker\":{\"line\":{\"color\":\"#E5ECF6\",\"width\":0.5},\"pattern\":{\"fillmode\":\"overlay\",\"size\":10,\"solidity\":0.2}},\"type\":\"barpolar\"}],\"bar\":[{\"error_x\":{\"color\":\"#2a3f5f\"},\"error_y\":{\"color\":\"#2a3f5f\"},\"marker\":{\"line\":{\"color\":\"#E5ECF6\",\"width\":0.5},\"pattern\":{\"fillmode\":\"overlay\",\"size\":10,\"solidity\":0.2}},\"type\":\"bar\"}],\"carpet\":[{\"aaxis\":{\"endlinecolor\":\"#2a3f5f\",\"gridcolor\":\"white\",\"linecolor\":\"white\",\"minorgridcolor\":\"white\",\"startlinecolor\":\"#2a3f5f\"},\"baxis\":{\"endlinecolor\":\"#2a3f5f\",\"gridcolor\":\"white\",\"linecolor\":\"white\",\"minorgridcolor\":\"white\",\"startlinecolor\":\"#2a3f5f\"},\"type\":\"carpet\"}],\"choropleth\":[{\"colorbar\":{\"outlinewidth\":0,\"ticks\":\"\"},\"type\":\"choropleth\"}],\"contourcarpet\":[{\"colorbar\":{\"outlinewidth\":0,\"ticks\":\"\"},\"type\":\"contourcarpet\"}],\"contour\":[{\"colorbar\":{\"outlinewidth\":0,\"ticks\":\"\"},\"colorscale\":[[0.0,\"#0d0887\"],[0.1111111111111111,\"#46039f\"],[0.2222222222222222,\"#7201a8\"],[0.3333333333333333,\"#9c179e\"],[0.4444444444444444,\"#bd3786\"],[0.5555555555555556,\"#d8576b\"],[0.6666666666666666,\"#ed7953\"],[0.7777777777777778,\"#fb9f3a\"],[0.8888888888888888,\"#fdca26\"],[1.0,\"#f0f921\"]],\"type\":\"contour\"}],\"heatmapgl\":[{\"colorbar\":{\"outlinewidth\":0,\"ticks\":\"\"},\"colorscale\":[[0.0,\"#0d0887\"],[0.1111111111111111,\"#46039f\"],[0.2222222222222222,\"#7201a8\"],[0.3333333333333333,\"#9c179e\"],[0.4444444444444444,\"#bd3786\"],[0.5555555555555556,\"#d8576b\"],[0.6666666666666666,\"#ed7953\"],[0.7777777777777778,\"#fb9f3a\"],[0.8888888888888888,\"#fdca26\"],[1.0,\"#f0f921\"]],\"type\":\"heatmapgl\"}],\"heatmap\":[{\"colorbar\":{\"outlinewidth\":0,\"ticks\":\"\"},\"colorscale\":[[0.0,\"#0d0887\"],[0.1111111111111111,\"#46039f\"],[0.2222222222222222,\"#7201a8\"],[0.3333333333333333,\"#9c179e\"],[0.4444444444444444,\"#bd3786\"],[0.5555555555555556,\"#d8576b\"],[0.6666666666666666,\"#ed7953\"],[0.7777777777777778,\"#fb9f3a\"],[0.8888888888888888,\"#fdca26\"],[1.0,\"#f0f921\"]],\"type\":\"heatmap\"}],\"histogram2dcontour\":[{\"colorbar\":{\"outlinewidth\":0,\"ticks\":\"\"},\"colorscale\":[[0.0,\"#0d0887\"],[0.1111111111111111,\"#46039f\"],[0.2222222222222222,\"#7201a8\"],[0.3333333333333333,\"#9c179e\"],[0.4444444444444444,\"#bd3786\"],[0.5555555555555556,\"#d8576b\"],[0.6666666666666666,\"#ed7953\"],[0.7777777777777778,\"#fb9f3a\"],[0.8888888888888888,\"#fdca26\"],[1.0,\"#f0f921\"]],\"type\":\"histogram2dcontour\"}],\"histogram2d\":[{\"colorbar\":{\"outlinewidth\":0,\"ticks\":\"\"},\"colorscale\":[[0.0,\"#0d0887\"],[0.1111111111111111,\"#46039f\"],[0.2222222222222222,\"#7201a8\"],[0.3333333333333333,\"#9c179e\"],[0.4444444444444444,\"#bd3786\"],[0.5555555555555556,\"#d8576b\"],[0.6666666666666666,\"#ed7953\"],[0.7777777777777778,\"#fb9f3a\"],[0.8888888888888888,\"#fdca26\"],[1.0,\"#f0f921\"]],\"type\":\"histogram2d\"}],\"histogram\":[{\"marker\":{\"pattern\":{\"fillmode\":\"overlay\",\"size\":10,\"solidity\":0.2}},\"type\":\"histogram\"}],\"mesh3d\":[{\"colorbar\":{\"outlinewidth\":0,\"ticks\":\"\"},\"type\":\"mesh3d\"}],\"parcoords\":[{\"line\":{\"colorbar\":{\"outlinewidth\":0,\"ticks\":\"\"}},\"type\":\"parcoords\"}],\"pie\":[{\"automargin\":true,\"type\":\"pie\"}],\"scatter3d\":[{\"line\":{\"colorbar\":{\"outlinewidth\":0,\"ticks\":\"\"}},\"marker\":{\"colorbar\":{\"outlinewidth\":0,\"ticks\":\"\"}},\"type\":\"scatter3d\"}],\"scattercarpet\":[{\"marker\":{\"colorbar\":{\"outlinewidth\":0,\"ticks\":\"\"}},\"type\":\"scattercarpet\"}],\"scattergeo\":[{\"marker\":{\"colorbar\":{\"outlinewidth\":0,\"ticks\":\"\"}},\"type\":\"scattergeo\"}],\"scattergl\":[{\"marker\":{\"colorbar\":{\"outlinewidth\":0,\"ticks\":\"\"}},\"type\":\"scattergl\"}],\"scattermapbox\":[{\"marker\":{\"colorbar\":{\"outlinewidth\":0,\"ticks\":\"\"}},\"type\":\"scattermapbox\"}],\"scatterpolargl\":[{\"marker\":{\"colorbar\":{\"outlinewidth\":0,\"ticks\":\"\"}},\"type\":\"scatterpolargl\"}],\"scatterpolar\":[{\"marker\":{\"colorbar\":{\"outlinewidth\":0,\"ticks\":\"\"}},\"type\":\"scatterpolar\"}],\"scatter\":[{\"fillpattern\":{\"fillmode\":\"overlay\",\"size\":10,\"solidity\":0.2},\"type\":\"scatter\"}],\"scatterternary\":[{\"marker\":{\"colorbar\":{\"outlinewidth\":0,\"ticks\":\"\"}},\"type\":\"scatterternary\"}],\"surface\":[{\"colorbar\":{\"outlinewidth\":0,\"ticks\":\"\"},\"colorscale\":[[0.0,\"#0d0887\"],[0.1111111111111111,\"#46039f\"],[0.2222222222222222,\"#7201a8\"],[0.3333333333333333,\"#9c179e\"],[0.4444444444444444,\"#bd3786\"],[0.5555555555555556,\"#d8576b\"],[0.6666666666666666,\"#ed7953\"],[0.7777777777777778,\"#fb9f3a\"],[0.8888888888888888,\"#fdca26\"],[1.0,\"#f0f921\"]],\"type\":\"surface\"}],\"table\":[{\"cells\":{\"fill\":{\"color\":\"#EBF0F8\"},\"line\":{\"color\":\"white\"}},\"header\":{\"fill\":{\"color\":\"#C8D4E3\"},\"line\":{\"color\":\"white\"}},\"type\":\"table\"}]},\"layout\":{\"annotationdefaults\":{\"arrowcolor\":\"#2a3f5f\",\"arrowhead\":0,\"arrowwidth\":1},\"autotypenumbers\":\"strict\",\"coloraxis\":{\"colorbar\":{\"outlinewidth\":0,\"ticks\":\"\"}},\"colorscale\":{\"diverging\":[[0,\"#8e0152\"],[0.1,\"#c51b7d\"],[0.2,\"#de77ae\"],[0.3,\"#f1b6da\"],[0.4,\"#fde0ef\"],[0.5,\"#f7f7f7\"],[0.6,\"#e6f5d0\"],[0.7,\"#b8e186\"],[0.8,\"#7fbc41\"],[0.9,\"#4d9221\"],[1,\"#276419\"]],\"sequential\":[[0.0,\"#0d0887\"],[0.1111111111111111,\"#46039f\"],[0.2222222222222222,\"#7201a8\"],[0.3333333333333333,\"#9c179e\"],[0.4444444444444444,\"#bd3786\"],[0.5555555555555556,\"#d8576b\"],[0.6666666666666666,\"#ed7953\"],[0.7777777777777778,\"#fb9f3a\"],[0.8888888888888888,\"#fdca26\"],[1.0,\"#f0f921\"]],\"sequentialminus\":[[0.0,\"#0d0887\"],[0.1111111111111111,\"#46039f\"],[0.2222222222222222,\"#7201a8\"],[0.3333333333333333,\"#9c179e\"],[0.4444444444444444,\"#bd3786\"],[0.5555555555555556,\"#d8576b\"],[0.6666666666666666,\"#ed7953\"],[0.7777777777777778,\"#fb9f3a\"],[0.8888888888888888,\"#fdca26\"],[1.0,\"#f0f921\"]]},\"colorway\":[\"#636efa\",\"#EF553B\",\"#00cc96\",\"#ab63fa\",\"#FFA15A\",\"#19d3f3\",\"#FF6692\",\"#B6E880\",\"#FF97FF\",\"#FECB52\"],\"font\":{\"color\":\"#2a3f5f\"},\"geo\":{\"bgcolor\":\"white\",\"lakecolor\":\"white\",\"landcolor\":\"#E5ECF6\",\"showlakes\":true,\"showland\":true,\"subunitcolor\":\"white\"},\"hoverlabel\":{\"align\":\"left\"},\"hovermode\":\"closest\",\"mapbox\":{\"style\":\"light\"},\"paper_bgcolor\":\"white\",\"plot_bgcolor\":\"#E5ECF6\",\"polar\":{\"angularaxis\":{\"gridcolor\":\"white\",\"linecolor\":\"white\",\"ticks\":\"\"},\"bgcolor\":\"#E5ECF6\",\"radialaxis\":{\"gridcolor\":\"white\",\"linecolor\":\"white\",\"ticks\":\"\"}},\"scene\":{\"xaxis\":{\"backgroundcolor\":\"#E5ECF6\",\"gridcolor\":\"white\",\"gridwidth\":2,\"linecolor\":\"white\",\"showbackground\":true,\"ticks\":\"\",\"zerolinecolor\":\"white\"},\"yaxis\":{\"backgroundcolor\":\"#E5ECF6\",\"gridcolor\":\"white\",\"gridwidth\":2,\"linecolor\":\"white\",\"showbackground\":true,\"ticks\":\"\",\"zerolinecolor\":\"white\"},\"zaxis\":{\"backgroundcolor\":\"#E5ECF6\",\"gridcolor\":\"white\",\"gridwidth\":2,\"linecolor\":\"white\",\"showbackground\":true,\"ticks\":\"\",\"zerolinecolor\":\"white\"}},\"shapedefaults\":{\"line\":{\"color\":\"#2a3f5f\"}},\"ternary\":{\"aaxis\":{\"gridcolor\":\"white\",\"linecolor\":\"white\",\"ticks\":\"\"},\"baxis\":{\"gridcolor\":\"white\",\"linecolor\":\"white\",\"ticks\":\"\"},\"bgcolor\":\"#E5ECF6\",\"caxis\":{\"gridcolor\":\"white\",\"linecolor\":\"white\",\"ticks\":\"\"}},\"title\":{\"x\":0.05},\"xaxis\":{\"automargin\":true,\"gridcolor\":\"white\",\"linecolor\":\"white\",\"ticks\":\"\",\"title\":{\"standoff\":15},\"zerolinecolor\":\"white\",\"zerolinewidth\":2},\"yaxis\":{\"automargin\":true,\"gridcolor\":\"white\",\"linecolor\":\"white\",\"ticks\":\"\",\"title\":{\"standoff\":15},\"zerolinecolor\":\"white\",\"zerolinewidth\":2}}},\"title\":{\"font\":{\"color\":\"#4D5663\"},\"text\":\"Top 100 words after removing stop words\"},\"xaxis\":{\"gridcolor\":\"#E1E5ED\",\"linecolor\":\"black\",\"showgrid\":true,\"tickfont\":{\"color\":\"#4D5663\"},\"title\":{\"font\":{\"color\":\"#4D5663\"},\"text\":\"\"},\"zerolinecolor\":\"#E1E5ED\"},\"yaxis\":{\"gridcolor\":\"#E1E5ED\",\"linecolor\":\"black\",\"showgrid\":true,\"tickfont\":{\"color\":\"#4D5663\"},\"title\":{\"font\":{\"color\":\"#4D5663\"},\"text\":\"Count\"},\"zerolinecolor\":\"#E1E5ED\"}},                        {\"showLink\": true, \"linkText\": \"Export to plot.ly\", \"plotlyServerURL\": \"https://plot.ly\", \"responsive\": true}                    ).then(function(){\n",
       "                            \n",
       "var gd = document.getElementById('817103f9-04fe-4f5d-9929-be067fd00561');\n",
       "var x = new MutationObserver(function (mutations, observer) {{\n",
       "        var display = window.getComputedStyle(gd).display;\n",
       "        if (!display || display === 'none') {{\n",
       "            console.log([gd, 'removed!']);\n",
       "            Plotly.purge(gd);\n",
       "            observer.disconnect();\n",
       "        }}\n",
       "}});\n",
       "\n",
       "// Listen for the removal of the full notebook cells\n",
       "var notebookContainer = gd.closest('#notebook-container');\n",
       "if (notebookContainer) {{\n",
       "    x.observe(notebookContainer, {childList: true});\n",
       "}}\n",
       "\n",
       "// Listen for the clearing of the current output cell\n",
       "var outputEl = gd.closest('.output');\n",
       "if (outputEl) {{\n",
       "    x.observe(outputEl, {childList: true});\n",
       "}}\n",
       "\n",
       "                        })                };                });            </script>        </div>"
      ]
     },
     "metadata": {},
     "output_type": "display_data"
    }
   ],
   "source": [
    "plot_model()"
   ]
  },
  {
   "cell_type": "code",
   "execution_count": null,
   "metadata": {},
   "outputs": [
    {
     "data": {
      "text/html": [
       "        <script type=\"text/javascript\">\n",
       "        window.PlotlyConfig = {MathJaxConfig: 'local'};\n",
       "        if (window.MathJax && window.MathJax.Hub && window.MathJax.Hub.Config) {window.MathJax.Hub.Config({SVG: {font: \"STIX-Web\"}});}\n",
       "        if (typeof require !== 'undefined') {\n",
       "        require.undef(\"plotly\");\n",
       "        requirejs.config({\n",
       "            paths: {\n",
       "                'plotly': ['https://cdn.plot.ly/plotly-2.12.1.min']\n",
       "            }\n",
       "        });\n",
       "        require(['plotly'], function(Plotly) {\n",
       "            window._Plotly = Plotly;\n",
       "        });\n",
       "        }\n",
       "        </script>\n",
       "        "
      ]
     },
     "metadata": {},
     "output_type": "display_data"
    },
    {
     "data": {
      "application/vnd.plotly.v1+json": {
       "config": {
        "linkText": "Export to plot.ly",
        "plotlyServerURL": "https://plot.ly",
        "showLink": true
       },
       "data": [
        {
         "marker": {
          "color": "rgba(255, 153, 51, 0.6)",
          "line": {
           "color": "rgba(255, 153, 51, 1.0)",
           "width": 1
          }
         },
         "name": "count",
         "orientation": "v",
         "text": "",
         "type": "bar",
         "x": [
          "year old",
          "request loan",
          "start business",
          "year ago",
          "loan buy",
          "marry child",
          "expand business",
          "use loan",
          "repay loan",
          "business year",
          "school fee",
          "child school",
          "loan use",
          "business sell",
          "old married",
          "old child",
          "second loan",
          "work hard",
          "married child",
          "loan purchase",
          "first loan",
          "primary school",
          "mother child",
          "small business",
          "hard work",
          "educate child",
          "business able",
          "pay school",
          "use buy",
          "old marry",
          "increase stock",
          "secondary school",
          "increase income",
          "loan able",
          "child live",
          "loan order",
          "last year",
          "business grow",
          "need loan",
          "start small",
          "training_educational_programs_information microfinance_ecuador_services_please",
          "husband work",
          "business training_educational_programs_information",
          "woman group",
          "support family",
          "help business",
          "mifex_org_www_mifex org",
          "microfinance_ecuador_services_please mifex_org_www_mifex",
          "year experience",
          "group member",
          "start sell",
          "able buy",
          "husband child",
          "run business",
          "farmer also",
          "operate business",
          "also sell",
          "sell product",
          "child age",
          "able repay",
          "business help",
          "sell clothing",
          "child child",
          "begin business",
          "provide family",
          "loan usd",
          "live husband",
          "high school",
          "give loan",
          "loan help",
          "apply loan",
          "receive loan",
          "go school",
          "loan intend",
          "member group",
          "rice farmer",
          "loan risk_willing_accept_additional",
          "communities_remains_unsettled_affecte many",
          "kenya_security_situation_many communities_remains_unsettled_affecte",
          "risk_making loan",
          "attend school",
          "person group",
          "many local_businesses_lender",
          "local_businesses_lender loan",
          "risk_willing_accept_additional risk_making",
          "fee child",
          "child primary",
          "able provide",
          "business well",
          "loan invest",
          "loan month",
          "run small",
          "old mother",
          "grow business",
          "child also",
          "well life",
          "high demand",
          "business loan",
          "plan use",
          "loan together"
         ],
         "y": [
          491,
          182,
          171,
          160,
          150,
          148,
          148,
          140,
          123,
          112,
          105,
          99,
          95,
          93,
          93,
          92,
          74,
          70,
          70,
          69,
          68,
          66,
          65,
          63,
          60,
          60,
          59,
          58,
          56,
          54,
          53,
          52,
          52,
          51,
          51,
          50,
          47,
          47,
          47,
          46,
          46,
          46,
          46,
          46,
          45,
          44,
          44,
          44,
          44,
          44,
          44,
          43,
          43,
          42,
          42,
          42,
          41,
          41,
          40,
          40,
          40,
          40,
          39,
          38,
          37,
          37,
          37,
          36,
          36,
          36,
          35,
          35,
          35,
          34,
          34,
          33,
          32,
          32,
          32,
          32,
          32,
          32,
          32,
          32,
          32,
          31,
          31,
          31,
          30,
          30,
          30,
          29,
          29,
          29,
          28,
          28,
          28,
          27,
          27,
          27
         ]
        }
       ],
       "layout": {
        "legend": {
         "bgcolor": "#F5F6F9",
         "font": {
          "color": "#4D5663"
         }
        },
        "paper_bgcolor": "#F5F6F9",
        "plot_bgcolor": "#F5F6F9",
        "template": {
         "data": {
          "bar": [
           {
            "error_x": {
             "color": "#2a3f5f"
            },
            "error_y": {
             "color": "#2a3f5f"
            },
            "marker": {
             "line": {
              "color": "#E5ECF6",
              "width": 0.5
             },
             "pattern": {
              "fillmode": "overlay",
              "size": 10,
              "solidity": 0.2
             }
            },
            "type": "bar"
           }
          ],
          "barpolar": [
           {
            "marker": {
             "line": {
              "color": "#E5ECF6",
              "width": 0.5
             },
             "pattern": {
              "fillmode": "overlay",
              "size": 10,
              "solidity": 0.2
             }
            },
            "type": "barpolar"
           }
          ],
          "carpet": [
           {
            "aaxis": {
             "endlinecolor": "#2a3f5f",
             "gridcolor": "white",
             "linecolor": "white",
             "minorgridcolor": "white",
             "startlinecolor": "#2a3f5f"
            },
            "baxis": {
             "endlinecolor": "#2a3f5f",
             "gridcolor": "white",
             "linecolor": "white",
             "minorgridcolor": "white",
             "startlinecolor": "#2a3f5f"
            },
            "type": "carpet"
           }
          ],
          "choropleth": [
           {
            "colorbar": {
             "outlinewidth": 0,
             "ticks": ""
            },
            "type": "choropleth"
           }
          ],
          "contour": [
           {
            "colorbar": {
             "outlinewidth": 0,
             "ticks": ""
            },
            "colorscale": [
             [
              0,
              "#0d0887"
             ],
             [
              0.1111111111111111,
              "#46039f"
             ],
             [
              0.2222222222222222,
              "#7201a8"
             ],
             [
              0.3333333333333333,
              "#9c179e"
             ],
             [
              0.4444444444444444,
              "#bd3786"
             ],
             [
              0.5555555555555556,
              "#d8576b"
             ],
             [
              0.6666666666666666,
              "#ed7953"
             ],
             [
              0.7777777777777778,
              "#fb9f3a"
             ],
             [
              0.8888888888888888,
              "#fdca26"
             ],
             [
              1,
              "#f0f921"
             ]
            ],
            "type": "contour"
           }
          ],
          "contourcarpet": [
           {
            "colorbar": {
             "outlinewidth": 0,
             "ticks": ""
            },
            "type": "contourcarpet"
           }
          ],
          "heatmap": [
           {
            "colorbar": {
             "outlinewidth": 0,
             "ticks": ""
            },
            "colorscale": [
             [
              0,
              "#0d0887"
             ],
             [
              0.1111111111111111,
              "#46039f"
             ],
             [
              0.2222222222222222,
              "#7201a8"
             ],
             [
              0.3333333333333333,
              "#9c179e"
             ],
             [
              0.4444444444444444,
              "#bd3786"
             ],
             [
              0.5555555555555556,
              "#d8576b"
             ],
             [
              0.6666666666666666,
              "#ed7953"
             ],
             [
              0.7777777777777778,
              "#fb9f3a"
             ],
             [
              0.8888888888888888,
              "#fdca26"
             ],
             [
              1,
              "#f0f921"
             ]
            ],
            "type": "heatmap"
           }
          ],
          "heatmapgl": [
           {
            "colorbar": {
             "outlinewidth": 0,
             "ticks": ""
            },
            "colorscale": [
             [
              0,
              "#0d0887"
             ],
             [
              0.1111111111111111,
              "#46039f"
             ],
             [
              0.2222222222222222,
              "#7201a8"
             ],
             [
              0.3333333333333333,
              "#9c179e"
             ],
             [
              0.4444444444444444,
              "#bd3786"
             ],
             [
              0.5555555555555556,
              "#d8576b"
             ],
             [
              0.6666666666666666,
              "#ed7953"
             ],
             [
              0.7777777777777778,
              "#fb9f3a"
             ],
             [
              0.8888888888888888,
              "#fdca26"
             ],
             [
              1,
              "#f0f921"
             ]
            ],
            "type": "heatmapgl"
           }
          ],
          "histogram": [
           {
            "marker": {
             "pattern": {
              "fillmode": "overlay",
              "size": 10,
              "solidity": 0.2
             }
            },
            "type": "histogram"
           }
          ],
          "histogram2d": [
           {
            "colorbar": {
             "outlinewidth": 0,
             "ticks": ""
            },
            "colorscale": [
             [
              0,
              "#0d0887"
             ],
             [
              0.1111111111111111,
              "#46039f"
             ],
             [
              0.2222222222222222,
              "#7201a8"
             ],
             [
              0.3333333333333333,
              "#9c179e"
             ],
             [
              0.4444444444444444,
              "#bd3786"
             ],
             [
              0.5555555555555556,
              "#d8576b"
             ],
             [
              0.6666666666666666,
              "#ed7953"
             ],
             [
              0.7777777777777778,
              "#fb9f3a"
             ],
             [
              0.8888888888888888,
              "#fdca26"
             ],
             [
              1,
              "#f0f921"
             ]
            ],
            "type": "histogram2d"
           }
          ],
          "histogram2dcontour": [
           {
            "colorbar": {
             "outlinewidth": 0,
             "ticks": ""
            },
            "colorscale": [
             [
              0,
              "#0d0887"
             ],
             [
              0.1111111111111111,
              "#46039f"
             ],
             [
              0.2222222222222222,
              "#7201a8"
             ],
             [
              0.3333333333333333,
              "#9c179e"
             ],
             [
              0.4444444444444444,
              "#bd3786"
             ],
             [
              0.5555555555555556,
              "#d8576b"
             ],
             [
              0.6666666666666666,
              "#ed7953"
             ],
             [
              0.7777777777777778,
              "#fb9f3a"
             ],
             [
              0.8888888888888888,
              "#fdca26"
             ],
             [
              1,
              "#f0f921"
             ]
            ],
            "type": "histogram2dcontour"
           }
          ],
          "mesh3d": [
           {
            "colorbar": {
             "outlinewidth": 0,
             "ticks": ""
            },
            "type": "mesh3d"
           }
          ],
          "parcoords": [
           {
            "line": {
             "colorbar": {
              "outlinewidth": 0,
              "ticks": ""
             }
            },
            "type": "parcoords"
           }
          ],
          "pie": [
           {
            "automargin": true,
            "type": "pie"
           }
          ],
          "scatter": [
           {
            "fillpattern": {
             "fillmode": "overlay",
             "size": 10,
             "solidity": 0.2
            },
            "type": "scatter"
           }
          ],
          "scatter3d": [
           {
            "line": {
             "colorbar": {
              "outlinewidth": 0,
              "ticks": ""
             }
            },
            "marker": {
             "colorbar": {
              "outlinewidth": 0,
              "ticks": ""
             }
            },
            "type": "scatter3d"
           }
          ],
          "scattercarpet": [
           {
            "marker": {
             "colorbar": {
              "outlinewidth": 0,
              "ticks": ""
             }
            },
            "type": "scattercarpet"
           }
          ],
          "scattergeo": [
           {
            "marker": {
             "colorbar": {
              "outlinewidth": 0,
              "ticks": ""
             }
            },
            "type": "scattergeo"
           }
          ],
          "scattergl": [
           {
            "marker": {
             "colorbar": {
              "outlinewidth": 0,
              "ticks": ""
             }
            },
            "type": "scattergl"
           }
          ],
          "scattermapbox": [
           {
            "marker": {
             "colorbar": {
              "outlinewidth": 0,
              "ticks": ""
             }
            },
            "type": "scattermapbox"
           }
          ],
          "scatterpolar": [
           {
            "marker": {
             "colorbar": {
              "outlinewidth": 0,
              "ticks": ""
             }
            },
            "type": "scatterpolar"
           }
          ],
          "scatterpolargl": [
           {
            "marker": {
             "colorbar": {
              "outlinewidth": 0,
              "ticks": ""
             }
            },
            "type": "scatterpolargl"
           }
          ],
          "scatterternary": [
           {
            "marker": {
             "colorbar": {
              "outlinewidth": 0,
              "ticks": ""
             }
            },
            "type": "scatterternary"
           }
          ],
          "surface": [
           {
            "colorbar": {
             "outlinewidth": 0,
             "ticks": ""
            },
            "colorscale": [
             [
              0,
              "#0d0887"
             ],
             [
              0.1111111111111111,
              "#46039f"
             ],
             [
              0.2222222222222222,
              "#7201a8"
             ],
             [
              0.3333333333333333,
              "#9c179e"
             ],
             [
              0.4444444444444444,
              "#bd3786"
             ],
             [
              0.5555555555555556,
              "#d8576b"
             ],
             [
              0.6666666666666666,
              "#ed7953"
             ],
             [
              0.7777777777777778,
              "#fb9f3a"
             ],
             [
              0.8888888888888888,
              "#fdca26"
             ],
             [
              1,
              "#f0f921"
             ]
            ],
            "type": "surface"
           }
          ],
          "table": [
           {
            "cells": {
             "fill": {
              "color": "#EBF0F8"
             },
             "line": {
              "color": "white"
             }
            },
            "header": {
             "fill": {
              "color": "#C8D4E3"
             },
             "line": {
              "color": "white"
             }
            },
            "type": "table"
           }
          ]
         },
         "layout": {
          "annotationdefaults": {
           "arrowcolor": "#2a3f5f",
           "arrowhead": 0,
           "arrowwidth": 1
          },
          "autotypenumbers": "strict",
          "coloraxis": {
           "colorbar": {
            "outlinewidth": 0,
            "ticks": ""
           }
          },
          "colorscale": {
           "diverging": [
            [
             0,
             "#8e0152"
            ],
            [
             0.1,
             "#c51b7d"
            ],
            [
             0.2,
             "#de77ae"
            ],
            [
             0.3,
             "#f1b6da"
            ],
            [
             0.4,
             "#fde0ef"
            ],
            [
             0.5,
             "#f7f7f7"
            ],
            [
             0.6,
             "#e6f5d0"
            ],
            [
             0.7,
             "#b8e186"
            ],
            [
             0.8,
             "#7fbc41"
            ],
            [
             0.9,
             "#4d9221"
            ],
            [
             1,
             "#276419"
            ]
           ],
           "sequential": [
            [
             0,
             "#0d0887"
            ],
            [
             0.1111111111111111,
             "#46039f"
            ],
            [
             0.2222222222222222,
             "#7201a8"
            ],
            [
             0.3333333333333333,
             "#9c179e"
            ],
            [
             0.4444444444444444,
             "#bd3786"
            ],
            [
             0.5555555555555556,
             "#d8576b"
            ],
            [
             0.6666666666666666,
             "#ed7953"
            ],
            [
             0.7777777777777778,
             "#fb9f3a"
            ],
            [
             0.8888888888888888,
             "#fdca26"
            ],
            [
             1,
             "#f0f921"
            ]
           ],
           "sequentialminus": [
            [
             0,
             "#0d0887"
            ],
            [
             0.1111111111111111,
             "#46039f"
            ],
            [
             0.2222222222222222,
             "#7201a8"
            ],
            [
             0.3333333333333333,
             "#9c179e"
            ],
            [
             0.4444444444444444,
             "#bd3786"
            ],
            [
             0.5555555555555556,
             "#d8576b"
            ],
            [
             0.6666666666666666,
             "#ed7953"
            ],
            [
             0.7777777777777778,
             "#fb9f3a"
            ],
            [
             0.8888888888888888,
             "#fdca26"
            ],
            [
             1,
             "#f0f921"
            ]
           ]
          },
          "colorway": [
           "#636efa",
           "#EF553B",
           "#00cc96",
           "#ab63fa",
           "#FFA15A",
           "#19d3f3",
           "#FF6692",
           "#B6E880",
           "#FF97FF",
           "#FECB52"
          ],
          "font": {
           "color": "#2a3f5f"
          },
          "geo": {
           "bgcolor": "white",
           "lakecolor": "white",
           "landcolor": "#E5ECF6",
           "showlakes": true,
           "showland": true,
           "subunitcolor": "white"
          },
          "hoverlabel": {
           "align": "left"
          },
          "hovermode": "closest",
          "mapbox": {
           "style": "light"
          },
          "paper_bgcolor": "white",
          "plot_bgcolor": "#E5ECF6",
          "polar": {
           "angularaxis": {
            "gridcolor": "white",
            "linecolor": "white",
            "ticks": ""
           },
           "bgcolor": "#E5ECF6",
           "radialaxis": {
            "gridcolor": "white",
            "linecolor": "white",
            "ticks": ""
           }
          },
          "scene": {
           "xaxis": {
            "backgroundcolor": "#E5ECF6",
            "gridcolor": "white",
            "gridwidth": 2,
            "linecolor": "white",
            "showbackground": true,
            "ticks": "",
            "zerolinecolor": "white"
           },
           "yaxis": {
            "backgroundcolor": "#E5ECF6",
            "gridcolor": "white",
            "gridwidth": 2,
            "linecolor": "white",
            "showbackground": true,
            "ticks": "",
            "zerolinecolor": "white"
           },
           "zaxis": {
            "backgroundcolor": "#E5ECF6",
            "gridcolor": "white",
            "gridwidth": 2,
            "linecolor": "white",
            "showbackground": true,
            "ticks": "",
            "zerolinecolor": "white"
           }
          },
          "shapedefaults": {
           "line": {
            "color": "#2a3f5f"
           }
          },
          "ternary": {
           "aaxis": {
            "gridcolor": "white",
            "linecolor": "white",
            "ticks": ""
           },
           "baxis": {
            "gridcolor": "white",
            "linecolor": "white",
            "ticks": ""
           },
           "bgcolor": "#E5ECF6",
           "caxis": {
            "gridcolor": "white",
            "linecolor": "white",
            "ticks": ""
           }
          },
          "title": {
           "x": 0.05
          },
          "xaxis": {
           "automargin": true,
           "gridcolor": "white",
           "linecolor": "white",
           "ticks": "",
           "title": {
            "standoff": 15
           },
           "zerolinecolor": "white",
           "zerolinewidth": 2
          },
          "yaxis": {
           "automargin": true,
           "gridcolor": "white",
           "linecolor": "white",
           "ticks": "",
           "title": {
            "standoff": 15
           },
           "zerolinecolor": "white",
           "zerolinewidth": 2
          }
         }
        },
        "title": {
         "font": {
          "color": "#4D5663"
         },
         "text": "Top 100 bigrams after removing stop words"
        },
        "xaxis": {
         "gridcolor": "#E1E5ED",
         "linecolor": "black",
         "showgrid": true,
         "tickfont": {
          "color": "#4D5663"
         },
         "title": {
          "font": {
           "color": "#4D5663"
          },
          "text": ""
         },
         "zerolinecolor": "#E1E5ED"
        },
        "yaxis": {
         "gridcolor": "#E1E5ED",
         "linecolor": "black",
         "showgrid": true,
         "tickfont": {
          "color": "#4D5663"
         },
         "title": {
          "font": {
           "color": "#4D5663"
          },
          "text": "Count"
         },
         "zerolinecolor": "#E1E5ED"
        }
       }
      },
      "text/html": [
       "<div>                            <div id=\"ca7c0444-f5c6-4e7a-9eda-14208790015c\" class=\"plotly-graph-div\" style=\"height:525px; width:100%;\"></div>            <script type=\"text/javascript\">                require([\"plotly\"], function(Plotly) {                    window.PLOTLYENV=window.PLOTLYENV || {};\n",
       "                    window.PLOTLYENV.BASE_URL='https://plot.ly';                                    if (document.getElementById(\"ca7c0444-f5c6-4e7a-9eda-14208790015c\")) {                    Plotly.newPlot(                        \"ca7c0444-f5c6-4e7a-9eda-14208790015c\",                        [{\"marker\":{\"color\":\"rgba(255, 153, 51, 0.6)\",\"line\":{\"color\":\"rgba(255, 153, 51, 1.0)\",\"width\":1}},\"name\":\"count\",\"orientation\":\"v\",\"text\":\"\",\"x\":[\"year old\",\"request loan\",\"start business\",\"year ago\",\"loan buy\",\"marry child\",\"expand business\",\"use loan\",\"repay loan\",\"business year\",\"school fee\",\"child school\",\"loan use\",\"business sell\",\"old married\",\"old child\",\"second loan\",\"work hard\",\"married child\",\"loan purchase\",\"first loan\",\"primary school\",\"mother child\",\"small business\",\"hard work\",\"educate child\",\"business able\",\"pay school\",\"use buy\",\"old marry\",\"increase stock\",\"secondary school\",\"increase income\",\"loan able\",\"child live\",\"loan order\",\"last year\",\"business grow\",\"need loan\",\"start small\",\"training_educational_programs_information microfinance_ecuador_services_please\",\"husband work\",\"business training_educational_programs_information\",\"woman group\",\"support family\",\"help business\",\"mifex_org_www_mifex org\",\"microfinance_ecuador_services_please mifex_org_www_mifex\",\"year experience\",\"group member\",\"start sell\",\"able buy\",\"husband child\",\"run business\",\"farmer also\",\"operate business\",\"also sell\",\"sell product\",\"child age\",\"able repay\",\"business help\",\"sell clothing\",\"child child\",\"begin business\",\"provide family\",\"loan usd\",\"live husband\",\"high school\",\"give loan\",\"loan help\",\"apply loan\",\"receive loan\",\"go school\",\"loan intend\",\"member group\",\"rice farmer\",\"loan risk_willing_accept_additional\",\"communities_remains_unsettled_affecte many\",\"kenya_security_situation_many communities_remains_unsettled_affecte\",\"risk_making loan\",\"attend school\",\"person group\",\"many local_businesses_lender\",\"local_businesses_lender loan\",\"risk_willing_accept_additional risk_making\",\"fee child\",\"child primary\",\"able provide\",\"business well\",\"loan invest\",\"loan month\",\"run small\",\"old mother\",\"grow business\",\"child also\",\"well life\",\"high demand\",\"business loan\",\"plan use\",\"loan together\"],\"y\":[491,182,171,160,150,148,148,140,123,112,105,99,95,93,93,92,74,70,70,69,68,66,65,63,60,60,59,58,56,54,53,52,52,51,51,50,47,47,47,46,46,46,46,46,45,44,44,44,44,44,44,43,43,42,42,42,41,41,40,40,40,40,39,38,37,37,37,36,36,36,35,35,35,34,34,33,32,32,32,32,32,32,32,32,32,31,31,31,30,30,30,29,29,29,28,28,28,27,27,27],\"type\":\"bar\"}],                        {\"legend\":{\"bgcolor\":\"#F5F6F9\",\"font\":{\"color\":\"#4D5663\"}},\"paper_bgcolor\":\"#F5F6F9\",\"plot_bgcolor\":\"#F5F6F9\",\"template\":{\"data\":{\"barpolar\":[{\"marker\":{\"line\":{\"color\":\"#E5ECF6\",\"width\":0.5},\"pattern\":{\"fillmode\":\"overlay\",\"size\":10,\"solidity\":0.2}},\"type\":\"barpolar\"}],\"bar\":[{\"error_x\":{\"color\":\"#2a3f5f\"},\"error_y\":{\"color\":\"#2a3f5f\"},\"marker\":{\"line\":{\"color\":\"#E5ECF6\",\"width\":0.5},\"pattern\":{\"fillmode\":\"overlay\",\"size\":10,\"solidity\":0.2}},\"type\":\"bar\"}],\"carpet\":[{\"aaxis\":{\"endlinecolor\":\"#2a3f5f\",\"gridcolor\":\"white\",\"linecolor\":\"white\",\"minorgridcolor\":\"white\",\"startlinecolor\":\"#2a3f5f\"},\"baxis\":{\"endlinecolor\":\"#2a3f5f\",\"gridcolor\":\"white\",\"linecolor\":\"white\",\"minorgridcolor\":\"white\",\"startlinecolor\":\"#2a3f5f\"},\"type\":\"carpet\"}],\"choropleth\":[{\"colorbar\":{\"outlinewidth\":0,\"ticks\":\"\"},\"type\":\"choropleth\"}],\"contourcarpet\":[{\"colorbar\":{\"outlinewidth\":0,\"ticks\":\"\"},\"type\":\"contourcarpet\"}],\"contour\":[{\"colorbar\":{\"outlinewidth\":0,\"ticks\":\"\"},\"colorscale\":[[0.0,\"#0d0887\"],[0.1111111111111111,\"#46039f\"],[0.2222222222222222,\"#7201a8\"],[0.3333333333333333,\"#9c179e\"],[0.4444444444444444,\"#bd3786\"],[0.5555555555555556,\"#d8576b\"],[0.6666666666666666,\"#ed7953\"],[0.7777777777777778,\"#fb9f3a\"],[0.8888888888888888,\"#fdca26\"],[1.0,\"#f0f921\"]],\"type\":\"contour\"}],\"heatmapgl\":[{\"colorbar\":{\"outlinewidth\":0,\"ticks\":\"\"},\"colorscale\":[[0.0,\"#0d0887\"],[0.1111111111111111,\"#46039f\"],[0.2222222222222222,\"#7201a8\"],[0.3333333333333333,\"#9c179e\"],[0.4444444444444444,\"#bd3786\"],[0.5555555555555556,\"#d8576b\"],[0.6666666666666666,\"#ed7953\"],[0.7777777777777778,\"#fb9f3a\"],[0.8888888888888888,\"#fdca26\"],[1.0,\"#f0f921\"]],\"type\":\"heatmapgl\"}],\"heatmap\":[{\"colorbar\":{\"outlinewidth\":0,\"ticks\":\"\"},\"colorscale\":[[0.0,\"#0d0887\"],[0.1111111111111111,\"#46039f\"],[0.2222222222222222,\"#7201a8\"],[0.3333333333333333,\"#9c179e\"],[0.4444444444444444,\"#bd3786\"],[0.5555555555555556,\"#d8576b\"],[0.6666666666666666,\"#ed7953\"],[0.7777777777777778,\"#fb9f3a\"],[0.8888888888888888,\"#fdca26\"],[1.0,\"#f0f921\"]],\"type\":\"heatmap\"}],\"histogram2dcontour\":[{\"colorbar\":{\"outlinewidth\":0,\"ticks\":\"\"},\"colorscale\":[[0.0,\"#0d0887\"],[0.1111111111111111,\"#46039f\"],[0.2222222222222222,\"#7201a8\"],[0.3333333333333333,\"#9c179e\"],[0.4444444444444444,\"#bd3786\"],[0.5555555555555556,\"#d8576b\"],[0.6666666666666666,\"#ed7953\"],[0.7777777777777778,\"#fb9f3a\"],[0.8888888888888888,\"#fdca26\"],[1.0,\"#f0f921\"]],\"type\":\"histogram2dcontour\"}],\"histogram2d\":[{\"colorbar\":{\"outlinewidth\":0,\"ticks\":\"\"},\"colorscale\":[[0.0,\"#0d0887\"],[0.1111111111111111,\"#46039f\"],[0.2222222222222222,\"#7201a8\"],[0.3333333333333333,\"#9c179e\"],[0.4444444444444444,\"#bd3786\"],[0.5555555555555556,\"#d8576b\"],[0.6666666666666666,\"#ed7953\"],[0.7777777777777778,\"#fb9f3a\"],[0.8888888888888888,\"#fdca26\"],[1.0,\"#f0f921\"]],\"type\":\"histogram2d\"}],\"histogram\":[{\"marker\":{\"pattern\":{\"fillmode\":\"overlay\",\"size\":10,\"solidity\":0.2}},\"type\":\"histogram\"}],\"mesh3d\":[{\"colorbar\":{\"outlinewidth\":0,\"ticks\":\"\"},\"type\":\"mesh3d\"}],\"parcoords\":[{\"line\":{\"colorbar\":{\"outlinewidth\":0,\"ticks\":\"\"}},\"type\":\"parcoords\"}],\"pie\":[{\"automargin\":true,\"type\":\"pie\"}],\"scatter3d\":[{\"line\":{\"colorbar\":{\"outlinewidth\":0,\"ticks\":\"\"}},\"marker\":{\"colorbar\":{\"outlinewidth\":0,\"ticks\":\"\"}},\"type\":\"scatter3d\"}],\"scattercarpet\":[{\"marker\":{\"colorbar\":{\"outlinewidth\":0,\"ticks\":\"\"}},\"type\":\"scattercarpet\"}],\"scattergeo\":[{\"marker\":{\"colorbar\":{\"outlinewidth\":0,\"ticks\":\"\"}},\"type\":\"scattergeo\"}],\"scattergl\":[{\"marker\":{\"colorbar\":{\"outlinewidth\":0,\"ticks\":\"\"}},\"type\":\"scattergl\"}],\"scattermapbox\":[{\"marker\":{\"colorbar\":{\"outlinewidth\":0,\"ticks\":\"\"}},\"type\":\"scattermapbox\"}],\"scatterpolargl\":[{\"marker\":{\"colorbar\":{\"outlinewidth\":0,\"ticks\":\"\"}},\"type\":\"scatterpolargl\"}],\"scatterpolar\":[{\"marker\":{\"colorbar\":{\"outlinewidth\":0,\"ticks\":\"\"}},\"type\":\"scatterpolar\"}],\"scatter\":[{\"fillpattern\":{\"fillmode\":\"overlay\",\"size\":10,\"solidity\":0.2},\"type\":\"scatter\"}],\"scatterternary\":[{\"marker\":{\"colorbar\":{\"outlinewidth\":0,\"ticks\":\"\"}},\"type\":\"scatterternary\"}],\"surface\":[{\"colorbar\":{\"outlinewidth\":0,\"ticks\":\"\"},\"colorscale\":[[0.0,\"#0d0887\"],[0.1111111111111111,\"#46039f\"],[0.2222222222222222,\"#7201a8\"],[0.3333333333333333,\"#9c179e\"],[0.4444444444444444,\"#bd3786\"],[0.5555555555555556,\"#d8576b\"],[0.6666666666666666,\"#ed7953\"],[0.7777777777777778,\"#fb9f3a\"],[0.8888888888888888,\"#fdca26\"],[1.0,\"#f0f921\"]],\"type\":\"surface\"}],\"table\":[{\"cells\":{\"fill\":{\"color\":\"#EBF0F8\"},\"line\":{\"color\":\"white\"}},\"header\":{\"fill\":{\"color\":\"#C8D4E3\"},\"line\":{\"color\":\"white\"}},\"type\":\"table\"}]},\"layout\":{\"annotationdefaults\":{\"arrowcolor\":\"#2a3f5f\",\"arrowhead\":0,\"arrowwidth\":1},\"autotypenumbers\":\"strict\",\"coloraxis\":{\"colorbar\":{\"outlinewidth\":0,\"ticks\":\"\"}},\"colorscale\":{\"diverging\":[[0,\"#8e0152\"],[0.1,\"#c51b7d\"],[0.2,\"#de77ae\"],[0.3,\"#f1b6da\"],[0.4,\"#fde0ef\"],[0.5,\"#f7f7f7\"],[0.6,\"#e6f5d0\"],[0.7,\"#b8e186\"],[0.8,\"#7fbc41\"],[0.9,\"#4d9221\"],[1,\"#276419\"]],\"sequential\":[[0.0,\"#0d0887\"],[0.1111111111111111,\"#46039f\"],[0.2222222222222222,\"#7201a8\"],[0.3333333333333333,\"#9c179e\"],[0.4444444444444444,\"#bd3786\"],[0.5555555555555556,\"#d8576b\"],[0.6666666666666666,\"#ed7953\"],[0.7777777777777778,\"#fb9f3a\"],[0.8888888888888888,\"#fdca26\"],[1.0,\"#f0f921\"]],\"sequentialminus\":[[0.0,\"#0d0887\"],[0.1111111111111111,\"#46039f\"],[0.2222222222222222,\"#7201a8\"],[0.3333333333333333,\"#9c179e\"],[0.4444444444444444,\"#bd3786\"],[0.5555555555555556,\"#d8576b\"],[0.6666666666666666,\"#ed7953\"],[0.7777777777777778,\"#fb9f3a\"],[0.8888888888888888,\"#fdca26\"],[1.0,\"#f0f921\"]]},\"colorway\":[\"#636efa\",\"#EF553B\",\"#00cc96\",\"#ab63fa\",\"#FFA15A\",\"#19d3f3\",\"#FF6692\",\"#B6E880\",\"#FF97FF\",\"#FECB52\"],\"font\":{\"color\":\"#2a3f5f\"},\"geo\":{\"bgcolor\":\"white\",\"lakecolor\":\"white\",\"landcolor\":\"#E5ECF6\",\"showlakes\":true,\"showland\":true,\"subunitcolor\":\"white\"},\"hoverlabel\":{\"align\":\"left\"},\"hovermode\":\"closest\",\"mapbox\":{\"style\":\"light\"},\"paper_bgcolor\":\"white\",\"plot_bgcolor\":\"#E5ECF6\",\"polar\":{\"angularaxis\":{\"gridcolor\":\"white\",\"linecolor\":\"white\",\"ticks\":\"\"},\"bgcolor\":\"#E5ECF6\",\"radialaxis\":{\"gridcolor\":\"white\",\"linecolor\":\"white\",\"ticks\":\"\"}},\"scene\":{\"xaxis\":{\"backgroundcolor\":\"#E5ECF6\",\"gridcolor\":\"white\",\"gridwidth\":2,\"linecolor\":\"white\",\"showbackground\":true,\"ticks\":\"\",\"zerolinecolor\":\"white\"},\"yaxis\":{\"backgroundcolor\":\"#E5ECF6\",\"gridcolor\":\"white\",\"gridwidth\":2,\"linecolor\":\"white\",\"showbackground\":true,\"ticks\":\"\",\"zerolinecolor\":\"white\"},\"zaxis\":{\"backgroundcolor\":\"#E5ECF6\",\"gridcolor\":\"white\",\"gridwidth\":2,\"linecolor\":\"white\",\"showbackground\":true,\"ticks\":\"\",\"zerolinecolor\":\"white\"}},\"shapedefaults\":{\"line\":{\"color\":\"#2a3f5f\"}},\"ternary\":{\"aaxis\":{\"gridcolor\":\"white\",\"linecolor\":\"white\",\"ticks\":\"\"},\"baxis\":{\"gridcolor\":\"white\",\"linecolor\":\"white\",\"ticks\":\"\"},\"bgcolor\":\"#E5ECF6\",\"caxis\":{\"gridcolor\":\"white\",\"linecolor\":\"white\",\"ticks\":\"\"}},\"title\":{\"x\":0.05},\"xaxis\":{\"automargin\":true,\"gridcolor\":\"white\",\"linecolor\":\"white\",\"ticks\":\"\",\"title\":{\"standoff\":15},\"zerolinecolor\":\"white\",\"zerolinewidth\":2},\"yaxis\":{\"automargin\":true,\"gridcolor\":\"white\",\"linecolor\":\"white\",\"ticks\":\"\",\"title\":{\"standoff\":15},\"zerolinecolor\":\"white\",\"zerolinewidth\":2}}},\"title\":{\"font\":{\"color\":\"#4D5663\"},\"text\":\"Top 100 bigrams after removing stop words\"},\"xaxis\":{\"gridcolor\":\"#E1E5ED\",\"linecolor\":\"black\",\"showgrid\":true,\"tickfont\":{\"color\":\"#4D5663\"},\"title\":{\"font\":{\"color\":\"#4D5663\"},\"text\":\"\"},\"zerolinecolor\":\"#E1E5ED\"},\"yaxis\":{\"gridcolor\":\"#E1E5ED\",\"linecolor\":\"black\",\"showgrid\":true,\"tickfont\":{\"color\":\"#4D5663\"},\"title\":{\"font\":{\"color\":\"#4D5663\"},\"text\":\"Count\"},\"zerolinecolor\":\"#E1E5ED\"}},                        {\"showLink\": true, \"linkText\": \"Export to plot.ly\", \"plotlyServerURL\": \"https://plot.ly\", \"responsive\": true}                    ).then(function(){\n",
       "                            \n",
       "var gd = document.getElementById('ca7c0444-f5c6-4e7a-9eda-14208790015c');\n",
       "var x = new MutationObserver(function (mutations, observer) {{\n",
       "        var display = window.getComputedStyle(gd).display;\n",
       "        if (!display || display === 'none') {{\n",
       "            console.log([gd, 'removed!']);\n",
       "            Plotly.purge(gd);\n",
       "            observer.disconnect();\n",
       "        }}\n",
       "}});\n",
       "\n",
       "// Listen for the removal of the full notebook cells\n",
       "var notebookContainer = gd.closest('#notebook-container');\n",
       "if (notebookContainer) {{\n",
       "    x.observe(notebookContainer, {childList: true});\n",
       "}}\n",
       "\n",
       "// Listen for the clearing of the current output cell\n",
       "var outputEl = gd.closest('.output');\n",
       "if (outputEl) {{\n",
       "    x.observe(outputEl, {childList: true});\n",
       "}}\n",
       "\n",
       "                        })                };                });            </script>        </div>"
      ]
     },
     "metadata": {},
     "output_type": "display_data"
    }
   ],
   "source": [
    "plot_model(plot = 'bigram')"
   ]
  },
  {
   "cell_type": "code",
   "execution_count": null,
   "metadata": {},
   "outputs": [
    {
     "data": {
      "text/html": [
       "        <script type=\"text/javascript\">\n",
       "        window.PlotlyConfig = {MathJaxConfig: 'local'};\n",
       "        if (window.MathJax && window.MathJax.Hub && window.MathJax.Hub.Config) {window.MathJax.Hub.Config({SVG: {font: \"STIX-Web\"}});}\n",
       "        if (typeof require !== 'undefined') {\n",
       "        require.undef(\"plotly\");\n",
       "        requirejs.config({\n",
       "            paths: {\n",
       "                'plotly': ['https://cdn.plot.ly/plotly-2.12.1.min']\n",
       "            }\n",
       "        });\n",
       "        require(['plotly'], function(Plotly) {\n",
       "            window._Plotly = Plotly;\n",
       "        });\n",
       "        }\n",
       "        </script>\n",
       "        "
      ]
     },
     "metadata": {},
     "output_type": "display_data"
    },
    {
     "data": {
      "application/vnd.plotly.v1+json": {
       "config": {
        "linkText": "Export to plot.ly",
        "plotlyServerURL": "https://plot.ly",
        "showLink": true
       },
       "data": [
        {
         "marker": {
          "color": "rgba(255, 153, 51, 0.6)",
          "line": {
           "color": "rgba(255, 153, 51, 1.0)",
           "width": 1
          }
         },
         "name": "count",
         "orientation": "v",
         "text": "",
         "type": "bar",
         "x": [
          "business",
          "loan",
          "sell",
          "year",
          "child",
          "work",
          "buy",
          "product",
          "make",
          "help",
          "home",
          "use",
          "old",
          "start",
          "husband",
          "also",
          "able",
          "well",
          "store",
          "family",
          "order",
          "hope",
          "small",
          "live",
          "purchase",
          "customer",
          "school",
          "client",
          "want",
          "need",
          "provide",
          "increase",
          "invest",
          "sale",
          "grow",
          "new",
          "first",
          "continue",
          "life",
          "item",
          "good",
          "merchandise",
          "improve",
          "time",
          "ago",
          "group",
          "money",
          "begin",
          "take",
          "day",
          "income",
          "house",
          "clothing",
          "wife",
          "offer",
          "clothe",
          "second",
          "food",
          "give",
          "people",
          "open",
          "son",
          "go",
          "expand",
          "experience",
          "receive",
          "community",
          "capital",
          "member",
          "request",
          "run",
          "goal",
          "woman",
          "mother",
          "profit",
          "large",
          "area",
          "support",
          "education",
          "marry",
          "currently",
          "daughter",
          "allow",
          "save",
          "service",
          "hard",
          "mifex_offers_client",
          "microfinance_ecuador_services_please",
          "training_educational_programs_information",
          "market",
          "org",
          "build",
          "mifex_org_www_mifex",
          "investment",
          "would",
          "shop",
          "thank",
          "study",
          "come",
          "quality"
         ],
         "y": [
          781,
          557,
          472,
          432,
          336,
          300,
          253,
          243,
          238,
          235,
          230,
          229,
          207,
          196,
          187,
          185,
          179,
          178,
          168,
          166,
          135,
          131,
          127,
          124,
          114,
          111,
          107,
          107,
          107,
          105,
          103,
          103,
          103,
          101,
          97,
          97,
          95,
          91,
          91,
          89,
          87,
          86,
          86,
          84,
          82,
          80,
          76,
          75,
          75,
          74,
          73,
          73,
          72,
          72,
          71,
          69,
          68,
          65,
          65,
          65,
          65,
          63,
          62,
          62,
          61,
          61,
          59,
          58,
          58,
          54,
          54,
          54,
          53,
          53,
          53,
          53,
          52,
          51,
          51,
          51,
          50,
          50,
          49,
          49,
          48,
          47,
          45,
          45,
          45,
          45,
          45,
          45,
          44,
          44,
          44,
          44,
          42,
          42,
          41,
          41
         ]
        }
       ],
       "layout": {
        "legend": {
         "bgcolor": "#F5F6F9",
         "font": {
          "color": "#4D5663"
         }
        },
        "paper_bgcolor": "#F5F6F9",
        "plot_bgcolor": "#F5F6F9",
        "template": {
         "data": {
          "bar": [
           {
            "error_x": {
             "color": "#2a3f5f"
            },
            "error_y": {
             "color": "#2a3f5f"
            },
            "marker": {
             "line": {
              "color": "#E5ECF6",
              "width": 0.5
             },
             "pattern": {
              "fillmode": "overlay",
              "size": 10,
              "solidity": 0.2
             }
            },
            "type": "bar"
           }
          ],
          "barpolar": [
           {
            "marker": {
             "line": {
              "color": "#E5ECF6",
              "width": 0.5
             },
             "pattern": {
              "fillmode": "overlay",
              "size": 10,
              "solidity": 0.2
             }
            },
            "type": "barpolar"
           }
          ],
          "carpet": [
           {
            "aaxis": {
             "endlinecolor": "#2a3f5f",
             "gridcolor": "white",
             "linecolor": "white",
             "minorgridcolor": "white",
             "startlinecolor": "#2a3f5f"
            },
            "baxis": {
             "endlinecolor": "#2a3f5f",
             "gridcolor": "white",
             "linecolor": "white",
             "minorgridcolor": "white",
             "startlinecolor": "#2a3f5f"
            },
            "type": "carpet"
           }
          ],
          "choropleth": [
           {
            "colorbar": {
             "outlinewidth": 0,
             "ticks": ""
            },
            "type": "choropleth"
           }
          ],
          "contour": [
           {
            "colorbar": {
             "outlinewidth": 0,
             "ticks": ""
            },
            "colorscale": [
             [
              0,
              "#0d0887"
             ],
             [
              0.1111111111111111,
              "#46039f"
             ],
             [
              0.2222222222222222,
              "#7201a8"
             ],
             [
              0.3333333333333333,
              "#9c179e"
             ],
             [
              0.4444444444444444,
              "#bd3786"
             ],
             [
              0.5555555555555556,
              "#d8576b"
             ],
             [
              0.6666666666666666,
              "#ed7953"
             ],
             [
              0.7777777777777778,
              "#fb9f3a"
             ],
             [
              0.8888888888888888,
              "#fdca26"
             ],
             [
              1,
              "#f0f921"
             ]
            ],
            "type": "contour"
           }
          ],
          "contourcarpet": [
           {
            "colorbar": {
             "outlinewidth": 0,
             "ticks": ""
            },
            "type": "contourcarpet"
           }
          ],
          "heatmap": [
           {
            "colorbar": {
             "outlinewidth": 0,
             "ticks": ""
            },
            "colorscale": [
             [
              0,
              "#0d0887"
             ],
             [
              0.1111111111111111,
              "#46039f"
             ],
             [
              0.2222222222222222,
              "#7201a8"
             ],
             [
              0.3333333333333333,
              "#9c179e"
             ],
             [
              0.4444444444444444,
              "#bd3786"
             ],
             [
              0.5555555555555556,
              "#d8576b"
             ],
             [
              0.6666666666666666,
              "#ed7953"
             ],
             [
              0.7777777777777778,
              "#fb9f3a"
             ],
             [
              0.8888888888888888,
              "#fdca26"
             ],
             [
              1,
              "#f0f921"
             ]
            ],
            "type": "heatmap"
           }
          ],
          "heatmapgl": [
           {
            "colorbar": {
             "outlinewidth": 0,
             "ticks": ""
            },
            "colorscale": [
             [
              0,
              "#0d0887"
             ],
             [
              0.1111111111111111,
              "#46039f"
             ],
             [
              0.2222222222222222,
              "#7201a8"
             ],
             [
              0.3333333333333333,
              "#9c179e"
             ],
             [
              0.4444444444444444,
              "#bd3786"
             ],
             [
              0.5555555555555556,
              "#d8576b"
             ],
             [
              0.6666666666666666,
              "#ed7953"
             ],
             [
              0.7777777777777778,
              "#fb9f3a"
             ],
             [
              0.8888888888888888,
              "#fdca26"
             ],
             [
              1,
              "#f0f921"
             ]
            ],
            "type": "heatmapgl"
           }
          ],
          "histogram": [
           {
            "marker": {
             "pattern": {
              "fillmode": "overlay",
              "size": 10,
              "solidity": 0.2
             }
            },
            "type": "histogram"
           }
          ],
          "histogram2d": [
           {
            "colorbar": {
             "outlinewidth": 0,
             "ticks": ""
            },
            "colorscale": [
             [
              0,
              "#0d0887"
             ],
             [
              0.1111111111111111,
              "#46039f"
             ],
             [
              0.2222222222222222,
              "#7201a8"
             ],
             [
              0.3333333333333333,
              "#9c179e"
             ],
             [
              0.4444444444444444,
              "#bd3786"
             ],
             [
              0.5555555555555556,
              "#d8576b"
             ],
             [
              0.6666666666666666,
              "#ed7953"
             ],
             [
              0.7777777777777778,
              "#fb9f3a"
             ],
             [
              0.8888888888888888,
              "#fdca26"
             ],
             [
              1,
              "#f0f921"
             ]
            ],
            "type": "histogram2d"
           }
          ],
          "histogram2dcontour": [
           {
            "colorbar": {
             "outlinewidth": 0,
             "ticks": ""
            },
            "colorscale": [
             [
              0,
              "#0d0887"
             ],
             [
              0.1111111111111111,
              "#46039f"
             ],
             [
              0.2222222222222222,
              "#7201a8"
             ],
             [
              0.3333333333333333,
              "#9c179e"
             ],
             [
              0.4444444444444444,
              "#bd3786"
             ],
             [
              0.5555555555555556,
              "#d8576b"
             ],
             [
              0.6666666666666666,
              "#ed7953"
             ],
             [
              0.7777777777777778,
              "#fb9f3a"
             ],
             [
              0.8888888888888888,
              "#fdca26"
             ],
             [
              1,
              "#f0f921"
             ]
            ],
            "type": "histogram2dcontour"
           }
          ],
          "mesh3d": [
           {
            "colorbar": {
             "outlinewidth": 0,
             "ticks": ""
            },
            "type": "mesh3d"
           }
          ],
          "parcoords": [
           {
            "line": {
             "colorbar": {
              "outlinewidth": 0,
              "ticks": ""
             }
            },
            "type": "parcoords"
           }
          ],
          "pie": [
           {
            "automargin": true,
            "type": "pie"
           }
          ],
          "scatter": [
           {
            "fillpattern": {
             "fillmode": "overlay",
             "size": 10,
             "solidity": 0.2
            },
            "type": "scatter"
           }
          ],
          "scatter3d": [
           {
            "line": {
             "colorbar": {
              "outlinewidth": 0,
              "ticks": ""
             }
            },
            "marker": {
             "colorbar": {
              "outlinewidth": 0,
              "ticks": ""
             }
            },
            "type": "scatter3d"
           }
          ],
          "scattercarpet": [
           {
            "marker": {
             "colorbar": {
              "outlinewidth": 0,
              "ticks": ""
             }
            },
            "type": "scattercarpet"
           }
          ],
          "scattergeo": [
           {
            "marker": {
             "colorbar": {
              "outlinewidth": 0,
              "ticks": ""
             }
            },
            "type": "scattergeo"
           }
          ],
          "scattergl": [
           {
            "marker": {
             "colorbar": {
              "outlinewidth": 0,
              "ticks": ""
             }
            },
            "type": "scattergl"
           }
          ],
          "scattermapbox": [
           {
            "marker": {
             "colorbar": {
              "outlinewidth": 0,
              "ticks": ""
             }
            },
            "type": "scattermapbox"
           }
          ],
          "scatterpolar": [
           {
            "marker": {
             "colorbar": {
              "outlinewidth": 0,
              "ticks": ""
             }
            },
            "type": "scatterpolar"
           }
          ],
          "scatterpolargl": [
           {
            "marker": {
             "colorbar": {
              "outlinewidth": 0,
              "ticks": ""
             }
            },
            "type": "scatterpolargl"
           }
          ],
          "scatterternary": [
           {
            "marker": {
             "colorbar": {
              "outlinewidth": 0,
              "ticks": ""
             }
            },
            "type": "scatterternary"
           }
          ],
          "surface": [
           {
            "colorbar": {
             "outlinewidth": 0,
             "ticks": ""
            },
            "colorscale": [
             [
              0,
              "#0d0887"
             ],
             [
              0.1111111111111111,
              "#46039f"
             ],
             [
              0.2222222222222222,
              "#7201a8"
             ],
             [
              0.3333333333333333,
              "#9c179e"
             ],
             [
              0.4444444444444444,
              "#bd3786"
             ],
             [
              0.5555555555555556,
              "#d8576b"
             ],
             [
              0.6666666666666666,
              "#ed7953"
             ],
             [
              0.7777777777777778,
              "#fb9f3a"
             ],
             [
              0.8888888888888888,
              "#fdca26"
             ],
             [
              1,
              "#f0f921"
             ]
            ],
            "type": "surface"
           }
          ],
          "table": [
           {
            "cells": {
             "fill": {
              "color": "#EBF0F8"
             },
             "line": {
              "color": "white"
             }
            },
            "header": {
             "fill": {
              "color": "#C8D4E3"
             },
             "line": {
              "color": "white"
             }
            },
            "type": "table"
           }
          ]
         },
         "layout": {
          "annotationdefaults": {
           "arrowcolor": "#2a3f5f",
           "arrowhead": 0,
           "arrowwidth": 1
          },
          "autotypenumbers": "strict",
          "coloraxis": {
           "colorbar": {
            "outlinewidth": 0,
            "ticks": ""
           }
          },
          "colorscale": {
           "diverging": [
            [
             0,
             "#8e0152"
            ],
            [
             0.1,
             "#c51b7d"
            ],
            [
             0.2,
             "#de77ae"
            ],
            [
             0.3,
             "#f1b6da"
            ],
            [
             0.4,
             "#fde0ef"
            ],
            [
             0.5,
             "#f7f7f7"
            ],
            [
             0.6,
             "#e6f5d0"
            ],
            [
             0.7,
             "#b8e186"
            ],
            [
             0.8,
             "#7fbc41"
            ],
            [
             0.9,
             "#4d9221"
            ],
            [
             1,
             "#276419"
            ]
           ],
           "sequential": [
            [
             0,
             "#0d0887"
            ],
            [
             0.1111111111111111,
             "#46039f"
            ],
            [
             0.2222222222222222,
             "#7201a8"
            ],
            [
             0.3333333333333333,
             "#9c179e"
            ],
            [
             0.4444444444444444,
             "#bd3786"
            ],
            [
             0.5555555555555556,
             "#d8576b"
            ],
            [
             0.6666666666666666,
             "#ed7953"
            ],
            [
             0.7777777777777778,
             "#fb9f3a"
            ],
            [
             0.8888888888888888,
             "#fdca26"
            ],
            [
             1,
             "#f0f921"
            ]
           ],
           "sequentialminus": [
            [
             0,
             "#0d0887"
            ],
            [
             0.1111111111111111,
             "#46039f"
            ],
            [
             0.2222222222222222,
             "#7201a8"
            ],
            [
             0.3333333333333333,
             "#9c179e"
            ],
            [
             0.4444444444444444,
             "#bd3786"
            ],
            [
             0.5555555555555556,
             "#d8576b"
            ],
            [
             0.6666666666666666,
             "#ed7953"
            ],
            [
             0.7777777777777778,
             "#fb9f3a"
            ],
            [
             0.8888888888888888,
             "#fdca26"
            ],
            [
             1,
             "#f0f921"
            ]
           ]
          },
          "colorway": [
           "#636efa",
           "#EF553B",
           "#00cc96",
           "#ab63fa",
           "#FFA15A",
           "#19d3f3",
           "#FF6692",
           "#B6E880",
           "#FF97FF",
           "#FECB52"
          ],
          "font": {
           "color": "#2a3f5f"
          },
          "geo": {
           "bgcolor": "white",
           "lakecolor": "white",
           "landcolor": "#E5ECF6",
           "showlakes": true,
           "showland": true,
           "subunitcolor": "white"
          },
          "hoverlabel": {
           "align": "left"
          },
          "hovermode": "closest",
          "mapbox": {
           "style": "light"
          },
          "paper_bgcolor": "white",
          "plot_bgcolor": "#E5ECF6",
          "polar": {
           "angularaxis": {
            "gridcolor": "white",
            "linecolor": "white",
            "ticks": ""
           },
           "bgcolor": "#E5ECF6",
           "radialaxis": {
            "gridcolor": "white",
            "linecolor": "white",
            "ticks": ""
           }
          },
          "scene": {
           "xaxis": {
            "backgroundcolor": "#E5ECF6",
            "gridcolor": "white",
            "gridwidth": 2,
            "linecolor": "white",
            "showbackground": true,
            "ticks": "",
            "zerolinecolor": "white"
           },
           "yaxis": {
            "backgroundcolor": "#E5ECF6",
            "gridcolor": "white",
            "gridwidth": 2,
            "linecolor": "white",
            "showbackground": true,
            "ticks": "",
            "zerolinecolor": "white"
           },
           "zaxis": {
            "backgroundcolor": "#E5ECF6",
            "gridcolor": "white",
            "gridwidth": 2,
            "linecolor": "white",
            "showbackground": true,
            "ticks": "",
            "zerolinecolor": "white"
           }
          },
          "shapedefaults": {
           "line": {
            "color": "#2a3f5f"
           }
          },
          "ternary": {
           "aaxis": {
            "gridcolor": "white",
            "linecolor": "white",
            "ticks": ""
           },
           "baxis": {
            "gridcolor": "white",
            "linecolor": "white",
            "ticks": ""
           },
           "bgcolor": "#E5ECF6",
           "caxis": {
            "gridcolor": "white",
            "linecolor": "white",
            "ticks": ""
           }
          },
          "title": {
           "x": 0.05
          },
          "xaxis": {
           "automargin": true,
           "gridcolor": "white",
           "linecolor": "white",
           "ticks": "",
           "title": {
            "standoff": 15
           },
           "zerolinecolor": "white",
           "zerolinewidth": 2
          },
          "yaxis": {
           "automargin": true,
           "gridcolor": "white",
           "linecolor": "white",
           "ticks": "",
           "title": {
            "standoff": 15
           },
           "zerolinecolor": "white",
           "zerolinewidth": 2
          }
         }
        },
        "title": {
         "font": {
          "color": "#4D5663"
         },
         "text": "Topic 1: Top 100 words after removing stop words"
        },
        "xaxis": {
         "gridcolor": "#E1E5ED",
         "linecolor": "black",
         "showgrid": true,
         "tickfont": {
          "color": "#4D5663"
         },
         "title": {
          "font": {
           "color": "#4D5663"
          },
          "text": ""
         },
         "zerolinecolor": "#E1E5ED"
        },
        "yaxis": {
         "gridcolor": "#E1E5ED",
         "linecolor": "black",
         "showgrid": true,
         "tickfont": {
          "color": "#4D5663"
         },
         "title": {
          "font": {
           "color": "#4D5663"
          },
          "text": "Count"
         },
         "zerolinecolor": "#E1E5ED"
        }
       }
      },
      "text/html": [
       "<div>                            <div id=\"fd2d7131-5002-40c8-8fb3-eb3773dc4eae\" class=\"plotly-graph-div\" style=\"height:525px; width:100%;\"></div>            <script type=\"text/javascript\">                require([\"plotly\"], function(Plotly) {                    window.PLOTLYENV=window.PLOTLYENV || {};\n",
       "                    window.PLOTLYENV.BASE_URL='https://plot.ly';                                    if (document.getElementById(\"fd2d7131-5002-40c8-8fb3-eb3773dc4eae\")) {                    Plotly.newPlot(                        \"fd2d7131-5002-40c8-8fb3-eb3773dc4eae\",                        [{\"marker\":{\"color\":\"rgba(255, 153, 51, 0.6)\",\"line\":{\"color\":\"rgba(255, 153, 51, 1.0)\",\"width\":1}},\"name\":\"count\",\"orientation\":\"v\",\"text\":\"\",\"x\":[\"business\",\"loan\",\"sell\",\"year\",\"child\",\"work\",\"buy\",\"product\",\"make\",\"help\",\"home\",\"use\",\"old\",\"start\",\"husband\",\"also\",\"able\",\"well\",\"store\",\"family\",\"order\",\"hope\",\"small\",\"live\",\"purchase\",\"customer\",\"school\",\"client\",\"want\",\"need\",\"provide\",\"increase\",\"invest\",\"sale\",\"grow\",\"new\",\"first\",\"continue\",\"life\",\"item\",\"good\",\"merchandise\",\"improve\",\"time\",\"ago\",\"group\",\"money\",\"begin\",\"take\",\"day\",\"income\",\"house\",\"clothing\",\"wife\",\"offer\",\"clothe\",\"second\",\"food\",\"give\",\"people\",\"open\",\"son\",\"go\",\"expand\",\"experience\",\"receive\",\"community\",\"capital\",\"member\",\"request\",\"run\",\"goal\",\"woman\",\"mother\",\"profit\",\"large\",\"area\",\"support\",\"education\",\"marry\",\"currently\",\"daughter\",\"allow\",\"save\",\"service\",\"hard\",\"mifex_offers_client\",\"microfinance_ecuador_services_please\",\"training_educational_programs_information\",\"market\",\"org\",\"build\",\"mifex_org_www_mifex\",\"investment\",\"would\",\"shop\",\"thank\",\"study\",\"come\",\"quality\"],\"y\":[781,557,472,432,336,300,253,243,238,235,230,229,207,196,187,185,179,178,168,166,135,131,127,124,114,111,107,107,107,105,103,103,103,101,97,97,95,91,91,89,87,86,86,84,82,80,76,75,75,74,73,73,72,72,71,69,68,65,65,65,65,63,62,62,61,61,59,58,58,54,54,54,53,53,53,53,52,51,51,51,50,50,49,49,48,47,45,45,45,45,45,45,44,44,44,44,42,42,41,41],\"type\":\"bar\"}],                        {\"legend\":{\"bgcolor\":\"#F5F6F9\",\"font\":{\"color\":\"#4D5663\"}},\"paper_bgcolor\":\"#F5F6F9\",\"plot_bgcolor\":\"#F5F6F9\",\"template\":{\"data\":{\"barpolar\":[{\"marker\":{\"line\":{\"color\":\"#E5ECF6\",\"width\":0.5},\"pattern\":{\"fillmode\":\"overlay\",\"size\":10,\"solidity\":0.2}},\"type\":\"barpolar\"}],\"bar\":[{\"error_x\":{\"color\":\"#2a3f5f\"},\"error_y\":{\"color\":\"#2a3f5f\"},\"marker\":{\"line\":{\"color\":\"#E5ECF6\",\"width\":0.5},\"pattern\":{\"fillmode\":\"overlay\",\"size\":10,\"solidity\":0.2}},\"type\":\"bar\"}],\"carpet\":[{\"aaxis\":{\"endlinecolor\":\"#2a3f5f\",\"gridcolor\":\"white\",\"linecolor\":\"white\",\"minorgridcolor\":\"white\",\"startlinecolor\":\"#2a3f5f\"},\"baxis\":{\"endlinecolor\":\"#2a3f5f\",\"gridcolor\":\"white\",\"linecolor\":\"white\",\"minorgridcolor\":\"white\",\"startlinecolor\":\"#2a3f5f\"},\"type\":\"carpet\"}],\"choropleth\":[{\"colorbar\":{\"outlinewidth\":0,\"ticks\":\"\"},\"type\":\"choropleth\"}],\"contourcarpet\":[{\"colorbar\":{\"outlinewidth\":0,\"ticks\":\"\"},\"type\":\"contourcarpet\"}],\"contour\":[{\"colorbar\":{\"outlinewidth\":0,\"ticks\":\"\"},\"colorscale\":[[0.0,\"#0d0887\"],[0.1111111111111111,\"#46039f\"],[0.2222222222222222,\"#7201a8\"],[0.3333333333333333,\"#9c179e\"],[0.4444444444444444,\"#bd3786\"],[0.5555555555555556,\"#d8576b\"],[0.6666666666666666,\"#ed7953\"],[0.7777777777777778,\"#fb9f3a\"],[0.8888888888888888,\"#fdca26\"],[1.0,\"#f0f921\"]],\"type\":\"contour\"}],\"heatmapgl\":[{\"colorbar\":{\"outlinewidth\":0,\"ticks\":\"\"},\"colorscale\":[[0.0,\"#0d0887\"],[0.1111111111111111,\"#46039f\"],[0.2222222222222222,\"#7201a8\"],[0.3333333333333333,\"#9c179e\"],[0.4444444444444444,\"#bd3786\"],[0.5555555555555556,\"#d8576b\"],[0.6666666666666666,\"#ed7953\"],[0.7777777777777778,\"#fb9f3a\"],[0.8888888888888888,\"#fdca26\"],[1.0,\"#f0f921\"]],\"type\":\"heatmapgl\"}],\"heatmap\":[{\"colorbar\":{\"outlinewidth\":0,\"ticks\":\"\"},\"colorscale\":[[0.0,\"#0d0887\"],[0.1111111111111111,\"#46039f\"],[0.2222222222222222,\"#7201a8\"],[0.3333333333333333,\"#9c179e\"],[0.4444444444444444,\"#bd3786\"],[0.5555555555555556,\"#d8576b\"],[0.6666666666666666,\"#ed7953\"],[0.7777777777777778,\"#fb9f3a\"],[0.8888888888888888,\"#fdca26\"],[1.0,\"#f0f921\"]],\"type\":\"heatmap\"}],\"histogram2dcontour\":[{\"colorbar\":{\"outlinewidth\":0,\"ticks\":\"\"},\"colorscale\":[[0.0,\"#0d0887\"],[0.1111111111111111,\"#46039f\"],[0.2222222222222222,\"#7201a8\"],[0.3333333333333333,\"#9c179e\"],[0.4444444444444444,\"#bd3786\"],[0.5555555555555556,\"#d8576b\"],[0.6666666666666666,\"#ed7953\"],[0.7777777777777778,\"#fb9f3a\"],[0.8888888888888888,\"#fdca26\"],[1.0,\"#f0f921\"]],\"type\":\"histogram2dcontour\"}],\"histogram2d\":[{\"colorbar\":{\"outlinewidth\":0,\"ticks\":\"\"},\"colorscale\":[[0.0,\"#0d0887\"],[0.1111111111111111,\"#46039f\"],[0.2222222222222222,\"#7201a8\"],[0.3333333333333333,\"#9c179e\"],[0.4444444444444444,\"#bd3786\"],[0.5555555555555556,\"#d8576b\"],[0.6666666666666666,\"#ed7953\"],[0.7777777777777778,\"#fb9f3a\"],[0.8888888888888888,\"#fdca26\"],[1.0,\"#f0f921\"]],\"type\":\"histogram2d\"}],\"histogram\":[{\"marker\":{\"pattern\":{\"fillmode\":\"overlay\",\"size\":10,\"solidity\":0.2}},\"type\":\"histogram\"}],\"mesh3d\":[{\"colorbar\":{\"outlinewidth\":0,\"ticks\":\"\"},\"type\":\"mesh3d\"}],\"parcoords\":[{\"line\":{\"colorbar\":{\"outlinewidth\":0,\"ticks\":\"\"}},\"type\":\"parcoords\"}],\"pie\":[{\"automargin\":true,\"type\":\"pie\"}],\"scatter3d\":[{\"line\":{\"colorbar\":{\"outlinewidth\":0,\"ticks\":\"\"}},\"marker\":{\"colorbar\":{\"outlinewidth\":0,\"ticks\":\"\"}},\"type\":\"scatter3d\"}],\"scattercarpet\":[{\"marker\":{\"colorbar\":{\"outlinewidth\":0,\"ticks\":\"\"}},\"type\":\"scattercarpet\"}],\"scattergeo\":[{\"marker\":{\"colorbar\":{\"outlinewidth\":0,\"ticks\":\"\"}},\"type\":\"scattergeo\"}],\"scattergl\":[{\"marker\":{\"colorbar\":{\"outlinewidth\":0,\"ticks\":\"\"}},\"type\":\"scattergl\"}],\"scattermapbox\":[{\"marker\":{\"colorbar\":{\"outlinewidth\":0,\"ticks\":\"\"}},\"type\":\"scattermapbox\"}],\"scatterpolargl\":[{\"marker\":{\"colorbar\":{\"outlinewidth\":0,\"ticks\":\"\"}},\"type\":\"scatterpolargl\"}],\"scatterpolar\":[{\"marker\":{\"colorbar\":{\"outlinewidth\":0,\"ticks\":\"\"}},\"type\":\"scatterpolar\"}],\"scatter\":[{\"fillpattern\":{\"fillmode\":\"overlay\",\"size\":10,\"solidity\":0.2},\"type\":\"scatter\"}],\"scatterternary\":[{\"marker\":{\"colorbar\":{\"outlinewidth\":0,\"ticks\":\"\"}},\"type\":\"scatterternary\"}],\"surface\":[{\"colorbar\":{\"outlinewidth\":0,\"ticks\":\"\"},\"colorscale\":[[0.0,\"#0d0887\"],[0.1111111111111111,\"#46039f\"],[0.2222222222222222,\"#7201a8\"],[0.3333333333333333,\"#9c179e\"],[0.4444444444444444,\"#bd3786\"],[0.5555555555555556,\"#d8576b\"],[0.6666666666666666,\"#ed7953\"],[0.7777777777777778,\"#fb9f3a\"],[0.8888888888888888,\"#fdca26\"],[1.0,\"#f0f921\"]],\"type\":\"surface\"}],\"table\":[{\"cells\":{\"fill\":{\"color\":\"#EBF0F8\"},\"line\":{\"color\":\"white\"}},\"header\":{\"fill\":{\"color\":\"#C8D4E3\"},\"line\":{\"color\":\"white\"}},\"type\":\"table\"}]},\"layout\":{\"annotationdefaults\":{\"arrowcolor\":\"#2a3f5f\",\"arrowhead\":0,\"arrowwidth\":1},\"autotypenumbers\":\"strict\",\"coloraxis\":{\"colorbar\":{\"outlinewidth\":0,\"ticks\":\"\"}},\"colorscale\":{\"diverging\":[[0,\"#8e0152\"],[0.1,\"#c51b7d\"],[0.2,\"#de77ae\"],[0.3,\"#f1b6da\"],[0.4,\"#fde0ef\"],[0.5,\"#f7f7f7\"],[0.6,\"#e6f5d0\"],[0.7,\"#b8e186\"],[0.8,\"#7fbc41\"],[0.9,\"#4d9221\"],[1,\"#276419\"]],\"sequential\":[[0.0,\"#0d0887\"],[0.1111111111111111,\"#46039f\"],[0.2222222222222222,\"#7201a8\"],[0.3333333333333333,\"#9c179e\"],[0.4444444444444444,\"#bd3786\"],[0.5555555555555556,\"#d8576b\"],[0.6666666666666666,\"#ed7953\"],[0.7777777777777778,\"#fb9f3a\"],[0.8888888888888888,\"#fdca26\"],[1.0,\"#f0f921\"]],\"sequentialminus\":[[0.0,\"#0d0887\"],[0.1111111111111111,\"#46039f\"],[0.2222222222222222,\"#7201a8\"],[0.3333333333333333,\"#9c179e\"],[0.4444444444444444,\"#bd3786\"],[0.5555555555555556,\"#d8576b\"],[0.6666666666666666,\"#ed7953\"],[0.7777777777777778,\"#fb9f3a\"],[0.8888888888888888,\"#fdca26\"],[1.0,\"#f0f921\"]]},\"colorway\":[\"#636efa\",\"#EF553B\",\"#00cc96\",\"#ab63fa\",\"#FFA15A\",\"#19d3f3\",\"#FF6692\",\"#B6E880\",\"#FF97FF\",\"#FECB52\"],\"font\":{\"color\":\"#2a3f5f\"},\"geo\":{\"bgcolor\":\"white\",\"lakecolor\":\"white\",\"landcolor\":\"#E5ECF6\",\"showlakes\":true,\"showland\":true,\"subunitcolor\":\"white\"},\"hoverlabel\":{\"align\":\"left\"},\"hovermode\":\"closest\",\"mapbox\":{\"style\":\"light\"},\"paper_bgcolor\":\"white\",\"plot_bgcolor\":\"#E5ECF6\",\"polar\":{\"angularaxis\":{\"gridcolor\":\"white\",\"linecolor\":\"white\",\"ticks\":\"\"},\"bgcolor\":\"#E5ECF6\",\"radialaxis\":{\"gridcolor\":\"white\",\"linecolor\":\"white\",\"ticks\":\"\"}},\"scene\":{\"xaxis\":{\"backgroundcolor\":\"#E5ECF6\",\"gridcolor\":\"white\",\"gridwidth\":2,\"linecolor\":\"white\",\"showbackground\":true,\"ticks\":\"\",\"zerolinecolor\":\"white\"},\"yaxis\":{\"backgroundcolor\":\"#E5ECF6\",\"gridcolor\":\"white\",\"gridwidth\":2,\"linecolor\":\"white\",\"showbackground\":true,\"ticks\":\"\",\"zerolinecolor\":\"white\"},\"zaxis\":{\"backgroundcolor\":\"#E5ECF6\",\"gridcolor\":\"white\",\"gridwidth\":2,\"linecolor\":\"white\",\"showbackground\":true,\"ticks\":\"\",\"zerolinecolor\":\"white\"}},\"shapedefaults\":{\"line\":{\"color\":\"#2a3f5f\"}},\"ternary\":{\"aaxis\":{\"gridcolor\":\"white\",\"linecolor\":\"white\",\"ticks\":\"\"},\"baxis\":{\"gridcolor\":\"white\",\"linecolor\":\"white\",\"ticks\":\"\"},\"bgcolor\":\"#E5ECF6\",\"caxis\":{\"gridcolor\":\"white\",\"linecolor\":\"white\",\"ticks\":\"\"}},\"title\":{\"x\":0.05},\"xaxis\":{\"automargin\":true,\"gridcolor\":\"white\",\"linecolor\":\"white\",\"ticks\":\"\",\"title\":{\"standoff\":15},\"zerolinecolor\":\"white\",\"zerolinewidth\":2},\"yaxis\":{\"automargin\":true,\"gridcolor\":\"white\",\"linecolor\":\"white\",\"ticks\":\"\",\"title\":{\"standoff\":15},\"zerolinecolor\":\"white\",\"zerolinewidth\":2}}},\"title\":{\"font\":{\"color\":\"#4D5663\"},\"text\":\"Topic 1: Top 100 words after removing stop words\"},\"xaxis\":{\"gridcolor\":\"#E1E5ED\",\"linecolor\":\"black\",\"showgrid\":true,\"tickfont\":{\"color\":\"#4D5663\"},\"title\":{\"font\":{\"color\":\"#4D5663\"},\"text\":\"\"},\"zerolinecolor\":\"#E1E5ED\"},\"yaxis\":{\"gridcolor\":\"#E1E5ED\",\"linecolor\":\"black\",\"showgrid\":true,\"tickfont\":{\"color\":\"#4D5663\"},\"title\":{\"font\":{\"color\":\"#4D5663\"},\"text\":\"Count\"},\"zerolinecolor\":\"#E1E5ED\"}},                        {\"showLink\": true, \"linkText\": \"Export to plot.ly\", \"plotlyServerURL\": \"https://plot.ly\", \"responsive\": true}                    ).then(function(){\n",
       "                            \n",
       "var gd = document.getElementById('fd2d7131-5002-40c8-8fb3-eb3773dc4eae');\n",
       "var x = new MutationObserver(function (mutations, observer) {{\n",
       "        var display = window.getComputedStyle(gd).display;\n",
       "        if (!display || display === 'none') {{\n",
       "            console.log([gd, 'removed!']);\n",
       "            Plotly.purge(gd);\n",
       "            observer.disconnect();\n",
       "        }}\n",
       "}});\n",
       "\n",
       "// Listen for the removal of the full notebook cells\n",
       "var notebookContainer = gd.closest('#notebook-container');\n",
       "if (notebookContainer) {{\n",
       "    x.observe(notebookContainer, {childList: true});\n",
       "}}\n",
       "\n",
       "// Listen for the clearing of the current output cell\n",
       "var outputEl = gd.closest('.output');\n",
       "if (outputEl) {{\n",
       "    x.observe(outputEl, {childList: true});\n",
       "}}\n",
       "\n",
       "                        })                };                });            </script>        </div>"
      ]
     },
     "metadata": {},
     "output_type": "display_data"
    }
   ],
   "source": [
    "plot_model(lda, plot = 'frequency', topic_num = 'Topic 1')"
   ]
  },
  {
   "cell_type": "code",
   "execution_count": null,
   "metadata": {},
   "outputs": [
    {
     "data": {
      "text/html": [
       "        <script type=\"text/javascript\">\n",
       "        window.PlotlyConfig = {MathJaxConfig: 'local'};\n",
       "        if (window.MathJax && window.MathJax.Hub && window.MathJax.Hub.Config) {window.MathJax.Hub.Config({SVG: {font: \"STIX-Web\"}});}\n",
       "        if (typeof require !== 'undefined') {\n",
       "        require.undef(\"plotly\");\n",
       "        requirejs.config({\n",
       "            paths: {\n",
       "                'plotly': ['https://cdn.plot.ly/plotly-2.12.1.min']\n",
       "            }\n",
       "        });\n",
       "        require(['plotly'], function(Plotly) {\n",
       "            window._Plotly = Plotly;\n",
       "        });\n",
       "        }\n",
       "        </script>\n",
       "        "
      ]
     },
     "metadata": {},
     "output_type": "display_data"
    },
    {
     "data": {
      "application/vnd.plotly.v1+json": {
       "config": {
        "plotlyServerURL": "https://plot.ly"
       },
       "data": [
        {
         "alignmentgroup": "True",
         "customdata": [
          [
           "business, sell, community, loan, child, year, woman, small, entrepreneur, buy"
          ],
          [
           "business, loan, sell, year, work, product, child, home, make, help"
          ],
          [
           "loan, business, child, school, year, buy, able, group, sell, family"
          ],
          [
           "rice, loan, farmer, also, use, land, small, area, sector, many"
          ]
         ],
         "hovertemplate": "Topic=%{x}<br>Documents=%{y}<br>Keyword=%{customdata[0]}<extra></extra>",
         "legendgroup": "",
         "marker": {
          "color": "#636efa",
          "pattern": {
           "shape": ""
          }
         },
         "name": "",
         "offsetgroup": "",
         "orientation": "v",
         "showlegend": false,
         "textposition": "auto",
         "type": "bar",
         "x": [
          "Topic 0",
          "Topic 1",
          "Topic 2",
          "Topic 3"
         ],
         "xaxis": "x",
         "y": [
          204,
          311,
          457,
          28
         ],
         "yaxis": "y"
        }
       ],
       "layout": {
        "barmode": "relative",
        "legend": {
         "tracegroupgap": 0
        },
        "template": {
         "data": {
          "bar": [
           {
            "error_x": {
             "color": "#2a3f5f"
            },
            "error_y": {
             "color": "#2a3f5f"
            },
            "marker": {
             "line": {
              "color": "#E5ECF6",
              "width": 0.5
             },
             "pattern": {
              "fillmode": "overlay",
              "size": 10,
              "solidity": 0.2
             }
            },
            "type": "bar"
           }
          ],
          "barpolar": [
           {
            "marker": {
             "line": {
              "color": "#E5ECF6",
              "width": 0.5
             },
             "pattern": {
              "fillmode": "overlay",
              "size": 10,
              "solidity": 0.2
             }
            },
            "type": "barpolar"
           }
          ],
          "carpet": [
           {
            "aaxis": {
             "endlinecolor": "#2a3f5f",
             "gridcolor": "white",
             "linecolor": "white",
             "minorgridcolor": "white",
             "startlinecolor": "#2a3f5f"
            },
            "baxis": {
             "endlinecolor": "#2a3f5f",
             "gridcolor": "white",
             "linecolor": "white",
             "minorgridcolor": "white",
             "startlinecolor": "#2a3f5f"
            },
            "type": "carpet"
           }
          ],
          "choropleth": [
           {
            "colorbar": {
             "outlinewidth": 0,
             "ticks": ""
            },
            "type": "choropleth"
           }
          ],
          "contour": [
           {
            "colorbar": {
             "outlinewidth": 0,
             "ticks": ""
            },
            "colorscale": [
             [
              0,
              "#0d0887"
             ],
             [
              0.1111111111111111,
              "#46039f"
             ],
             [
              0.2222222222222222,
              "#7201a8"
             ],
             [
              0.3333333333333333,
              "#9c179e"
             ],
             [
              0.4444444444444444,
              "#bd3786"
             ],
             [
              0.5555555555555556,
              "#d8576b"
             ],
             [
              0.6666666666666666,
              "#ed7953"
             ],
             [
              0.7777777777777778,
              "#fb9f3a"
             ],
             [
              0.8888888888888888,
              "#fdca26"
             ],
             [
              1,
              "#f0f921"
             ]
            ],
            "type": "contour"
           }
          ],
          "contourcarpet": [
           {
            "colorbar": {
             "outlinewidth": 0,
             "ticks": ""
            },
            "type": "contourcarpet"
           }
          ],
          "heatmap": [
           {
            "colorbar": {
             "outlinewidth": 0,
             "ticks": ""
            },
            "colorscale": [
             [
              0,
              "#0d0887"
             ],
             [
              0.1111111111111111,
              "#46039f"
             ],
             [
              0.2222222222222222,
              "#7201a8"
             ],
             [
              0.3333333333333333,
              "#9c179e"
             ],
             [
              0.4444444444444444,
              "#bd3786"
             ],
             [
              0.5555555555555556,
              "#d8576b"
             ],
             [
              0.6666666666666666,
              "#ed7953"
             ],
             [
              0.7777777777777778,
              "#fb9f3a"
             ],
             [
              0.8888888888888888,
              "#fdca26"
             ],
             [
              1,
              "#f0f921"
             ]
            ],
            "type": "heatmap"
           }
          ],
          "heatmapgl": [
           {
            "colorbar": {
             "outlinewidth": 0,
             "ticks": ""
            },
            "colorscale": [
             [
              0,
              "#0d0887"
             ],
             [
              0.1111111111111111,
              "#46039f"
             ],
             [
              0.2222222222222222,
              "#7201a8"
             ],
             [
              0.3333333333333333,
              "#9c179e"
             ],
             [
              0.4444444444444444,
              "#bd3786"
             ],
             [
              0.5555555555555556,
              "#d8576b"
             ],
             [
              0.6666666666666666,
              "#ed7953"
             ],
             [
              0.7777777777777778,
              "#fb9f3a"
             ],
             [
              0.8888888888888888,
              "#fdca26"
             ],
             [
              1,
              "#f0f921"
             ]
            ],
            "type": "heatmapgl"
           }
          ],
          "histogram": [
           {
            "marker": {
             "pattern": {
              "fillmode": "overlay",
              "size": 10,
              "solidity": 0.2
             }
            },
            "type": "histogram"
           }
          ],
          "histogram2d": [
           {
            "colorbar": {
             "outlinewidth": 0,
             "ticks": ""
            },
            "colorscale": [
             [
              0,
              "#0d0887"
             ],
             [
              0.1111111111111111,
              "#46039f"
             ],
             [
              0.2222222222222222,
              "#7201a8"
             ],
             [
              0.3333333333333333,
              "#9c179e"
             ],
             [
              0.4444444444444444,
              "#bd3786"
             ],
             [
              0.5555555555555556,
              "#d8576b"
             ],
             [
              0.6666666666666666,
              "#ed7953"
             ],
             [
              0.7777777777777778,
              "#fb9f3a"
             ],
             [
              0.8888888888888888,
              "#fdca26"
             ],
             [
              1,
              "#f0f921"
             ]
            ],
            "type": "histogram2d"
           }
          ],
          "histogram2dcontour": [
           {
            "colorbar": {
             "outlinewidth": 0,
             "ticks": ""
            },
            "colorscale": [
             [
              0,
              "#0d0887"
             ],
             [
              0.1111111111111111,
              "#46039f"
             ],
             [
              0.2222222222222222,
              "#7201a8"
             ],
             [
              0.3333333333333333,
              "#9c179e"
             ],
             [
              0.4444444444444444,
              "#bd3786"
             ],
             [
              0.5555555555555556,
              "#d8576b"
             ],
             [
              0.6666666666666666,
              "#ed7953"
             ],
             [
              0.7777777777777778,
              "#fb9f3a"
             ],
             [
              0.8888888888888888,
              "#fdca26"
             ],
             [
              1,
              "#f0f921"
             ]
            ],
            "type": "histogram2dcontour"
           }
          ],
          "mesh3d": [
           {
            "colorbar": {
             "outlinewidth": 0,
             "ticks": ""
            },
            "type": "mesh3d"
           }
          ],
          "parcoords": [
           {
            "line": {
             "colorbar": {
              "outlinewidth": 0,
              "ticks": ""
             }
            },
            "type": "parcoords"
           }
          ],
          "pie": [
           {
            "automargin": true,
            "type": "pie"
           }
          ],
          "scatter": [
           {
            "fillpattern": {
             "fillmode": "overlay",
             "size": 10,
             "solidity": 0.2
            },
            "type": "scatter"
           }
          ],
          "scatter3d": [
           {
            "line": {
             "colorbar": {
              "outlinewidth": 0,
              "ticks": ""
             }
            },
            "marker": {
             "colorbar": {
              "outlinewidth": 0,
              "ticks": ""
             }
            },
            "type": "scatter3d"
           }
          ],
          "scattercarpet": [
           {
            "marker": {
             "colorbar": {
              "outlinewidth": 0,
              "ticks": ""
             }
            },
            "type": "scattercarpet"
           }
          ],
          "scattergeo": [
           {
            "marker": {
             "colorbar": {
              "outlinewidth": 0,
              "ticks": ""
             }
            },
            "type": "scattergeo"
           }
          ],
          "scattergl": [
           {
            "marker": {
             "colorbar": {
              "outlinewidth": 0,
              "ticks": ""
             }
            },
            "type": "scattergl"
           }
          ],
          "scattermapbox": [
           {
            "marker": {
             "colorbar": {
              "outlinewidth": 0,
              "ticks": ""
             }
            },
            "type": "scattermapbox"
           }
          ],
          "scatterpolar": [
           {
            "marker": {
             "colorbar": {
              "outlinewidth": 0,
              "ticks": ""
             }
            },
            "type": "scatterpolar"
           }
          ],
          "scatterpolargl": [
           {
            "marker": {
             "colorbar": {
              "outlinewidth": 0,
              "ticks": ""
             }
            },
            "type": "scatterpolargl"
           }
          ],
          "scatterternary": [
           {
            "marker": {
             "colorbar": {
              "outlinewidth": 0,
              "ticks": ""
             }
            },
            "type": "scatterternary"
           }
          ],
          "surface": [
           {
            "colorbar": {
             "outlinewidth": 0,
             "ticks": ""
            },
            "colorscale": [
             [
              0,
              "#0d0887"
             ],
             [
              0.1111111111111111,
              "#46039f"
             ],
             [
              0.2222222222222222,
              "#7201a8"
             ],
             [
              0.3333333333333333,
              "#9c179e"
             ],
             [
              0.4444444444444444,
              "#bd3786"
             ],
             [
              0.5555555555555556,
              "#d8576b"
             ],
             [
              0.6666666666666666,
              "#ed7953"
             ],
             [
              0.7777777777777778,
              "#fb9f3a"
             ],
             [
              0.8888888888888888,
              "#fdca26"
             ],
             [
              1,
              "#f0f921"
             ]
            ],
            "type": "surface"
           }
          ],
          "table": [
           {
            "cells": {
             "fill": {
              "color": "#EBF0F8"
             },
             "line": {
              "color": "white"
             }
            },
            "header": {
             "fill": {
              "color": "#C8D4E3"
             },
             "line": {
              "color": "white"
             }
            },
            "type": "table"
           }
          ]
         },
         "layout": {
          "annotationdefaults": {
           "arrowcolor": "#2a3f5f",
           "arrowhead": 0,
           "arrowwidth": 1
          },
          "autotypenumbers": "strict",
          "coloraxis": {
           "colorbar": {
            "outlinewidth": 0,
            "ticks": ""
           }
          },
          "colorscale": {
           "diverging": [
            [
             0,
             "#8e0152"
            ],
            [
             0.1,
             "#c51b7d"
            ],
            [
             0.2,
             "#de77ae"
            ],
            [
             0.3,
             "#f1b6da"
            ],
            [
             0.4,
             "#fde0ef"
            ],
            [
             0.5,
             "#f7f7f7"
            ],
            [
             0.6,
             "#e6f5d0"
            ],
            [
             0.7,
             "#b8e186"
            ],
            [
             0.8,
             "#7fbc41"
            ],
            [
             0.9,
             "#4d9221"
            ],
            [
             1,
             "#276419"
            ]
           ],
           "sequential": [
            [
             0,
             "#0d0887"
            ],
            [
             0.1111111111111111,
             "#46039f"
            ],
            [
             0.2222222222222222,
             "#7201a8"
            ],
            [
             0.3333333333333333,
             "#9c179e"
            ],
            [
             0.4444444444444444,
             "#bd3786"
            ],
            [
             0.5555555555555556,
             "#d8576b"
            ],
            [
             0.6666666666666666,
             "#ed7953"
            ],
            [
             0.7777777777777778,
             "#fb9f3a"
            ],
            [
             0.8888888888888888,
             "#fdca26"
            ],
            [
             1,
             "#f0f921"
            ]
           ],
           "sequentialminus": [
            [
             0,
             "#0d0887"
            ],
            [
             0.1111111111111111,
             "#46039f"
            ],
            [
             0.2222222222222222,
             "#7201a8"
            ],
            [
             0.3333333333333333,
             "#9c179e"
            ],
            [
             0.4444444444444444,
             "#bd3786"
            ],
            [
             0.5555555555555556,
             "#d8576b"
            ],
            [
             0.6666666666666666,
             "#ed7953"
            ],
            [
             0.7777777777777778,
             "#fb9f3a"
            ],
            [
             0.8888888888888888,
             "#fdca26"
            ],
            [
             1,
             "#f0f921"
            ]
           ]
          },
          "colorway": [
           "#636efa",
           "#EF553B",
           "#00cc96",
           "#ab63fa",
           "#FFA15A",
           "#19d3f3",
           "#FF6692",
           "#B6E880",
           "#FF97FF",
           "#FECB52"
          ],
          "font": {
           "color": "#2a3f5f"
          },
          "geo": {
           "bgcolor": "white",
           "lakecolor": "white",
           "landcolor": "#E5ECF6",
           "showlakes": true,
           "showland": true,
           "subunitcolor": "white"
          },
          "hoverlabel": {
           "align": "left"
          },
          "hovermode": "closest",
          "mapbox": {
           "style": "light"
          },
          "paper_bgcolor": "white",
          "plot_bgcolor": "#E5ECF6",
          "polar": {
           "angularaxis": {
            "gridcolor": "white",
            "linecolor": "white",
            "ticks": ""
           },
           "bgcolor": "#E5ECF6",
           "radialaxis": {
            "gridcolor": "white",
            "linecolor": "white",
            "ticks": ""
           }
          },
          "scene": {
           "xaxis": {
            "backgroundcolor": "#E5ECF6",
            "gridcolor": "white",
            "gridwidth": 2,
            "linecolor": "white",
            "showbackground": true,
            "ticks": "",
            "zerolinecolor": "white"
           },
           "yaxis": {
            "backgroundcolor": "#E5ECF6",
            "gridcolor": "white",
            "gridwidth": 2,
            "linecolor": "white",
            "showbackground": true,
            "ticks": "",
            "zerolinecolor": "white"
           },
           "zaxis": {
            "backgroundcolor": "#E5ECF6",
            "gridcolor": "white",
            "gridwidth": 2,
            "linecolor": "white",
            "showbackground": true,
            "ticks": "",
            "zerolinecolor": "white"
           }
          },
          "shapedefaults": {
           "line": {
            "color": "#2a3f5f"
           }
          },
          "ternary": {
           "aaxis": {
            "gridcolor": "white",
            "linecolor": "white",
            "ticks": ""
           },
           "baxis": {
            "gridcolor": "white",
            "linecolor": "white",
            "ticks": ""
           },
           "bgcolor": "#E5ECF6",
           "caxis": {
            "gridcolor": "white",
            "linecolor": "white",
            "ticks": ""
           }
          },
          "title": {
           "x": 0.05
          },
          "xaxis": {
           "automargin": true,
           "gridcolor": "white",
           "linecolor": "white",
           "ticks": "",
           "title": {
            "standoff": 15
           },
           "zerolinecolor": "white",
           "zerolinewidth": 2
          },
          "yaxis": {
           "automargin": true,
           "gridcolor": "white",
           "linecolor": "white",
           "ticks": "",
           "title": {
            "standoff": 15
           },
           "zerolinecolor": "white",
           "zerolinewidth": 2
          }
         }
        },
        "title": {
         "text": "Document Distribution by Topics"
        },
        "xaxis": {
         "anchor": "y",
         "domain": [
          0,
          1
         ],
         "title": {
          "text": "Topic"
         }
        },
        "yaxis": {
         "anchor": "x",
         "domain": [
          0,
          1
         ],
         "title": {
          "text": "Documents"
         }
        }
       }
      },
      "text/html": [
       "<div>                            <div id=\"1126d9f0-3c1a-4525-9e3e-e1f87073ac3e\" class=\"plotly-graph-div\" style=\"height:525px; width:100%;\"></div>            <script type=\"text/javascript\">                require([\"plotly\"], function(Plotly) {                    window.PLOTLYENV=window.PLOTLYENV || {};                                    if (document.getElementById(\"1126d9f0-3c1a-4525-9e3e-e1f87073ac3e\")) {                    Plotly.newPlot(                        \"1126d9f0-3c1a-4525-9e3e-e1f87073ac3e\",                        [{\"alignmentgroup\":\"True\",\"customdata\":[[\"business, sell, community, loan, child, year, woman, small, entrepreneur, buy\"],[\"business, loan, sell, year, work, product, child, home, make, help\"],[\"loan, business, child, school, year, buy, able, group, sell, family\"],[\"rice, loan, farmer, also, use, land, small, area, sector, many\"]],\"hovertemplate\":\"Topic=%{x}<br>Documents=%{y}<br>Keyword=%{customdata[0]}<extra></extra>\",\"legendgroup\":\"\",\"marker\":{\"color\":\"#636efa\",\"pattern\":{\"shape\":\"\"}},\"name\":\"\",\"offsetgroup\":\"\",\"orientation\":\"v\",\"showlegend\":false,\"textposition\":\"auto\",\"x\":[\"Topic 0\",\"Topic 1\",\"Topic 2\",\"Topic 3\"],\"xaxis\":\"x\",\"y\":[204,311,457,28],\"yaxis\":\"y\",\"type\":\"bar\"}],                        {\"template\":{\"data\":{\"histogram2dcontour\":[{\"type\":\"histogram2dcontour\",\"colorbar\":{\"outlinewidth\":0,\"ticks\":\"\"},\"colorscale\":[[0.0,\"#0d0887\"],[0.1111111111111111,\"#46039f\"],[0.2222222222222222,\"#7201a8\"],[0.3333333333333333,\"#9c179e\"],[0.4444444444444444,\"#bd3786\"],[0.5555555555555556,\"#d8576b\"],[0.6666666666666666,\"#ed7953\"],[0.7777777777777778,\"#fb9f3a\"],[0.8888888888888888,\"#fdca26\"],[1.0,\"#f0f921\"]]}],\"choropleth\":[{\"type\":\"choropleth\",\"colorbar\":{\"outlinewidth\":0,\"ticks\":\"\"}}],\"histogram2d\":[{\"type\":\"histogram2d\",\"colorbar\":{\"outlinewidth\":0,\"ticks\":\"\"},\"colorscale\":[[0.0,\"#0d0887\"],[0.1111111111111111,\"#46039f\"],[0.2222222222222222,\"#7201a8\"],[0.3333333333333333,\"#9c179e\"],[0.4444444444444444,\"#bd3786\"],[0.5555555555555556,\"#d8576b\"],[0.6666666666666666,\"#ed7953\"],[0.7777777777777778,\"#fb9f3a\"],[0.8888888888888888,\"#fdca26\"],[1.0,\"#f0f921\"]]}],\"heatmap\":[{\"type\":\"heatmap\",\"colorbar\":{\"outlinewidth\":0,\"ticks\":\"\"},\"colorscale\":[[0.0,\"#0d0887\"],[0.1111111111111111,\"#46039f\"],[0.2222222222222222,\"#7201a8\"],[0.3333333333333333,\"#9c179e\"],[0.4444444444444444,\"#bd3786\"],[0.5555555555555556,\"#d8576b\"],[0.6666666666666666,\"#ed7953\"],[0.7777777777777778,\"#fb9f3a\"],[0.8888888888888888,\"#fdca26\"],[1.0,\"#f0f921\"]]}],\"heatmapgl\":[{\"type\":\"heatmapgl\",\"colorbar\":{\"outlinewidth\":0,\"ticks\":\"\"},\"colorscale\":[[0.0,\"#0d0887\"],[0.1111111111111111,\"#46039f\"],[0.2222222222222222,\"#7201a8\"],[0.3333333333333333,\"#9c179e\"],[0.4444444444444444,\"#bd3786\"],[0.5555555555555556,\"#d8576b\"],[0.6666666666666666,\"#ed7953\"],[0.7777777777777778,\"#fb9f3a\"],[0.8888888888888888,\"#fdca26\"],[1.0,\"#f0f921\"]]}],\"contourcarpet\":[{\"type\":\"contourcarpet\",\"colorbar\":{\"outlinewidth\":0,\"ticks\":\"\"}}],\"contour\":[{\"type\":\"contour\",\"colorbar\":{\"outlinewidth\":0,\"ticks\":\"\"},\"colorscale\":[[0.0,\"#0d0887\"],[0.1111111111111111,\"#46039f\"],[0.2222222222222222,\"#7201a8\"],[0.3333333333333333,\"#9c179e\"],[0.4444444444444444,\"#bd3786\"],[0.5555555555555556,\"#d8576b\"],[0.6666666666666666,\"#ed7953\"],[0.7777777777777778,\"#fb9f3a\"],[0.8888888888888888,\"#fdca26\"],[1.0,\"#f0f921\"]]}],\"surface\":[{\"type\":\"surface\",\"colorbar\":{\"outlinewidth\":0,\"ticks\":\"\"},\"colorscale\":[[0.0,\"#0d0887\"],[0.1111111111111111,\"#46039f\"],[0.2222222222222222,\"#7201a8\"],[0.3333333333333333,\"#9c179e\"],[0.4444444444444444,\"#bd3786\"],[0.5555555555555556,\"#d8576b\"],[0.6666666666666666,\"#ed7953\"],[0.7777777777777778,\"#fb9f3a\"],[0.8888888888888888,\"#fdca26\"],[1.0,\"#f0f921\"]]}],\"mesh3d\":[{\"type\":\"mesh3d\",\"colorbar\":{\"outlinewidth\":0,\"ticks\":\"\"}}],\"scatter\":[{\"fillpattern\":{\"fillmode\":\"overlay\",\"size\":10,\"solidity\":0.2},\"type\":\"scatter\"}],\"parcoords\":[{\"type\":\"parcoords\",\"line\":{\"colorbar\":{\"outlinewidth\":0,\"ticks\":\"\"}}}],\"scatterpolargl\":[{\"type\":\"scatterpolargl\",\"marker\":{\"colorbar\":{\"outlinewidth\":0,\"ticks\":\"\"}}}],\"bar\":[{\"error_x\":{\"color\":\"#2a3f5f\"},\"error_y\":{\"color\":\"#2a3f5f\"},\"marker\":{\"line\":{\"color\":\"#E5ECF6\",\"width\":0.5},\"pattern\":{\"fillmode\":\"overlay\",\"size\":10,\"solidity\":0.2}},\"type\":\"bar\"}],\"scattergeo\":[{\"type\":\"scattergeo\",\"marker\":{\"colorbar\":{\"outlinewidth\":0,\"ticks\":\"\"}}}],\"scatterpolar\":[{\"type\":\"scatterpolar\",\"marker\":{\"colorbar\":{\"outlinewidth\":0,\"ticks\":\"\"}}}],\"histogram\":[{\"marker\":{\"pattern\":{\"fillmode\":\"overlay\",\"size\":10,\"solidity\":0.2}},\"type\":\"histogram\"}],\"scattergl\":[{\"type\":\"scattergl\",\"marker\":{\"colorbar\":{\"outlinewidth\":0,\"ticks\":\"\"}}}],\"scatter3d\":[{\"type\":\"scatter3d\",\"line\":{\"colorbar\":{\"outlinewidth\":0,\"ticks\":\"\"}},\"marker\":{\"colorbar\":{\"outlinewidth\":0,\"ticks\":\"\"}}}],\"scattermapbox\":[{\"type\":\"scattermapbox\",\"marker\":{\"colorbar\":{\"outlinewidth\":0,\"ticks\":\"\"}}}],\"scatterternary\":[{\"type\":\"scatterternary\",\"marker\":{\"colorbar\":{\"outlinewidth\":0,\"ticks\":\"\"}}}],\"scattercarpet\":[{\"type\":\"scattercarpet\",\"marker\":{\"colorbar\":{\"outlinewidth\":0,\"ticks\":\"\"}}}],\"carpet\":[{\"aaxis\":{\"endlinecolor\":\"#2a3f5f\",\"gridcolor\":\"white\",\"linecolor\":\"white\",\"minorgridcolor\":\"white\",\"startlinecolor\":\"#2a3f5f\"},\"baxis\":{\"endlinecolor\":\"#2a3f5f\",\"gridcolor\":\"white\",\"linecolor\":\"white\",\"minorgridcolor\":\"white\",\"startlinecolor\":\"#2a3f5f\"},\"type\":\"carpet\"}],\"table\":[{\"cells\":{\"fill\":{\"color\":\"#EBF0F8\"},\"line\":{\"color\":\"white\"}},\"header\":{\"fill\":{\"color\":\"#C8D4E3\"},\"line\":{\"color\":\"white\"}},\"type\":\"table\"}],\"barpolar\":[{\"marker\":{\"line\":{\"color\":\"#E5ECF6\",\"width\":0.5},\"pattern\":{\"fillmode\":\"overlay\",\"size\":10,\"solidity\":0.2}},\"type\":\"barpolar\"}],\"pie\":[{\"automargin\":true,\"type\":\"pie\"}]},\"layout\":{\"autotypenumbers\":\"strict\",\"colorway\":[\"#636efa\",\"#EF553B\",\"#00cc96\",\"#ab63fa\",\"#FFA15A\",\"#19d3f3\",\"#FF6692\",\"#B6E880\",\"#FF97FF\",\"#FECB52\"],\"font\":{\"color\":\"#2a3f5f\"},\"hovermode\":\"closest\",\"hoverlabel\":{\"align\":\"left\"},\"paper_bgcolor\":\"white\",\"plot_bgcolor\":\"#E5ECF6\",\"polar\":{\"bgcolor\":\"#E5ECF6\",\"angularaxis\":{\"gridcolor\":\"white\",\"linecolor\":\"white\",\"ticks\":\"\"},\"radialaxis\":{\"gridcolor\":\"white\",\"linecolor\":\"white\",\"ticks\":\"\"}},\"ternary\":{\"bgcolor\":\"#E5ECF6\",\"aaxis\":{\"gridcolor\":\"white\",\"linecolor\":\"white\",\"ticks\":\"\"},\"baxis\":{\"gridcolor\":\"white\",\"linecolor\":\"white\",\"ticks\":\"\"},\"caxis\":{\"gridcolor\":\"white\",\"linecolor\":\"white\",\"ticks\":\"\"}},\"coloraxis\":{\"colorbar\":{\"outlinewidth\":0,\"ticks\":\"\"}},\"colorscale\":{\"sequential\":[[0.0,\"#0d0887\"],[0.1111111111111111,\"#46039f\"],[0.2222222222222222,\"#7201a8\"],[0.3333333333333333,\"#9c179e\"],[0.4444444444444444,\"#bd3786\"],[0.5555555555555556,\"#d8576b\"],[0.6666666666666666,\"#ed7953\"],[0.7777777777777778,\"#fb9f3a\"],[0.8888888888888888,\"#fdca26\"],[1.0,\"#f0f921\"]],\"sequentialminus\":[[0.0,\"#0d0887\"],[0.1111111111111111,\"#46039f\"],[0.2222222222222222,\"#7201a8\"],[0.3333333333333333,\"#9c179e\"],[0.4444444444444444,\"#bd3786\"],[0.5555555555555556,\"#d8576b\"],[0.6666666666666666,\"#ed7953\"],[0.7777777777777778,\"#fb9f3a\"],[0.8888888888888888,\"#fdca26\"],[1.0,\"#f0f921\"]],\"diverging\":[[0,\"#8e0152\"],[0.1,\"#c51b7d\"],[0.2,\"#de77ae\"],[0.3,\"#f1b6da\"],[0.4,\"#fde0ef\"],[0.5,\"#f7f7f7\"],[0.6,\"#e6f5d0\"],[0.7,\"#b8e186\"],[0.8,\"#7fbc41\"],[0.9,\"#4d9221\"],[1,\"#276419\"]]},\"xaxis\":{\"gridcolor\":\"white\",\"linecolor\":\"white\",\"ticks\":\"\",\"title\":{\"standoff\":15},\"zerolinecolor\":\"white\",\"automargin\":true,\"zerolinewidth\":2},\"yaxis\":{\"gridcolor\":\"white\",\"linecolor\":\"white\",\"ticks\":\"\",\"title\":{\"standoff\":15},\"zerolinecolor\":\"white\",\"automargin\":true,\"zerolinewidth\":2},\"scene\":{\"xaxis\":{\"backgroundcolor\":\"#E5ECF6\",\"gridcolor\":\"white\",\"linecolor\":\"white\",\"showbackground\":true,\"ticks\":\"\",\"zerolinecolor\":\"white\",\"gridwidth\":2},\"yaxis\":{\"backgroundcolor\":\"#E5ECF6\",\"gridcolor\":\"white\",\"linecolor\":\"white\",\"showbackground\":true,\"ticks\":\"\",\"zerolinecolor\":\"white\",\"gridwidth\":2},\"zaxis\":{\"backgroundcolor\":\"#E5ECF6\",\"gridcolor\":\"white\",\"linecolor\":\"white\",\"showbackground\":true,\"ticks\":\"\",\"zerolinecolor\":\"white\",\"gridwidth\":2}},\"shapedefaults\":{\"line\":{\"color\":\"#2a3f5f\"}},\"annotationdefaults\":{\"arrowcolor\":\"#2a3f5f\",\"arrowhead\":0,\"arrowwidth\":1},\"geo\":{\"bgcolor\":\"white\",\"landcolor\":\"#E5ECF6\",\"subunitcolor\":\"white\",\"showland\":true,\"showlakes\":true,\"lakecolor\":\"white\"},\"title\":{\"x\":0.05},\"mapbox\":{\"style\":\"light\"}}},\"xaxis\":{\"anchor\":\"y\",\"domain\":[0.0,1.0],\"title\":{\"text\":\"Topic\"}},\"yaxis\":{\"anchor\":\"x\",\"domain\":[0.0,1.0],\"title\":{\"text\":\"Documents\"}},\"legend\":{\"tracegroupgap\":0},\"title\":{\"text\":\"Document Distribution by Topics\"},\"barmode\":\"relative\"},                        {\"responsive\": true}                    ).then(function(){\n",
       "                            \n",
       "var gd = document.getElementById('1126d9f0-3c1a-4525-9e3e-e1f87073ac3e');\n",
       "var x = new MutationObserver(function (mutations, observer) {{\n",
       "        var display = window.getComputedStyle(gd).display;\n",
       "        if (!display || display === 'none') {{\n",
       "            console.log([gd, 'removed!']);\n",
       "            Plotly.purge(gd);\n",
       "            observer.disconnect();\n",
       "        }}\n",
       "}});\n",
       "\n",
       "// Listen for the removal of the full notebook cells\n",
       "var notebookContainer = gd.closest('#notebook-container');\n",
       "if (notebookContainer) {{\n",
       "    x.observe(notebookContainer, {childList: true});\n",
       "}}\n",
       "\n",
       "// Listen for the clearing of the current output cell\n",
       "var outputEl = gd.closest('.output');\n",
       "if (outputEl) {{\n",
       "    x.observe(outputEl, {childList: true});\n",
       "}}\n",
       "\n",
       "                        })                };                });            </script>        </div>"
      ]
     },
     "metadata": {},
     "output_type": "display_data"
    }
   ],
   "source": [
    "plot_model(lda, plot = 'topic_distribution')"
   ]
  },
  {
   "cell_type": "code",
   "execution_count": null,
   "metadata": {},
   "outputs": [
    {
     "data": {
      "text/html": [
       "        <script type=\"text/javascript\">\n",
       "        window.PlotlyConfig = {MathJaxConfig: 'local'};\n",
       "        if (window.MathJax && window.MathJax.Hub && window.MathJax.Hub.Config) {window.MathJax.Hub.Config({SVG: {font: \"STIX-Web\"}});}\n",
       "        if (typeof require !== 'undefined') {\n",
       "        require.undef(\"plotly\");\n",
       "        requirejs.config({\n",
       "            paths: {\n",
       "                'plotly': ['https://cdn.plot.ly/plotly-2.12.1.min']\n",
       "            }\n",
       "        });\n",
       "        require(['plotly'], function(Plotly) {\n",
       "            window._Plotly = Plotly;\n",
       "        });\n",
       "        }\n",
       "        </script>\n",
       "        "
      ]
     },
     "metadata": {},
     "output_type": "display_data"
    },
    {
     "data": {
      "application/vnd.plotly.v1+json": {
       "config": {
        "plotlyServerURL": "https://plot.ly"
       },
       "data": [
        {
         "hovertemplate": "Dominant_Topic=Topic 0<br>0=%{x}<br>1=%{y}<br>2=%{z}<extra></extra>",
         "legendgroup": "Topic 0",
         "marker": {
          "color": "#636efa",
          "opacity": 0.7,
          "symbol": "circle"
         },
         "mode": "markers",
         "name": "Topic 0",
         "scene": "scene",
         "showlegend": true,
         "type": "scatter3d",
         "x": [
          -7.9457292556762695,
          -7.627931118011475,
          -10.157678604125977,
          -4.926962852478027,
          -7.055996894836426,
          -7.234171390533447,
          0.018715763464570045,
          -10.060647010803223,
          -12.48039436340332,
          -2.7690510749816895,
          -8.41404914855957,
          -5.038110256195068,
          -8.225703239440918,
          -5.042664527893066,
          -6.514148235321045,
          -3.505845785140991,
          -1.0481761693954468,
          -5.315303802490234,
          -12.304738998413086,
          -12.248930931091309,
          -1.2066764831542969,
          -11.90322494506836,
          -1.8610883951187134,
          -5.6697492599487305,
          -1.2549482583999634,
          -1.976262092590332,
          -3.4758124351501465,
          -12.232725143432617,
          -10.452335357666016,
          -0.3016180992126465,
          -11.424826622009277,
          -5.395011901855469,
          -4.98275899887085,
          -2.3811516761779785,
          -2.1663057804107666,
          -2.8727009296417236,
          -12.04267406463623,
          -3.036994695663452,
          -7.915470600128174,
          -2.6565868854522705,
          -6.112994194030762,
          -1.5895112752914429,
          -8.5272855758667,
          -1.8228657245635986,
          -12.21633529663086,
          -10.381488800048828,
          -7.731869220733643,
          -2.3954124450683594,
          -6.7545576095581055,
          -8.911771774291992,
          -5.896399021148682,
          -11.56197738647461,
          -5.530653476715088,
          -0.7538859248161316,
          -6.18690299987793,
          -12.216371536254883,
          -11.960665702819824,
          -2.2709872722625732,
          -8.886161804199219,
          -11.935803413391113,
          -9.253205299377441,
          -0.2669384479522705,
          -2.0121970176696777,
          -12.016626358032227,
          0.3572671413421631,
          -2.701789617538452,
          0.1574767827987671,
          -7.481057643890381,
          -9.970893859863281,
          -6.2789130210876465,
          -5.677137851715088,
          -6.80078125,
          -6.409131050109863,
          -6.725569248199463,
          -2.321876287460327,
          0.04895354434847832,
          -3.072974681854248,
          -8.182456970214844,
          -7.5878729820251465,
          -2.5436031818389893,
          -0.5468742251396179,
          -5.285254001617432,
          -9.266921997070312,
          -4.982044696807861,
          -1.7767963409423828,
          -8.552833557128906,
          -4.681399822235107,
          -4.763460636138916,
          -6.3849873542785645,
          -6.811985969543457,
          -8.882160186767578,
          -12.561941146850586,
          -4.825186729431152,
          -1.9895557165145874,
          -1.6196110248565674,
          -1.2017344236373901,
          -8.2706937789917,
          -2.089061737060547,
          -2.6977882385253906,
          -7.035425662994385,
          -1.9125386476516724,
          -6.956578254699707,
          -0.8939954042434692,
          -0.978634238243103,
          0.811848521232605,
          -8.321370124816895,
          -0.09085066616535187,
          -0.47061967849731445,
          -0.2213265597820282,
          -3.3113129138946533,
          -7.707605838775635,
          -8.134523391723633,
          -6.69728422164917,
          -1.838572382926941,
          -1.5650577545166016,
          -6.036736488342285,
          -6.235682010650635,
          -5.767560005187988,
          -5.092308521270752,
          -11.904764175415039,
          -9.271659851074219,
          -0.5779126882553101,
          0.7215117812156677,
          -12.037906646728516,
          -4.448770523071289,
          -2.424680471420288,
          -1.9474878311157227,
          -10.613682746887207,
          -6.079879283905029,
          -6.564777851104736,
          -2.8589701652526855,
          -12.523994445800781,
          -11.903807640075684,
          0.15317867696285248,
          -6.474518775939941,
          -8.64841365814209,
          -2.741025924682617,
          -3.3843815326690674,
          -1.875541090965271,
          -6.163997650146484,
          -6.741404056549072,
          -1.3751792907714844,
          -6.672235488891602,
          -0.03290311619639397,
          -2.926563262939453,
          -6.040572643280029,
          -8.265918731689453,
          -2.3581814765930176,
          -5.032453536987305,
          -1.9099677801132202,
          -7.094387054443359,
          -5.543930530548096,
          -11.672811508178711,
          -8.817428588867188,
          -9.292006492614746,
          -2.5466675758361816,
          -8.707327842712402,
          -1.5456503629684448,
          -12.296621322631836,
          -5.178046226501465,
          -12.267494201660156,
          -2.677321672439575,
          -10.41635799407959,
          -5.500792026519775,
          -10.884451866149902,
          -1.158881425857544,
          -3.47843337059021,
          -1.9986568689346313,
          -6.200404644012451,
          -5.4521660804748535,
          -10.993837356567383,
          -2.2895262241363525,
          -6.476363658905029,
          -11.602253913879395,
          -1.214607834815979,
          -2.496842861175537,
          -2.773498773574829,
          -6.244824409484863,
          -4.091079235076904,
          0.2700953185558319,
          -9.004759788513184,
          -0.2684979736804962,
          -5.047082424163818,
          -7.692154884338379,
          -0.2922297418117523,
          -1.596298336982727,
          -5.442121982574463,
          -1.2329339981079102,
          -1.2208971977233887,
          -9.210326194763184,
          -9.090597152709961,
          -11.685579299926758,
          -2.5157477855682373,
          -10.487581253051758,
          -10.378068923950195,
          -3.685736894607544,
          -6.379734039306641,
          -3.526689291000366,
          -1.5417982339859009,
          -8.680584907531738,
          -7.085078239440918,
          -8.210097312927246,
          -2.6475322246551514,
          -5.734321594238281
         ],
         "y": [
          -2.764716386795044,
          -4.715635299682617,
          -1.9638848304748535,
          -1.0126265287399292,
          -1.200790286064148,
          -5.750080108642578,
          -1.939424991607666,
          -4.3743486404418945,
          -2.518336057662964,
          -3.1779110431671143,
          -5.296500205993652,
          -3.0526316165924072,
          -5.365360260009766,
          -2.836580276489258,
          -1.152469277381897,
          -5.813990116119385,
          -4.881818771362305,
          -1.5767476558685303,
          -2.8431406021118164,
          -2.148418426513672,
          -2.5967376232147217,
          -2.9597160816192627,
          -2.3603241443634033,
          -6.068525314331055,
          -3.575460433959961,
          -6.390305519104004,
          -4.290897846221924,
          -2.144462823867798,
          -2.03166127204895,
          -1.8159416913986206,
          -3.169778347015381,
          -1.010210633277893,
          -1.0034489631652832,
          -7.504141807556152,
          -2.3212056159973145,
          -0.7839812636375427,
          -2.533581018447876,
          -0.8549656271934509,
          -1.4027750492095947,
          -5.7379279136657715,
          -4.617420673370361,
          -4.557035446166992,
          -2.1390883922576904,
          -3.96720814704895,
          -2.3785297870635986,
          -4.1132354736328125,
          -1.4623240232467651,
          -6.453025817871094,
          -3.9284133911132812,
          -5.009502410888672,
          -4.282222270965576,
          -2.8267974853515625,
          -1.0284333229064941,
          -4.402016639709473,
          -1.1069085597991943,
          -2.261195182800293,
          -2.8245606422424316,
          -4.443830966949463,
          -5.116077899932861,
          -2.7708213329315186,
          -4.907993793487549,
          -2.1499321460723877,
          -0.5769522786140442,
          -2.121593475341797,
          -1.5049124956130981,
          -7.365391731262207,
          -1.588505506515503,
          -4.4212446212768555,
          -4.444042682647705,
          -4.021944046020508,
          -2.048118829727173,
          -5.86418342590332,
          -1.0375864505767822,
          -1.1469429731369019,
          -0.6609827280044556,
          -1.682502031326294,
          -5.963217735290527,
          -5.362565040588379,
          -1.285829782485962,
          -1.7384033203125,
          -4.9376935958862305,
          -2.968812942504883,
          -4.914059638977051,
          -3.1006662845611572,
          -0.49568745493888855,
          -5.230755805969238,
          -2.646740436553955,
          -0.9535835385322571,
          -2.175258159637451,
          -5.873045921325684,
          -1.7626428604125977,
          -2.5932979583740234,
          -6.132880687713623,
          -4.770482540130615,
          -4.754785537719727,
          -2.736086130142212,
          -2.5885391235351562,
          -0.6046374440193176,
          -2.0519940853118896,
          -4.068939208984375,
          -0.5304272174835205,
          -5.809023380279541,
          -2.5397937297821045,
          -4.288482189178467,
          -1.0914287567138672,
          -1.6035773754119873,
          -0.6953285336494446,
          -4.26045036315918,
          -2.4126057624816895,
          -6.701594829559326,
          -5.55680513381958,
          -5.39196252822876,
          -4.614657878875732,
          -0.8915838003158569,
          -0.6200894117355347,
          -1.5701794624328613,
          -3.7491681575775146,
          -6.026954650878906,
          -6.125256538391113,
          -2.195158004760742,
          -4.916309356689453,
          -4.50523567199707,
          -2.7546629905700684,
          -2.4515206813812256,
          -2.8211448192596436,
          -0.7425132989883423,
          -3.438319206237793,
          -3.899256467819214,
          -1.163893222808838,
          -5.911166191101074,
          -5.684334754943848,
          -2.4261112213134766,
          -2.648073673248291,
          -1.4012185335159302,
          -5.918604373931885,
          -5.21735143661499,
          -5.68979024887085,
          -5.606525421142578,
          -6.245516777038574,
          -1.1402344703674316,
          -1.1043201684951782,
          -3.2569544315338135,
          -5.844954967498779,
          -2.540221691131592,
          -3.4928839206695557,
          -6.021323204040527,
          -5.299947261810303,
          -6.127630710601807,
          -4.042949676513672,
          -2.253969669342041,
          -1.1630457639694214,
          -1.043527364730835,
          -2.912442207336426,
          -1.65847647190094,
          -1.7620011568069458,
          -4.093250274658203,
          -1.6061606407165527,
          -0.7251516580581665,
          -2.9148316383361816,
          -6.114038467407227,
          -2.735869884490967,
          -0.7305358648300171,
          -4.0795392990112305,
          -1.004479169845581,
          -2.1486635208129883,
          -3.8147451877593994,
          -0.8283940553665161,
          -0.5615607500076294,
          -4.319149494171143,
          -4.114249229431152,
          -2.178936719894409,
          -2.644390106201172,
          -5.578857421875,
          -2.4933834075927734,
          -3.29883074760437,
          -3.3055901527404785,
          -7.274386405944824,
          -5.933506965637207,
          -6.11575174331665,
          -2.6785261631011963,
          -1.708713173866272,
          -2.2830429077148438,
          -3.808913230895996,
          -1.3251683712005615,
          -0.9837188720703125,
          -4.0982160568237305,
          -2.1137635707855225,
          -0.8884363770484924,
          -3.0469985008239746,
          -4.961067199707031,
          -4.987618446350098,
          -2.4642727375030518,
          -7.6964030265808105,
          -2.099689483642578,
          -2.0218443870544434,
          -6.349948883056641,
          -5.944132328033447,
          -0.8422902822494507,
          -2.6730306148529053,
          -1.6478904485702515,
          -1.1726734638214111,
          -2.48421573638916,
          -3.2551984786987305,
          -4.4278693199157715
         ],
         "z": [
          -9.673698425292969,
          -8.11696720123291,
          -9.787053108215332,
          -10.409333229064941,
          -10.634754180908203,
          -7.1841349601745605,
          -7.239418029785156,
          -8.075836181640625,
          -9.165369987487793,
          -8.091251373291016,
          -7.58864164352417,
          -9.112257957458496,
          -7.534064769744873,
          -9.271235466003418,
          -10.632160186767578,
          -6.050767421722412,
          -5.454433917999268,
          -10.184167861938477,
          -9.148646354675293,
          -9.095128059387207,
          -7.639459609985352,
          -8.711028099060059,
          -8.247358322143555,
          -6.629143714904785,
          -6.833009243011475,
          -4.698559761047363,
          -7.442969799041748,
          -8.767180442810059,
          -9.673238754272461,
          -7.5858049392700195,
          -8.655879974365234,
          -10.533262252807617,
          -10.429964065551758,
          -3.9396615028381348,
          -8.511516571044922,
          -9.860105514526367,
          -8.466179847717285,
          -9.876561164855957,
          -10.507858276367188,
          -5.703968048095703,
          -8.107414245605469,
          -6.152266979217529,
          -10.50943660736084,
          -6.855961799621582,
          -8.533427238464355,
          -8.205052375793457,
          -10.48337173461914,
          -4.909893035888672,
          -8.745467185974121,
          -7.790850639343262,
          -8.35396671295166,
          -8.872318267822266,
          -10.554675102233887,
          -5.6936445236206055,
          -10.61963176727295,
          -9.215482711791992,
          -9.23984432220459,
          -6.68515682220459,
          -7.70366096496582,
          -9.26429557800293,
          -7.816719055175781,
          -7.304405212402344,
          -9.614531517028809,
          -8.851075172424316,
          -7.293543338775635,
          -4.272866725921631,
          -7.397189140319824,
          -8.366353988647461,
          -8.040699005126953,
          -8.622913360595703,
          -9.956214904785156,
          -7.06314754486084,
          -10.684565544128418,
          -10.652074813842773,
          -9.706698417663574,
          -7.4141130447387695,
          -5.7139410972595215,
          -7.5397186279296875,
          -10.588997840881348,
          -9.069246292114258,
          -5.024922847747803,
          -9.236136436462402,
          -7.809487819671631,
          -9.0590181350708,
          -9.545105934143066,
          -7.641201496124268,
          -9.293956756591797,
          -10.394046783447266,
          -9.975859642028809,
          -7.054808139801025,
          -10.192464828491211,
          -8.947281837463379,
          -6.286150932312012,
          -6.209634780883789,
          -5.984384059906006,
          -7.524812698364258,
          -9.78713607788086,
          -9.63350772857666,
          -8.916743278503418,
          -8.646573066711426,
          -9.593588829040527,
          -7.12129020690918,
          -7.462748050689697,
          -5.9721245765686035,
          -7.224734783172607,
          -10.363729476928711,
          -8.213797569274902,
          -5.603446960449219,
          -7.051237106323242,
          -5.1762590408325195,
          -7.419435024261475,
          -7.516314506530762,
          -8.17340087890625,
          -9.288737297058105,
          -9.322237968444824,
          -10.325355529785156,
          -8.827858924865723,
          -6.708402633666992,
          -6.3906049728393555,
          -8.729630470275879,
          -7.80703592300415,
          -5.460273265838623,
          -5.9191484451293945,
          -9.314558982849121,
          -9.082225799560547,
          -9.71407699584961,
          -7.406625747680664,
          -8.30709457397461,
          -10.573716163635254,
          -6.993627548217773,
          -5.860316753387451,
          -8.746127128601074,
          -9.289774894714355,
          -7.539871692657471,
          -6.9737629890441895,
          -7.6471266746521,
          -5.792946815490723,
          -6.191183567047119,
          -4.764554500579834,
          -10.598478317260742,
          -10.676894187927246,
          -7.2007269859313965,
          -7.071211814880371,
          -6.782872200012207,
          -7.90131139755249,
          -6.782293796539307,
          -7.621912002563477,
          -5.1811909675598145,
          -8.317956924438477,
          -8.357562065124512,
          -10.660594940185547,
          -10.548151969909668,
          -8.85291576385498,
          -10.26214599609375,
          -10.111513137817383,
          -7.163677215576172,
          -10.306477546691895,
          -9.231928825378418,
          -8.79633617401123,
          -6.430542469024658,
          -8.571745872497559,
          -9.814637184143066,
          -8.222795486450195,
          -10.560529708862305,
          -9.48958969116211,
          -6.547097682952881,
          -10.055401802062988,
          -9.61966323852539,
          -8.373017311096191,
          -8.390212059020996,
          -9.448452949523926,
          -8.270115852355957,
          -7.29978084564209,
          -8.773106575012207,
          -7.055165767669678,
          -7.842733383178711,
          -4.395475387573242,
          -6.934114933013916,
          -6.01943302154541,
          -6.401799201965332,
          -10.201823234558105,
          -7.195662975311279,
          -8.515819549560547,
          -10.562878608703613,
          -8.167266845703125,
          -6.589306354522705,
          -9.863044738769531,
          -8.907975196838379,
          -7.276519775390625,
          -7.782390117645264,
          -7.781179428100586,
          -8.632644653320312,
          -3.8433783054351807,
          -9.63804817199707,
          -9.695874214172363,
          -5.647355556488037,
          -6.938227653503418,
          -10.062966346740723,
          -7.8022541999816895,
          -10.291196823120117,
          -10.65446662902832,
          -9.896025657653809,
          -7.9649481773376465,
          -8.19777774810791
         ]
        },
        {
         "hovertemplate": "Dominant_Topic=Topic 1<br>0=%{x}<br>1=%{y}<br>2=%{z}<extra></extra>",
         "legendgroup": "Topic 1",
         "marker": {
          "color": "#EF553B",
          "opacity": 0.7,
          "symbol": "circle"
         },
         "mode": "markers",
         "name": "Topic 1",
         "scene": "scene",
         "showlegend": true,
         "type": "scatter3d",
         "x": [
          7.427457332611084,
          7.71676778793335,
          4.343689918518066,
          4.384413242340088,
          6.200432300567627,
          4.299566268920898,
          6.027554035186768,
          5.181463718414307,
          7.033001899719238,
          7.428346633911133,
          4.267778396606445,
          6.800673961639404,
          4.775094032287598,
          3.8574540615081787,
          6.250576972961426,
          6.815981388092041,
          2.641043186187744,
          2.5798754692077637,
          3.2285919189453125,
          7.521244049072266,
          6.149364471435547,
          0.8713163733482361,
          6.540011405944824,
          3.029008388519287,
          2.995077610015869,
          3.010777235031128,
          8.197848320007324,
          5.790047645568848,
          7.042032718658447,
          5.306138515472412,
          5.691394805908203,
          3.8338935375213623,
          3.1670355796813965,
          3.063026189804077,
          3.0040175914764404,
          4.942359447479248,
          5.702307224273682,
          2.9887022972106934,
          2.9537148475646973,
          7.187546253204346,
          3.1636404991149902,
          6.0487895011901855,
          4.263741970062256,
          3.103659152984619,
          1.1706061363220215,
          6.107080936431885,
          3.0785932540893555,
          8.134425163269043,
          2.7108941078186035,
          6.124804496765137,
          4.743449687957764,
          2.7838990688323975,
          3.792750835418701,
          7.096711158752441,
          5.102334022521973,
          5.015829563140869,
          6.308334827423096,
          2.585750102996826,
          3.620734930038452,
          2.988725185394287,
          1.9059268236160278,
          2.5619583129882812,
          4.277338027954102,
          8.109376907348633,
          7.813608169555664,
          4.856488227844238,
          3.038419008255005,
          7.19620943069458,
          8.283954620361328,
          7.96467924118042,
          3.0333046913146973,
          2.997157573699951,
          5.041402816772461,
          1.3052438497543335,
          6.160423278808594,
          6.635894775390625,
          3.38787841796875,
          3.007418394088745,
          3.785705327987671,
          5.408594608306885,
          4.501719951629639,
          3.030069351196289,
          3.026397466659546,
          5.74239444732666,
          3.069631576538086,
          1.8225840330123901,
          4.235991954803467,
          2.9043667316436768,
          5.275135040283203,
          4.960206985473633,
          4.468167304992676,
          5.8892412185668945,
          3.071700096130371,
          2.674921751022339,
          2.4772353172302246,
          6.234039783477783,
          7.088927268981934,
          5.057064056396484,
          1.8478809595108032,
          3.6721715927124023,
          2.7369582653045654,
          7.99212646484375,
          7.769713401794434,
          4.319279670715332,
          4.376084804534912,
          7.504077434539795,
          4.658872127532959,
          8.269044876098633,
          7.164643287658691,
          7.28898811340332,
          7.503620624542236,
          5.706286907196045,
          4.975442409515381,
          4.052417755126953,
          3.778073310852051,
          2.483396053314209,
          3.2690184116363525,
          4.757641315460205,
          6.988184928894043,
          5.98521614074707,
          3.004112482070923,
          3.2457075119018555,
          4.965915203094482,
          6.964839935302734,
          7.432620525360107,
          5.1775102615356445,
          7.86357307434082,
          3.7213430404663086,
          4.012875080108643,
          7.435600757598877,
          2.6947107315063477,
          6.232183933258057,
          5.002408981323242,
          5.099921703338623,
          2.620295524597168,
          0.9307175874710083,
          2.9995665550231934,
          3.206806182861328,
          5.896026134490967,
          1.321747064590454,
          7.480591773986816,
          2.998878240585327,
          8.235783576965332,
          6.187261581420898,
          2.6147327423095703,
          1.9525675773620605,
          3.1659512519836426,
          5.816631317138672,
          4.435378551483154,
          2.03053617477417,
          8.176849365234375,
          7.628413677215576,
          4.609153747558594,
          7.979135036468506,
          3.0248119831085205,
          6.950572967529297,
          5.977087020874023,
          3.6917343139648438,
          2.9554526805877686,
          5.784605026245117,
          4.139847755432129,
          3.6865153312683105,
          3.8516926765441895,
          5.584112644195557,
          3.373899221420288,
          2.6543326377868652,
          2.808710813522339,
          2.5094540119171143,
          2.9674766063690186,
          2.985668182373047,
          7.412024021148682,
          6.215054988861084,
          6.0462446212768555,
          3.067012071609497,
          2.9799373149871826,
          2.8903257846832275,
          7.59259557723999,
          7.787909030914307,
          3.234513759613037,
          7.244814395904541,
          8.068145751953125,
          7.1931376457214355,
          5.390847682952881,
          3.5061609745025635,
          4.057787895202637,
          4.432396411895752,
          3.9076647758483887,
          6.622912883758545,
          6.048523426055908,
          3.0357604026794434,
          8.253891944885254,
          3.649502992630005,
          4.955472469329834,
          2.9602701663970947,
          8.274221420288086,
          2.4688525199890137,
          3.9836931228637695,
          2.4632866382598877,
          3.0356979370117188,
          2.898486375808716,
          5.933619976043701,
          3.4184560775756836,
          5.67545223236084,
          7.965334892272949,
          3.4464683532714844,
          6.885489463806152,
          5.839375972747803,
          5.085686683654785,
          3.161611795425415,
          5.417574405670166,
          7.950992107391357,
          3.68656587600708,
          2.4651639461517334,
          2.467294931411743,
          2.6536285877227783,
          8.24545669555664,
          6.257650375366211,
          4.273775100708008,
          4.702918529510498,
          2.616962194442749,
          2.4988441467285156,
          3.1604971885681152,
          5.388322353363037,
          1.192642092704773,
          3.1546645164489746,
          5.056210994720459,
          3.5517032146453857,
          1.4497781991958618,
          2.8904850482940674,
          7.864773273468018,
          3.009347915649414,
          8.260979652404785,
          2.27496075630188,
          2.7042696475982666,
          4.430234432220459,
          3.042785167694092,
          2.7989413738250732,
          3.4675564765930176,
          7.380503177642822,
          7.831576347351074,
          2.2147040367126465,
          1.8840792179107666,
          1.5925962924957275,
          3.0433003902435303,
          2.8473103046417236,
          8.089524269104004,
          7.10548734664917,
          3.0081441402435303,
          4.671174049377441,
          3.59454083442688,
          7.524405002593994,
          3.0741379261016846,
          3.406374454498291,
          7.9352922439575195,
          6.877791881561279,
          2.55788254737854,
          5.304582118988037,
          3.6981186866760254,
          7.043455123901367,
          3.6661181449890137,
          8.235081672668457,
          8.26583194732666,
          4.875607013702393,
          7.172928333282471,
          5.365796089172363,
          4.642043590545654,
          4.482944488525391,
          2.9031076431274414,
          7.909572124481201,
          2.550196886062622,
          3.09035062789917,
          6.859707355499268,
          6.816495418548584,
          7.762442111968994,
          2.982226610183716,
          8.091680526733398,
          5.62078332901001,
          5.530672073364258,
          2.9390065670013428,
          4.677766799926758,
          7.279507160186768,
          6.80094575881958,
          7.199591159820557,
          5.1078410148620605,
          5.975642204284668,
          4.570313930511475,
          7.322017669677734,
          6.1551408767700195,
          5.558537483215332,
          7.634329319000244,
          3.0184788703918457,
          2.7867493629455566,
          3.177417755126953,
          6.116347312927246,
          8.033639907836914,
          3.6545469760894775,
          6.22211217880249,
          3.4503352642059326,
          6.798863887786865,
          6.678868293762207,
          5.148521900177002,
          4.605519771575928,
          2.977969169616699,
          6.767923831939697,
          2.6434247493743896,
          4.4648756980896,
          2.62334942817688,
          3.8234262466430664,
          1.301234483718872,
          8.266218185424805,
          6.385073184967041
         ],
         "y": [
          1.8394947052001953,
          8.858735084533691,
          -0.5005500316619873,
          -1.066212773323059,
          -0.4157836139202118,
          0.9354103803634644,
          4.032315731048584,
          13.295680046081543,
          11.019917488098145,
          1.7762941122055054,
          -0.344453901052475,
          11.424863815307617,
          6.263593673706055,
          3.9226737022399902,
          2.582566261291504,
          11.318001747131348,
          7.32917594909668,
          6.8054094314575195,
          7.566114902496338,
          9.69608211517334,
          1.9193509817123413,
          -1.089908242225647,
          5.961736679077148,
          12.56319808959961,
          12.706151962280273,
          14.003047943115234,
          6.707708358764648,
          0.34264442324638367,
          10.926715850830078,
          2.0933609008789062,
          3.411834478378296,
          7.6749114990234375,
          15.642151832580566,
          11.19292163848877,
          13.531342506408691,
          2.7302143573760986,
          12.833296775817871,
          12.30314826965332,
          9.78860855102539,
          10.606300354003906,
          14.831300735473633,
          2.5720765590667725,
          9.65515422821045,
          11.565286636352539,
          2.0849342346191406,
          3.5798838138580322,
          12.860627174377441,
          4.46551513671875,
          5.784183025360107,
          4.563084602355957,
          -0.6203214526176453,
          14.961858749389648,
          4.550562381744385,
          2.437072992324829,
          8.413655281066895,
          0.961815357208252,
          2.582099437713623,
          15.634970664978027,
          -1.0106453895568848,
          11.922567367553711,
          3.3525826930999756,
          6.449466705322266,
          -1.120597004890442,
          4.27029275894165,
          3.2722740173339844,
          5.981063365936279,
          13.701094627380371,
          10.553384780883789,
          5.69759464263916,
          3.495527982711792,
          11.014355659484863,
          11.783639907836914,
          6.123105049133301,
          2.26277756690979,
          10.964762687683105,
          11.629429817199707,
          15.450644493103027,
          10.540877342224121,
          -0.6699827313423157,
          13.116397857666016,
          3.265002965927124,
          13.278541564941406,
          10.283098220825195,
          0.24117259681224823,
          9.105351448059082,
          3.213900566101074,
          0.6744475960731506,
          9.487305641174316,
          7.6860575675964355,
          13.525388717651367,
          9.261674880981445,
          11.275707244873047,
          15.386679649353027,
          15.755223274230957,
          1.438563585281372,
          12.193657875061035,
          6.259960651397705,
          8.995878219604492,
          -0.03824879974126816,
          11.293766021728516,
          5.881354808807373,
          7.742893218994141,
          3.9267194271087646,
          14.077437400817871,
          7.363610744476318,
          3.981168270111084,
          13.424837112426758,
          6.025268077850342,
          7.107585430145264,
          2.531141757965088,
          1.863903284072876,
          12.127034187316895,
          8.531983375549316,
          4.041434288024902,
          5.187104225158691,
          15.356362342834473,
          -0.8245862126350403,
          13.69636058807373,
          6.733800411224365,
          -0.8921410441398621,
          13.364338874816895,
          8.299635887145996,
          8.486266136169434,
          0.9697132110595703,
          3.2737343311309814,
          7.456760883331299,
          8.29049015045166,
          10.918340682983398,
          10.862998008728027,
          7.663905143737793,
          15.292277336120605,
          6.190345764160156,
          3.2692811489105225,
          13.377156257629395,
          1.7045522928237915,
          -0.6759441494941711,
          2.472712755203247,
          3.1691086292266846,
          -1.205250859260559,
          2.28334903717041,
          9.744805335998535,
          11.768177032470703,
          6.0394110679626465,
          5.599030017852783,
          7.305517673492432,
          3.4882469177246094,
          -0.14226241409778595,
          12.67535400390625,
          7.775464057922363,
          3.510284662246704,
          6.682889938354492,
          9.201930046081543,
          0.012219483032822609,
          3.4643428325653076,
          12.236921310424805,
          1.7951358556747437,
          12.484375,
          10.164437294006348,
          10.7430419921875,
          3.852583408355713,
          -1.0455363988876343,
          2.220686674118042,
          3.455765962600708,
          1.120408535003662,
          2.7958786487579346,
          7.956308841705322,
          8.914031982421875,
          6.141381740570068,
          2.174755334854126,
          15.502019882202148,
          9.839715957641602,
          6.881302833557129,
          -0.7685770988464355,
          2.1525425910949707,
          11.505415916442871,
          15.482712745666504,
          9.393881797790527,
          8.630051612854004,
          2.6491897106170654,
          7.400763034820557,
          7.366684436798096,
          1.498395323753357,
          7.498746395111084,
          2.061711072921753,
          0.853861927986145,
          0.8636730313301086,
          8.183029174804688,
          9.722121238708496,
          3.7425589561462402,
          11.09867000579834,
          6.339634418487549,
          -0.18686196208000183,
          1.797021508216858,
          15.51632308959961,
          5.461125373840332,
          5.4829421043396,
          0.9773890972137451,
          5.142086029052734,
          14.06791877746582,
          14.837716102600098,
          12.556715965270996,
          3.3089678287506104,
          6.028870582580566,
          3.4472334384918213,
          15.14093017578125,
          1.8182774782180786,
          8.54653263092041,
          -1.7176897525787354,
          15.678017616271973,
          -0.21084891259670258,
          8.019272804260254,
          -1.0156521797180176,
          5.557295322418213,
          1.8995260000228882,
          14.990988731384277,
          5.245214939117432,
          10.227824211120605,
          8.002056121826172,
          9.410969734191895,
          7.182173728942871,
          15.523421287536621,
          11.067927360534668,
          2.88279128074646,
          -0.5008258819580078,
          15.121371269226074,
          7.82915735244751,
          1.4320226907730103,
          2.495542526245117,
          4.457812309265137,
          8.318947792053223,
          13.285324096679688,
          6.183718681335449,
          3.635626792907715,
          15.089757919311523,
          -0.47504886984825134,
          11.992864608764648,
          8.724675178527832,
          8.776325225830078,
          7.66735315322876,
          2.964033603668213,
          3.319556951522827,
          -0.4386455714702606,
          2.7487566471099854,
          15.757189750671387,
          8.5741548538208,
          4.076891899108887,
          9.29785442352295,
          13.19469928741455,
          8.010129928588867,
          14.626652717590332,
          2.0066075325012207,
          4.30793571472168,
          7.540794849395752,
          5.937752723693848,
          0.7967570424079895,
          1.2834904193878174,
          -0.04519903287291527,
          3.0538127422332764,
          1.0429071187973022,
          2.52419376373291,
          5.121034622192383,
          6.079236030578613,
          9.44986629486084,
          10.669246673583984,
          -2.41485333442688,
          5.85907506942749,
          7.114765644073486,
          9.47502326965332,
          3.2126364707946777,
          6.372591018676758,
          14.989171981811523,
          1.44014310836792,
          11.372560501098633,
          8.640349388122559,
          12.901132583618164,
          7.22936487197876,
          12.859582901000977,
          12.968050003051758,
          7.751625061035156,
          13.719614028930664,
          10.417638778686523,
          11.385411262512207,
          1.3719269037246704,
          12.26257610321045,
          6.330016136169434,
          1.483181357383728,
          7.013969421386719,
          8.10831069946289,
          4.786549091339111,
          2.2993197441101074,
          13.31383228302002,
          7.958721160888672,
          14.837423324584961,
          12.288269996643066,
          7.625854015350342,
          3.8137972354888916,
          12.187917709350586,
          14.970885276794434,
          11.440086364746094,
          2.589331865310669,
          1.5621129274368286,
          0.060330018401145935,
          8.755158424377441,
          11.459842681884766,
          5.543149471282959,
          1.257880449295044,
          -0.9835021495819092,
          14.505587577819824,
          2.239990234375,
          5.986357688903809,
          3.6901910305023193
         ],
         "z": [
          -3.1216070652008057,
          -2.9435532093048096,
          -4.458658695220947,
          -3.650055408477783,
          -2.550178289413452,
          -5.820684432983398,
          -5.364816188812256,
          -1.8130921125411987,
          -2.195971965789795,
          -3.079423427581787,
          -4.736780166625977,
          -2.0739212036132812,
          -6.7107253074646,
          -7.327512264251709,
          -8.532952308654785,
          -2.1591100692749023,
          -8.239396095275879,
          -8.365218162536621,
          -7.8088788986206055,
          -2.6500132083892822,
          -4.49282169342041,
          -7.1721510887146,
          -5.196218013763428,
          -4.921850204467773,
          -4.805843353271484,
          -3.2725236415863037,
          -3.2508556842803955,
          -3.7322492599487305,
          -2.279940128326416,
          -5.394452095031738,
          -5.523230075836182,
          -7.33245325088501,
          -1.9234880208969116,
          -6.136507987976074,
          -3.860197067260742,
          -5.999838829040527,
          -1.7970895767211914,
          -5.228217601776123,
          -7.085358619689941,
          -2.368154525756836,
          -2.0071663856506348,
          -8.578022956848145,
          -6.113248825073242,
          -5.809653282165527,
          -8.944111824035645,
          -5.186882019042969,
          -4.555796146392822,
          -3.3201260566711426,
          -8.351140975952148,
          -5.353993892669678,
          -3.8314459323883057,
          -1.498826026916504,
          -7.450750827789307,
          -3.824361801147461,
          -5.973264217376709,
          -5.0718793869018555,
          -8.519208908081055,
          -1.8544038534164429,
          -4.524501800537109,
          -5.597395896911621,
          -8.786579132080078,
          -8.418509483337402,
          -3.68965220451355,
          -3.3923182487487793,
          -3.397238254547119,
          -6.645624160766602,
          -3.6184349060058594,
          -2.3984169960021973,
          -3.27656888961792,
          -3.304800510406494,
          -6.282020568847656,
          -5.7160515785217285,
          -6.476654529571533,
          -8.915562629699707,
          -3.207977533340454,
          -2.039207696914673,
          -1.5970207452774048,
          -6.614654064178467,
          -4.83170747756958,
          -1.7798024415969849,
          -6.585449695587158,
          -4.136396884918213,
          -6.75213623046875,
          -3.6930506229400635,
          -7.356625556945801,
          -8.815196990966797,
          -6.052268981933594,
          -7.283445358276367,
          -6.0552802085876465,
          -1.785651445388794,
          -6.152527809143066,
          -3.2022757530212402,
          -1.315722107887268,
          -1.5171507596969604,
          -7.613016605377197,
          -1.9035183191299438,
          -4.5298380851745605,
          -5.74495792388916,
          -7.115342617034912,
          -5.54775333404541,
          -8.33384895324707,
          -3.1628077030181885,
          -3.6477956771850586,
          -1.7855795621871948,
          -6.95186710357666,
          -3.9463536739349365,
          -2.2141599655151367,
          -3.281633138656616,
          -4.3018999099731445,
          -3.667367696762085,
          -3.2151148319244385,
          -1.391692042350769,
          -6.044071674346924,
          -7.168869972229004,
          -7.511146068572998,
          -1.7398998737335205,
          -5.1469221115112305,
          -1.8005534410476685,
          -4.561293601989746,
          -2.3180017471313477,
          -4.060762405395508,
          -7.584628105163574,
          -6.0731353759765625,
          -3.0135385990142822,
          -3.8112733364105225,
          -6.20313024520874,
          -3.0736727714538574,
          -5.784087657928467,
          -5.566118240356445,
          -3.8417551517486572,
          -1.3291229009628296,
          -5.360723495483398,
          -6.121610164642334,
          -1.8074910640716553,
          -7.649813175201416,
          -7.424835205078125,
          -7.695859432220459,
          -7.733682155609131,
          -2.1093592643737793,
          -8.910452842712402,
          -2.6623947620391846,
          -5.723933696746826,
          -3.324937105178833,
          -5.395761013031006,
          -8.261582374572754,
          -8.778751373291016,
          -5.94169807434082,
          -1.831346035003662,
          -6.813571929931641,
          -8.724968910217285,
          -3.2801342010498047,
          -2.8472886085510254,
          -4.7403764724731445,
          -3.278646469116211,
          -5.262789249420166,
          -3.639789581298828,
          -1.8647962808609009,
          -6.293745040893555,
          -6.527132987976074,
          -5.548351287841797,
          -3.913709878921509,
          -7.020857810974121,
          -7.240406036376953,
          -4.569209098815918,
          -7.500226020812988,
          -8.067110061645508,
          -7.625331401824951,
          -8.48365306854248,
          -7.604298114776611,
          -2.1216323375701904,
          -2.6777191162109375,
          -5.291208267211914,
          -2.374624490737915,
          -7.519832611083984,
          -5.962484836578369,
          -2.118817090988159,
          -2.7685117721557617,
          -2.9882521629333496,
          -7.572699546813965,
          -4.137739181518555,
          -3.210513114929199,
          -3.1644582748413086,
          -5.983628749847412,
          -7.116005897521973,
          -6.299397945404053,
          -5.638589382171631,
          -7.115527629852295,
          -3.652362823486328,
          -5.284460067749023,
          -6.223754405975342,
          -3.2637205123901367,
          -5.485098361968994,
          -5.614528656005859,
          -1.2967162132263184,
          -3.279721260070801,
          -8.533671379089355,
          -6.144899368286133,
          -8.529010772705078,
          -3.1655571460723877,
          -1.622084617614746,
          -1.844883680343628,
          -7.591793060302734,
          -5.886941909790039,
          -3.2873127460479736,
          -1.9504327774047852,
          -3.7208497524261475,
          -5.157474994659424,
          -5.038086891174316,
          -1.5439220666885376,
          -3.5968236923217773,
          -3.0946319103240967,
          -4.443445205688477,
          -8.537087440490723,
          -7.860990524291992,
          -1.7892683744430542,
          -3.295335054397583,
          -3.688561201095581,
          -6.880352973937988,
          -5.8637237548828125,
          -8.283114433288574,
          -1.6211358308792114,
          -6.146579265594482,
          -5.6268534660339355,
          -7.332704067230225,
          -2.1857547760009766,
          -6.2300124168396,
          -6.778974533081055,
          -8.888639450073242,
          -8.165468215942383,
          -3.0582334995269775,
          -4.149024486541748,
          -3.272827625274658,
          -8.558279037475586,
          -2.015780448913574,
          -4.425237655639648,
          -5.484262466430664,
          -7.707196235656738,
          -7.210901737213135,
          -3.8994481563568115,
          -3.252591133117676,
          -8.54605770111084,
          -6.788388252258301,
          -8.860308647155762,
          -1.792057991027832,
          -7.7378058433532715,
          -3.3049914836883545,
          -3.3911795616149902,
          -4.255600929260254,
          -6.5332231521606445,
          -1.8495503664016724,
          -3.1105024814605713,
          -8.009889602661133,
          -7.691322326660156,
          -3.677628993988037,
          -2.943317413330078,
          -7.460579872131348,
          -3.8954875469207764,
          -7.284753799438477,
          -2.972391366958618,
          -7.151118278503418,
          -3.2946231365203857,
          -3.2819464206695557,
          -5.676332473754883,
          -2.338120460510254,
          -4.474399566650391,
          -6.828433513641357,
          -6.896994113922119,
          -7.291499137878418,
          -3.2658402919769287,
          -8.434957504272461,
          -1.4282662868499756,
          -3.492419958114624,
          -2.1099324226379395,
          -3.0113537311553955,
          -4.6071977615356445,
          -3.22930908203125,
          -1.8303298950195312,
          -1.8072693347930908,
          -7.951803684234619,
          -1.855951189994812,
          -2.404608726501465,
          -2.111102342605591,
          -3.060238838195801,
          -2.985171318054199,
          -5.592879772186279,
          -5.858767032623291,
          -4.159847259521484,
          -5.010051727294922,
          -5.897641658782959,
          -3.151592969894409,
          -4.1072468757629395,
          -7.986148834228516,
          -2.0172278881073,
          -1.9090813398361206,
          -3.1579670906066895,
          -7.479430675506592,
          -1.9127633571624756,
          -1.7301063537597656,
          -2.05859375,
          -4.29488468170166,
          -5.303654193878174,
          -4.792915344238281,
          -7.576864242553711,
          -2.0690860748291016,
          -8.402458190917969,
          -5.858133316040039,
          -5.62565803527832,
          -1.7712525129318237,
          -8.910996437072754,
          -3.28905987739563,
          -4.960139274597168
         ]
        },
        {
         "hovertemplate": "Dominant_Topic=Topic 2<br>0=%{x}<br>1=%{y}<br>2=%{z}<extra></extra>",
         "legendgroup": "Topic 2",
         "marker": {
          "color": "#00cc96",
          "opacity": 0.7,
          "symbol": "circle"
         },
         "mode": "markers",
         "name": "Topic 2",
         "scene": "scene",
         "showlegend": true,
         "type": "scatter3d",
         "x": [
          -2.0937089920043945,
          -0.31347137689590454,
          -4.7775678634643555,
          1.8754615783691406,
          5.374332427978516,
          2.102306365966797,
          -2.3666586875915527,
          5.563736438751221,
          5.250238418579102,
          3.05127215385437,
          -1.2724825143814087,
          5.370233535766602,
          -2.1075801849365234,
          1.6989458799362183,
          2.1311559677124023,
          5.1953206062316895,
          0.41526252031326294,
          -2.276228427886963,
          -5.140738010406494,
          5.740119934082031,
          -1.423080563545227,
          -4.085860729217529,
          -1.848423719406128,
          -2.4789483547210693,
          -6.978489398956299,
          4.457380294799805,
          -4.459824562072754,
          4.751659393310547,
          -2.6499900817871094,
          0.6212630271911621,
          0.8388503789901733,
          -2.2697815895080566,
          4.892354488372803,
          -2.879460334777832,
          -5.434964656829834,
          -2.4644486904144287,
          4.092620372772217,
          -2.4800286293029785,
          -2.4410524368286133,
          -1.7288782596588135,
          -2.4471797943115234,
          -3.7968976497650146,
          2.1770026683807373,
          -1.9693900346755981,
          -0.5738813281059265,
          0.8371714353561401,
          -2.6146514415740967,
          5.288891315460205,
          3.569570541381836,
          -1.3956884145736694,
          2.279566526412964,
          -2.0976293087005615,
          1.3982151746749878,
          -6.2984299659729,
          -4.522032260894775,
          5.096953392028809,
          2.8644251823425293,
          -5.93343448638916,
          3.7887332439422607,
          -5.209501266479492,
          -4.531073570251465,
          -2.235884428024292,
          -5.724826335906982,
          0.21655870974063873,
          -1.7663387060165405,
          1.7170971632003784,
          -2.48594331741333,
          -4.837662220001221,
          -0.0401449054479599,
          4.268632411956787,
          -5.609169960021973,
          -2.0531060695648193,
          -1.1315584182739258,
          5.578718185424805,
          1.0097012519836426,
          5.698313236236572,
          1.6879827976226807,
          3.673360824584961,
          -1.9674021005630493,
          0.5585944056510925,
          3.007192373275757,
          -4.889275550842285,
          1.9106944799423218,
          0.21774627268314362,
          -1.8218059539794922,
          2.0067288875579834,
          -1.6869419813156128,
          -2.350532293319702,
          -5.406651020050049,
          0.7372015714645386,
          -4.659643650054932,
          -6.607992172241211,
          -0.03883446380496025,
          -3.0495316982269287,
          -1.4744476079940796,
          1.9325796365737915,
          5.741371154785156,
          -2.218381404876709,
          1.2387031316757202,
          -1.7501877546310425,
          -2.1287310123443604,
          -4.718392848968506,
          4.093896389007568,
          2.85274338722229,
          5.096651554107666,
          0.6416733860969543,
          3.160928964614868,
          -1.8729990720748901,
          4.7705397605896,
          2.5506374835968018,
          -2.4195611476898193,
          -5.15082311630249,
          2.1890320777893066,
          1.5253170728683472,
          -2.1853837966918945,
          0.1540273129940033,
          5.743767261505127,
          2.158087730407715,
          -2.281440019607544,
          5.735610485076904,
          4.101166725158691,
          0.5606387853622437,
          3.1306912899017334,
          1.868747353553772,
          4.8805365562438965,
          -2.229936361312866,
          3.3075456619262695,
          1.8999314308166504,
          -2.28999400138855,
          0.5522773861885071,
          5.725715160369873,
          -2.1101431846618652,
          -1.8406158685684204,
          -6.313310146331787,
          2.1932284832000732,
          5.737061023712158,
          -5.223057746887207,
          1.8341684341430664,
          4.931051731109619,
          3.1472604274749756,
          1.13153874874115,
          -6.105010509490967,
          2.541796922683716,
          -6.475574016571045,
          0.0492640845477581,
          -7.431061267852783,
          -2.231482744216919,
          -5.547627925872803,
          -0.5201787948608398,
          5.251218795776367,
          -2.9298455715179443,
          -6.683198928833008,
          -2.28718900680542,
          -2.860365629196167,
          -2.1224122047424316,
          -7.394676685333252,
          1.3716652393341064,
          4.323976993560791,
          -5.896274089813232,
          -5.1039814949035645,
          5.74498987197876,
          -1.8871289491653442,
          2.364987373352051,
          5.45334005355835,
          5.728726387023926,
          4.492821216583252,
          -5.896387577056885,
          -2.8012518882751465,
          1.598379135131836,
          1.4669185876846313,
          -1.1975631713867188,
          -7.525781631469727,
          -1.8630536794662476,
          2.603985071182251,
          3.5036985874176025,
          -0.6366223096847534,
          -5.348783493041992,
          1.9445935487747192,
          3.6016197204589844,
          4.4866228103637695,
          -1.5751607418060303,
          4.3979387283325195,
          0.27647197246551514,
          0.653169572353363,
          -2.2692787647247314,
          -5.668898105621338,
          -6.0268049240112305,
          -2.3869380950927734,
          -2.2346317768096924,
          -6.7952494621276855,
          1.8189032077789307,
          -2.0920684337615967,
          1.476855993270874,
          4.543234825134277,
          -2.254979372024536,
          -4.157069206237793,
          -6.093748569488525,
          4.690531253814697,
          0.7126281261444092,
          -1.8462485074996948,
          -0.6983903050422668,
          2.1110711097717285,
          2.2432620525360107,
          3.798384666442871,
          -2.056356430053711,
          2.20037579536438,
          0.9718628525733948,
          -2.473510980606079,
          4.20514440536499,
          0.9811887741088867,
          -1.8425081968307495,
          1.2778798341751099,
          -2.313284158706665,
          -5.428834915161133,
          -1.505882740020752,
          -5.215692520141602,
          -2.842863082885742,
          -6.873707294464111,
          -2.973560333251953,
          2.2297921180725098,
          0.12286951392889023,
          -0.0668182298541069,
          -5.595728874206543,
          -1.8600914478302002,
          -2.1951839923858643,
          -2.358407497406006,
          -2.230961322784424,
          0.5931002497673035,
          -3.0264370441436768,
          5.377201557159424,
          -2.162388801574707,
          -0.8196096420288086,
          1.7935810089111328,
          2.4498958587646484,
          -5.2046709060668945,
          1.0416055917739868,
          2.671750783920288,
          1.7703396081924438,
          -0.3452683389186859,
          -0.8382158875465393,
          4.701487064361572,
          -2.989414930343628,
          3.553556442260742,
          -2.498511791229248,
          -1.8600844144821167,
          -1.869042992591858,
          2.202965497970581,
          3.7835845947265625,
          -4.451074123382568,
          3.154235601425171,
          3.45222806930542,
          1.4359461069107056,
          -2.237077474594116,
          -5.528215408325195,
          0.5457363724708557,
          -1.9614440202713013,
          -2.394352436065674,
          -7.28376579284668,
          3.1247076988220215,
          2.14388370513916,
          -7.297470569610596,
          1.0722167491912842,
          0.40180259943008423,
          -4.649599075317383,
          3.4826865196228027,
          5.348570346832275,
          -1.2788690328598022,
          2.234659433364868,
          -6.380847454071045,
          1.2804434299468994,
          3.3451640605926514,
          1.155529499053955,
          3.2462456226348877,
          -0.5439967513084412,
          3.382641077041626,
          -2.465879201889038,
          -5.644090175628662,
          5.663361072540283,
          2.9293596744537354,
          -2.3039145469665527,
          -5.75133752822876,
          -0.3229508697986603,
          0.27875816822052,
          -2.2994205951690674,
          -2.445970296859741,
          2.725604772567749,
          -6.1398539543151855,
          -2.197068929672241,
          5.723496913909912,
          -2.4341325759887695,
          -6.046089172363281,
          5.003241539001465,
          -5.969653606414795,
          -4.5128655433654785,
          -5.733663082122803,
          -2.3038556575775146,
          -6.128162860870361,
          -1.8531203269958496,
          1.6115589141845703,
          -2.201812744140625,
          -4.778378486633301,
          4.304174423217773,
          -2.4854254722595215,
          1.959256887435913,
          -2.1675713062286377,
          -1.853691816329956,
          -2.489112138748169,
          2.9081037044525146,
          -4.783222675323486,
          4.772786617279053,
          -2.9969356060028076,
          -1.8401252031326294,
          -6.931397438049316,
          -5.2586517333984375,
          -4.55303955078125,
          -1.9425357580184937,
          -5.146422386169434,
          -1.7587167024612427,
          -3.0184261798858643,
          -2.0149905681610107,
          -5.622655391693115,
          -1.8570611476898193,
          5.257824420928955,
          5.31458044052124,
          1.466343879699707,
          5.250211238861084,
          5.753638744354248,
          0.16324035823345184,
          -1.3119820356369019,
          0.035165537148714066,
          -2.453683614730835,
          -1.7579665184020996,
          3.1377174854278564,
          1.3220769166946411,
          -1.8364253044128418,
          3.1036622524261475,
          -1.9212284088134766,
          0.07631542533636093,
          -1.2112081050872803,
          -0.3074965476989746,
          -1.9828375577926636,
          0.44667625427246094,
          -2.2977724075317383,
          3.972885847091675,
          -2.341010808944702,
          -5.035940170288086,
          -2.3009610176086426,
          3.2043161392211914,
          2.5500636100769043,
          1.1707661151885986,
          -2.328193426132202,
          1.5533232688903809,
          -2.1850595474243164,
          2.9453964233398438,
          -2.6556882858276367,
          -6.323871612548828,
          0.21201321482658386,
          -1.9645956754684448,
          -2.833383321762085,
          5.644726753234863,
          -2.3279459476470947,
          1.1569818258285522,
          -1.70552659034729,
          -2.7717409133911133,
          -3.102940797805786,
          -0.26505231857299805,
          4.324164390563965,
          2.186255693435669,
          -2.447465658187866,
          -1.7432072162628174,
          -2.3475165367126465,
          -2.097658634185791,
          2.2430193424224854,
          2.7610790729522705,
          3.312551498413086,
          -0.3646840751171112,
          -2.2230172157287598,
          -2.5066685676574707,
          -2.995058536529541,
          1.115263819694519,
          -6.249318599700928,
          -2.261911153793335,
          -2.388118267059326,
          -2.3947036266326904,
          2.0232386589050293,
          -2.296300172805786,
          4.758415222167969,
          -0.2794915735721588,
          -1.880385160446167,
          -2.247183084487915,
          -1.9804149866104126,
          1.069231390953064,
          -1.352980613708496,
          -2.032045364379883,
          5.78070592880249,
          -2.9837937355041504,
          -6.399113178253174,
          4.621518135070801,
          -4.987195014953613,
          -5.178228855133057,
          1.4664591550827026,
          4.691341400146484,
          -2.1667892932891846,
          -2.226956844329834,
          -2.3383419513702393,
          -1.8421648740768433,
          -2.499661922454834,
          3.283946990966797,
          0.6134997010231018,
          5.78779935836792,
          -1.8415197134017944,
          -3.022059440612793,
          1.6555813550949097,
          -2.9788060188293457,
          -2.708266019821167,
          3.404770851135254,
          1.6832941770553589,
          -2.5220041275024414,
          1.1742793321609497,
          0.9761390089988708,
          0.909543514251709,
          -5.679553508758545,
          5.168240070343018,
          -0.7844873666763306,
          -2.0064287185668945,
          0.6825903654098511,
          2.566596031188965,
          -2.258971691131592,
          3.7178070545196533,
          -0.29229769110679626,
          3.0951437950134277,
          -3.0631322860717773,
          2.8874645233154297,
          1.9683506488800049,
          5.720256805419922,
          4.2917866706848145,
          4.788998126983643,
          -2.5785880088806152,
          1.899202585220337,
          3.678175926208496,
          -5.4575700759887695,
          -2.2126221656799316,
          5.747406959533691,
          2.4148826599121094,
          -2.254138946533203,
          2.7960915565490723,
          -2.9777379035949707,
          -3.1783297061920166,
          2.5481648445129395,
          -0.24130071699619293,
          -0.61977618932724,
          -4.461417198181152,
          -1.2273720502853394,
          1.1974679231643677,
          4.771812438964844,
          0.19885268807411194,
          4.840613842010498
         ],
         "y": [
          -10.59423542022705,
          -2.379499912261963,
          2.3346543312072754,
          -1.6476973295211792,
          -4.233975410461426,
          -5.390387535095215,
          -10.008658409118652,
          -3.9486336708068848,
          -3.5601587295532227,
          -4.437689781188965,
          -1.3063373565673828,
          -4.240261077880859,
          -0.6580214500427246,
          -6.188781261444092,
          -7.010843276977539,
          -4.4255595207214355,
          -6.153434753417969,
          -6.584304332733154,
          3.632384777069092,
          -2.204965591430664,
          -7.546470642089844,
          1.1786781549453735,
          -9.768442153930664,
          -10.568638801574707,
          8.810641288757324,
          -4.664079189300537,
          1.070845127105713,
          -4.653432369232178,
          -5.685511589050293,
          -0.5719507932662964,
          -8.275211334228516,
          -8.288651466369629,
          -4.654538154602051,
          -4.879758834838867,
          4.848329544067383,
          -10.711080551147461,
          -5.2971930503845215,
          -10.676856994628906,
          -10.71737003326416,
          -0.8391077518463135,
          -10.72462272644043,
          0.8479509949684143,
          -6.964798450469971,
          -0.6498083472251892,
          -7.509005546569824,
          -8.196420669555664,
          -5.866594314575195,
          -3.009343147277832,
          -4.124717712402344,
          -1.2008395195007324,
          -5.579297065734863,
          -10.589343070983887,
          -1.1897573471069336,
          7.355204105377197,
          1.7265145778656006,
          -4.509785175323486,
          -5.400410175323486,
          6.409825325012207,
          -4.388814449310303,
          4.073882102966309,
          1.729636788368225,
          -7.360306262969971,
          6.774355888366699,
          -2.296510934829712,
          -9.331249237060547,
          -1.4511337280273438,
          -10.687116622924805,
          2.53871750831604,
          -5.078476428985596,
          -4.574866771697998,
          6.229118347167969,
          -10.751290321350098,
          -7.266784191131592,
          -3.8880436420440674,
          -5.535696506500244,
          -2.8488099575042725,
          -6.281130790710449,
          -4.223001003265381,
          -0.7666147351264954,
          -2.363325834274292,
          -3.158230781555176,
          2.7538001537323,
          -2.300204277038574,
          -4.946551322937012,
          -9.414234161376953,
          -6.961537837982178,
          -7.892068386077881,
          -9.932162284851074,
          4.764598846435547,
          -8.351960182189941,
          1.9992139339447021,
          8.370115280151367,
          -5.175211429595947,
          -2.666797399520874,
          -1.1266347169876099,
          -1.702185034751892,
          -3.3703854084014893,
          -7.150125026702881,
          -7.8701629638671875,
          -7.183891773223877,
          -0.45559975504875183,
          2.1911284923553467,
          -4.749885559082031,
          -2.9641385078430176,
          -4.509154319763184,
          -8.315110206604004,
          -3.3522114753723145,
          -10.096200942993164,
          -4.597277641296387,
          -2.513814687728882,
          -9.678237915039062,
          3.6599104404449463,
          -6.268180847167969,
          -7.253418445587158,
          -9.320408821105957,
          -8.01709270477295,
          -3.4337093830108643,
          -5.66069221496582,
          -10.711038589477539,
          -1.8899106979370117,
          -4.509147644042969,
          -6.993224143981934,
          -4.75752067565918,
          -7.111024379730225,
          -4.161331653594971,
          -8.186003684997559,
          -3.9380197525024414,
          -6.158693313598633,
          -8.266796112060547,
          -2.9348342418670654,
          -2.4451210498809814,
          -10.593255996704102,
          -9.875144004821777,
          7.736289978027344,
          -6.945094108581543,
          -2.236872673034668,
          3.949709177017212,
          -6.202922821044922,
          -4.6166911125183105,
          -3.2668423652648926,
          -7.5041279792785645,
          6.925792217254639,
          -5.3775153160095215,
          8.068182945251465,
          -2.200789213180542,
          9.109464645385742,
          -7.850915908813477,
          5.36712646484375,
          -7.13925313949585,
          -3.7484452724456787,
          -4.483273983001709,
          8.485761642456055,
          -10.715460777282715,
          -4.967039585113525,
          -10.6370849609375,
          9.075519561767578,
          -7.504307746887207,
          -5.0987701416015625,
          6.354815483093262,
          3.5095419883728027,
          -3.5170483589172363,
          -0.7122148275375366,
          -6.267454147338867,
          -4.128419399261475,
          -3.5230181217193604,
          -1.3720966577529907,
          7.187182426452637,
          0.4042414128780365,
          -6.92236328125,
          -7.400832653045654,
          -8.68701457977295,
          9.165976524353027,
          -8.900811195373535,
          -5.260420799255371,
          -4.3116326332092285,
          -7.386123180389404,
          4.5289812088012695,
          -2.2247519493103027,
          -4.442493915557861,
          -4.6684465408325195,
          -1.1016908884048462,
          -4.624744892120361,
          -6.153873920440674,
          -6.044731140136719,
          -8.248876571655273,
          5.942484378814697,
          6.280506134033203,
          -7.841959476470947,
          -10.688173294067383,
          8.637373924255371,
          -5.697490215301514,
          -10.564066886901855,
          -7.062831401824951,
          -4.845126628875732,
          -8.215106964111328,
          1.2293487787246704,
          6.944629192352295,
          -4.554131507873535,
          -7.052517414093018,
          -9.595281600952148,
          -7.720639228820801,
          -5.721112251281738,
          -6.896238803863525,
          -5.327884674072266,
          -10.5560302734375,
          -5.4190216064453125,
          -7.547949314117432,
          -5.919155120849609,
          -5.099816799163818,
          -8.13442611694336,
          -9.451751708984375,
          -1.0559183359146118,
          -9.942456245422363,
          4.827165603637695,
          -1.0885810852050781,
          3.986995220184326,
          -5.117191791534424,
          8.719554901123047,
          -8.802582740783691,
          -6.9071431159973145,
          -2.868539571762085,
          -0.2949616014957428,
          5.4739298820495605,
          -8.910237312316895,
          -8.146624565124512,
          -10.135397911071777,
          -6.563149452209473,
          -5.140734672546387,
          -3.0726325511932373,
          -4.230020999908447,
          -0.41575756669044495,
          -7.683724880218506,
          -6.246731758117676,
          -6.644040107727051,
          3.932713270187378,
          -2.986173152923584,
          -2.588024139404297,
          -6.413266181945801,
          -2.3378407955169678,
          -6.420836448669434,
          -4.687171459197998,
          -3.6565639972686768,
          -4.459462642669678,
          -10.684022903442383,
          -9.692490577697754,
          -8.74752426147461,
          -2.980520009994507,
          -5.253350257873535,
          1.5743986368179321,
          -3.2695834636688232,
          -4.069884777069092,
          -5.740750312805176,
          -7.340872764587402,
          5.214738845825195,
          -5.228244781494141,
          -8.615240097045898,
          -10.309496879577637,
          9.012035369873047,
          -4.754148483276367,
          -6.950835704803467,
          9.018226623535156,
          -0.9288416504859924,
          -7.886191368103027,
          1.916443109512329,
          -5.394894123077393,
          -4.040196418762207,
          -6.87429141998291,
          -2.0800652503967285,
          7.814642429351807,
          -7.760031223297119,
          -5.912718296051025,
          -7.974256992340088,
          -4.176032543182373,
          -6.371205806732178,
          -4.276250839233398,
          -10.538240432739258,
          6.313540935516357,
          -3.686412811279297,
          -2.862194061279297,
          -7.820884704589844,
          6.664523601531982,
          -2.3612077236175537,
          -2.431413412094116,
          -9.662525177001953,
          -10.482648849487305,
          -6.230071067810059,
          6.827615737915039,
          -6.650998115539551,
          -3.1555445194244385,
          -10.451528549194336,
          7.333348751068115,
          -3.873108386993408,
          6.408886432647705,
          1.7046047449111938,
          6.000145435333252,
          -9.73280143737793,
          7.205878257751465,
          -9.946744918823242,
          -1.9331780672073364,
          -0.5693033933639526,
          1.6726001501083374,
          -4.5861616134643555,
          -6.372562408447266,
          -1.8334028720855713,
          -7.485772609710693,
          -9.98288631439209,
          -10.603266716003418,
          -2.89135479927063,
          2.387498378753662,
          -4.6467390060424805,
          -2.935091018676758,
          -9.140183448791504,
          8.773670196533203,
          3.892951011657715,
          1.7805373668670654,
          -0.7756345272064209,
          3.7184181213378906,
          -9.30930233001709,
          -3.2365684509277344,
          -8.471660614013672,
          5.585673809051514,
          -10.017510414123535,
          -3.99417781829834,
          -3.3193533420562744,
          -7.462881088256836,
          -3.560192823410034,
          -3.3940889835357666,
          -4.929131031036377,
          -8.742473602294922,
          -2.600905418395996,
          -10.502281188964844,
          -9.304977416992188,
          -3.302429437637329,
          -7.611035346984863,
          -9.1646728515625,
          -5.086132526397705,
          -10.249008178710938,
          -6.22562837600708,
          -1.409014344215393,
          -2.376561164855957,
          -10.503971099853516,
          -2.769805669784546,
          -9.228636741638184,
          -4.440454006195068,
          -5.949598789215088,
          3.2846875190734863,
          -8.752044677734375,
          -3.404752016067505,
          -6.600874423980713,
          -7.906285285949707,
          -7.973496913909912,
          -1.3913953304290771,
          -8.228654861450195,
          -3.1095807552337646,
          -5.682258129119873,
          7.631062030792236,
          -8.793232917785645,
          -8.619855880737305,
          -5.188583850860596,
          -1.491127610206604,
          -8.88213062286377,
          -0.923987865447998,
          -1.060032606124878,
          -5.273161888122559,
          -8.74755859375,
          -2.6870760917663574,
          -4.614165306091309,
          -5.8988800048828125,
          -6.146238803863525,
          -10.523475646972656,
          -9.254673957824707,
          -0.6462661027908325,
          -6.775343418121338,
          -6.276592254638672,
          -3.786850929260254,
          -2.020498037338257,
          -7.576633930206299,
          -6.495865345001221,
          0.6781539916992188,
          -7.992531776428223,
          6.527644157409668,
          -6.813708305358887,
          -7.945062160491943,
          -9.673657417297363,
          -5.474514484405518,
          -8.811263084411621,
          -4.538625717163086,
          -2.002657890319824,
          -10.156222343444824,
          -7.768942356109619,
          -10.421242713928223,
          -6.662604331970215,
          -7.785796165466309,
          -9.249383926391602,
          -1.7720756530761719,
          -9.468606948852539,
          7.902406215667725,
          -4.79522705078125,
          3.0907652378082275,
          3.9143664836883545,
          -1.203240990638733,
          -4.805612564086914,
          -6.74168586730957,
          -7.016827583312988,
          -9.44267463684082,
          -9.881220817565918,
          -10.646394729614258,
          -5.86206579208374,
          -8.481735229492188,
          -1.6061205863952637,
          -9.153101921081543,
          -9.70579719543457,
          -6.017775058746338,
          -3.9794540405273438,
          -5.7993550300598145,
          -4.314614772796631,
          -6.000474452972412,
          -5.912632942199707,
          -0.9376412034034729,
          -8.142121315002441,
          -8.204354286193848,
          6.927083969116211,
          -4.449084281921387,
          -1.654834508895874,
          -0.768839955329895,
          -0.7315467000007629,
          -6.587090015411377,
          -8.611515045166016,
          -4.332271575927734,
          -0.2290557473897934,
          -6.043715000152588,
          -4.65465784072876,
          -2.922102689743042,
          -6.091629505157471,
          -2.631566047668457,
          -1.1875128746032715,
          -4.716392517089844,
          -0.2669318616390228,
          -1.7883018255233765,
          -5.386082172393799,
          4.935375690460205,
          -10.678228378295898,
          -3.3662514686584473,
          -6.566028118133545,
          -9.119017601013184,
          -5.642530918121338,
          -4.01409387588501,
          -8.54541301727295,
          -5.403808116912842,
          -2.6345789432525635,
          -7.335903167724609,
          1.5989800691604614,
          -1.373736023902893,
          -0.9363925457000732,
          -4.736325263977051,
          -2.8492212295532227,
          -4.70533561706543
         ],
         "z": [
          2.0994977951049805,
          7.219381809234619,
          10.698271751403809,
          11.527508735656738,
          2.475501298904419,
          7.807034015655518,
          6.370798110961914,
          1.6742775440216064,
          -0.47809869050979614,
          8.235610008239746,
          12.38644027709961,
          2.4987316131591797,
          12.146296501159668,
          -1.5508275032043457,
          1.8680789470672607,
          3.152557849884033,
          8.640216827392578,
          10.336368560791016,
          10.102376937866211,
          -1.2916730642318726,
          -3.1461117267608643,
          11.417470932006836,
          -0.14703388512134552,
          4.889936447143555,
          8.183714866638184,
          5.448047637939453,
          11.974373817443848,
          4.570910930633545,
          10.975468635559082,
          12.12219524383545,
          2.342386484146118,
          8.892942428588867,
          3.8544023036956787,
          11.35123348236084,
          9.586864471435547,
          3.964221477508545,
          2.3319571018218994,
          4.0942463874816895,
          3.7884199619293213,
          12.263975143432617,
          3.8186912536621094,
          11.612871170043945,
          1.8722548484802246,
          12.171323776245117,
          -2.3978006839752197,
          1.4758654832839966,
          10.855740547180176,
          -3.920438766479492,
          8.157671928405762,
          12.365598678588867,
          7.173939228057861,
          2.0515644550323486,
          11.912283897399902,
          8.553544998168945,
          11.042607307434082,
          3.6345551013946533,
          -1.1807299852371216,
          8.685791015625,
          7.397792816162109,
          9.94622802734375,
          11.015386581420898,
          9.76293659210205,
          8.991467475891113,
          12.304363250732422,
          6.422652244567871,
          11.686417579650879,
          4.158353328704834,
          10.61059856414795,
          -4.481332302093506,
          6.14817476272583,
          8.93214225769043,
          2.289651393890381,
          -3.2067623138427734,
          1.433580756187439,
          -3.0558576583862305,
          -0.6056654453277588,
          -1.4107671976089478,
          7.892773628234863,
          12.20112419128418,
          12.16179370880127,
          9.743847846984863,
          10.521350860595703,
          9.610068321228027,
          -4.388442516326904,
          -0.8294732570648193,
          3.8224546909332275,
          -2.981956958770752,
          6.484402179718018,
          9.615903854370117,
          1.9147523641586304,
          10.861434936523438,
          8.230072975158691,
          -4.3840813636779785,
          11.942344665527344,
          12.345647811889648,
          11.464341163635254,
          0.27668702602386475,
          9.919280052185059,
          1.7896695137023926,
          -3.786388635635376,
          9.569677352905273,
          10.797992706298828,
          6.009208679199219,
          10.017565727233887,
          3.6209146976470947,
          1.2369437217712402,
          9.459444046020508,
          0.6447260975837708,
          1.1863586902618408,
          10.565264701843262,
          7.1158342361450195,
          10.083192825317383,
          5.643861293792725,
          4.336081027984619,
          7.270563125610352,
          5.661153793334961,
          0.4208619296550751,
          7.193021297454834,
          2.9141578674316406,
          -1.6213886737823486,
          6.593652725219727,
          -1.7750319242477417,
          7.577960968017578,
          3.6668202877044678,
          0.06117577105760574,
          -3.1017634868621826,
          8.645455360412598,
          6.49571418762207,
          8.930885314941406,
          6.224205493927002,
          -1.0482546091079712,
          2.0433037281036377,
          0.10905151814222336,
          8.414881706237793,
          2.2162399291992188,
          -1.2613130807876587,
          9.920924186706543,
          -1.33109712600708,
          4.218258380889893,
          9.573355674743652,
          4.678702354431152,
          8.985928535461426,
          -1.7212837934494019,
          8.31594467163086,
          12.343551635742188,
          8.251580238342285,
          9.343457221984863,
          9.357271194458008,
          -2.8020644187927246,
          -0.08279495686292648,
          11.489474296569824,
          8.200861930847168,
          2.8718533515930176,
          11.340675354003906,
          2.353229522705078,
          8.249663352966309,
          3.915128707885742,
          3.9627325534820557,
          9.165976524353027,
          10.161046981811523,
          0.6396563649177551,
          9.32703971862793,
          5.257607460021973,
          2.159262180328369,
          0.6070489287376404,
          -3.268648862838745,
          8.614984512329102,
          10.6655855178833,
          5.207364082336426,
          3.987974166870117,
          6.864439964294434,
          8.274598121643066,
          -1.768850564956665,
          -1.8263957500457764,
          7.929506778717041,
          -2.616976499557495,
          9.700651168823242,
          9.933490753173828,
          7.565176486968994,
          5.355809211730957,
          12.33499526977539,
          5.733819007873535,
          8.780660629272461,
          8.523475646972656,
          8.940023422241211,
          9.157020568847656,
          9.059355735778809,
          -3.6080195903778076,
          2.490135669708252,
          8.176323890686035,
          -2.0962765216827393,
          1.9041261672973633,
          5.057520866394043,
          4.470299243927002,
          8.97029972076416,
          11.41141414642334,
          8.520721435546875,
          0.7287123799324036,
          -1.4583755731582642,
          -0.5045039653778076,
          -2.2417333126068115,
          -1.738915205001831,
          1.7834476232528687,
          4.855379581451416,
          1.9474608898162842,
          7.621335983276367,
          4.982660293579102,
          10.77838134765625,
          1.312682032585144,
          2.0170867443084717,
          -0.782878577709198,
          11.972256660461426,
          6.364893913269043,
          9.600568771362305,
          12.341886520385742,
          9.943721771240234,
          11.262625694274902,
          8.183439254760742,
          5.780828475952148,
          1.7590932846069336,
          5.90251350402832,
          12.18894100189209,
          9.330698013305664,
          -1.7504607439041138,
          -3.118104934692383,
          6.059626579284668,
          10.32109546661377,
          -3.8627779483795166,
          11.878780364990234,
          2.460526466369629,
          9.588491439819336,
          -2.4266481399536133,
          -1.312660574913025,
          1.3978395462036133,
          9.959959983825684,
          7.2246623039245605,
          10.452702522277832,
          -0.9986753463745117,
          7.307896614074707,
          9.472805976867676,
          1.3420811891555786,
          11.751426696777344,
          7.597926139831543,
          4.36728572845459,
          5.829018592834473,
          -2.006847620010376,
          10.471821784973145,
          0.4698278307914734,
          11.059033393859863,
          9.56521987915039,
          8.347051620483398,
          8.055920600891113,
          9.77913761138916,
          9.438032150268555,
          -3.8149311542510986,
          -2.2934961318969727,
          5.688686847686768,
          8.2274808883667,
          7.592369556427002,
          2.7957780361175537,
          8.229730606079102,
          12.044008255004883,
          5.442692756652832,
          10.855047225952148,
          0.1334134191274643,
          1.0805926322937012,
          -3.7245852947235107,
          11.05515193939209,
          8.408666610717773,
          3.1025898456573486,
          1.936697006225586,
          2.194434642791748,
          7.350382328033447,
          9.284666061401367,
          8.10844612121582,
          5.034801483154297,
          8.882570266723633,
          0.9135239720344543,
          10.095195770263672,
          -3.56864595413208,
          9.088139533996582,
          7.264321804046631,
          12.280072212219238,
          6.878427982330322,
          5.242839813232422,
          4.461833953857422,
          8.569931983947754,
          10.262706756591797,
          -0.13024766743183136,
          5.240536212921143,
          8.679655075073242,
          -0.36617064476013184,
          8.694819450378418,
          11.04428768157959,
          9.090237617492676,
          6.758303165435791,
          8.79864501953125,
          0.25517982244491577,
          11.627836227416992,
          12.10659122467041,
          10.573221206665039,
          6.050142765045166,
          10.58642578125,
          11.382157325744629,
          9.637706756591797,
          0.3548889458179474,
          4.810791015625,
          10.0697660446167,
          10.701371192932129,
          1.4713054895401,
          11.906163215637207,
          -1.3516035079956055,
          8.179847717285156,
          9.869622230529785,
          11.009690284729004,
          12.208253860473633,
          10.068259239196777,
          6.4594645500183105,
          11.846753120422363,
          -2.540903329849243,
          9.277107238769531,
          0.4431662857532501,
          0.5806149244308472,
          -0.7371811866760254,
          1.0021170377731323,
          -0.47803694009780884,
          0.3554859459400177,
          -4.452182769775391,
          6.946404933929443,
          6.889922142028809,
          5.164224624633789,
          6.465082168579102,
          9.530618667602539,
          3.652333974838257,
          -1.304000735282898,
          -1.3828530311584473,
          1.0535317659378052,
          8.890195846557617,
          12.398604393005371,
          7.2380475997924805,
          1.8633488416671753,
          6.899853229522705,
          7.6213579177856445,
          6.975306034088135,
          10.690858840942383,
          10.269070625305176,
          8.323890686035156,
          9.380180358886719,
          1.7198572158813477,
          2.838874578475952,
          -3.424321413040161,
          11.797555923461914,
          -3.0114169120788574,
          9.824599266052246,
          10.97557544708252,
          8.464959144592285,
          1.7890945672988892,
          -2.2899363040924072,
          11.233162879943848,
          -2.0945968627929688,
          8.186538696289062,
          12.015642166137695,
          12.309575080871582,
          11.188241004943848,
          5.530107498168945,
          6.433163642883301,
          5.924649715423584,
          -1.3389431238174438,
          10.662253379821777,
          2.671701669692993,
          7.655313968658447,
          12.144800186157227,
          3.711341142654419,
          1.0439425706863403,
          8.841025352478027,
          12.407577514648438,
          9.59093952178955,
          10.521517753601074,
          10.439535140991211,
          2.572782039642334,
          9.066097259521484,
          10.19763469696045,
          -3.5020153522491455,
          7.066977024078369,
          -2.1768076419830322,
          8.241094589233398,
          0.8873214721679688,
          12.39311408996582,
          0.8214482665061951,
          9.426836967468262,
          1.5320426225662231,
          -1.6314090490341187,
          9.95700740814209,
          7.125245094299316,
          -1.678868293762207,
          4.991924285888672,
          8.372879981994629,
          4.400787830352783,
          10.349761962890625,
          10.005802154541016,
          11.873648643493652,
          2.311060905456543,
          10.192242622375488,
          10.036356925964355,
          7.346229076385498,
          0.12094774842262268,
          4.44063138961792,
          4.196846961975098,
          2.1788270473480225,
          -1.8336787223815918,
          -1.331207275390625,
          4.413727283477783,
          -1.8539798259735107,
          11.659855842590332,
          10.937405586242676,
          8.027349472045898,
          7.216458797454834,
          10.804327011108398,
          12.011381149291992,
          2.0654733180999756,
          2.4275290966033936,
          8.541067123413086,
          3.237891912460327,
          12.417585372924805,
          12.193448066711426,
          12.126328468322754,
          1.7320387363433838,
          8.473374366760254,
          7.626846790313721,
          12.198018074035645,
          3.949692964553833,
          11.732686042785645,
          10.044267654418945,
          -1.3253591060638428,
          -0.8358107805252075,
          -3.6062817573547363,
          4.073439598083496,
          11.986989974975586,
          11.446328163146973,
          0.6209748387336731,
          9.551263809204102,
          2.456835985183716,
          0.2820732295513153,
          4.088305950164795,
          7.7165446281433105,
          -0.7317781448364258,
          11.648234367370605,
          5.56365442276001,
          -1.6667269468307495,
          6.316683292388916,
          -2.664383888244629,
          11.064123153686523,
          12.394951820373535,
          12.004379272460938,
          4.033812999725342,
          6.154132843017578,
          3.755293369293213
         ]
        },
        {
         "hovertemplate": "Dominant_Topic=Topic 3<br>0=%{x}<br>1=%{y}<br>2=%{z}<extra></extra>",
         "legendgroup": "Topic 3",
         "marker": {
          "color": "#ab63fa",
          "opacity": 0.7,
          "symbol": "circle"
         },
         "mode": "markers",
         "name": "Topic 3",
         "scene": "scene",
         "showlegend": true,
         "type": "scatter3d",
         "x": [
          13.954755783081055,
          14.009546279907227,
          14.395902633666992,
          14.446246147155762,
          13.936464309692383,
          14.188933372497559,
          14.461572647094727,
          14.54793930053711,
          13.725210189819336,
          14.449017524719238,
          13.737074851989746,
          14.252141952514648,
          14.72828483581543,
          14.376742362976074,
          14.009366989135742,
          14.75869369506836,
          14.642382621765137,
          14.464262962341309,
          14.684030532836914,
          14.153166770935059,
          5.356818199157715,
          13.794002532958984,
          13.987208366394043,
          14.016815185546875,
          14.381082534790039,
          13.897693634033203,
          14.342650413513184,
          13.775430679321289
         ],
         "y": [
          0.7437161803245544,
          0.7098067998886108,
          1.6274172067642212,
          0.7998389005661011,
          0.9262247681617737,
          1.6058820486068726,
          0.6253994107246399,
          1.1126898527145386,
          1.1426880359649658,
          0.9877976179122925,
          0.616904616355896,
          1.0455228090286255,
          1.2905149459838867,
          0.5771778225898743,
          0.5229700207710266,
          1.2391995191574097,
          1.3243757486343384,
          1.1795480251312256,
          0.9370409846305847,
          1.3216941356658936,
          -3.127397298812866,
          1.2018450498580933,
          1.2928255796432495,
          1.4197322130203247,
          1.6276779174804688,
          1.4249383211135864,
          1.3684868812561035,
          0.7676952481269836
         ],
         "z": [
          5.485942840576172,
          4.832470417022705,
          5.237608909606934,
          5.5215630531311035,
          4.7136969566345215,
          5.054574966430664,
          5.086437702178955,
          5.609785079956055,
          5.240495204925537,
          4.750169277191162,
          4.86423397064209,
          5.682199954986572,
          5.328452110290527,
          5.292932987213135,
          5.20246696472168,
          5.251121520996094,
          4.934933185577393,
          4.751244068145752,
          5.077424049377441,
          4.731681823730469,
          -4.069455146789551,
          4.878193378448486,
          5.595561504364014,
          5.523321151733398,
          5.279982566833496,
          5.072678565979004,
          5.638523101806641,
          5.254930019378662
         ]
        }
       ],
       "layout": {
        "height": 800,
        "legend": {
         "title": {
          "text": "Dominant_Topic"
         },
         "tracegroupgap": 0
        },
        "scene": {
         "domain": {
          "x": [
           0,
           1
          ],
          "y": [
           0,
           1
          ]
         },
         "xaxis": {
          "title": {
           "text": "0"
          }
         },
         "yaxis": {
          "title": {
           "text": "1"
          }
         },
         "zaxis": {
          "title": {
           "text": "2"
          }
         }
        },
        "template": {
         "data": {
          "bar": [
           {
            "error_x": {
             "color": "#2a3f5f"
            },
            "error_y": {
             "color": "#2a3f5f"
            },
            "marker": {
             "line": {
              "color": "#E5ECF6",
              "width": 0.5
             },
             "pattern": {
              "fillmode": "overlay",
              "size": 10,
              "solidity": 0.2
             }
            },
            "type": "bar"
           }
          ],
          "barpolar": [
           {
            "marker": {
             "line": {
              "color": "#E5ECF6",
              "width": 0.5
             },
             "pattern": {
              "fillmode": "overlay",
              "size": 10,
              "solidity": 0.2
             }
            },
            "type": "barpolar"
           }
          ],
          "carpet": [
           {
            "aaxis": {
             "endlinecolor": "#2a3f5f",
             "gridcolor": "white",
             "linecolor": "white",
             "minorgridcolor": "white",
             "startlinecolor": "#2a3f5f"
            },
            "baxis": {
             "endlinecolor": "#2a3f5f",
             "gridcolor": "white",
             "linecolor": "white",
             "minorgridcolor": "white",
             "startlinecolor": "#2a3f5f"
            },
            "type": "carpet"
           }
          ],
          "choropleth": [
           {
            "colorbar": {
             "outlinewidth": 0,
             "ticks": ""
            },
            "type": "choropleth"
           }
          ],
          "contour": [
           {
            "colorbar": {
             "outlinewidth": 0,
             "ticks": ""
            },
            "colorscale": [
             [
              0,
              "#0d0887"
             ],
             [
              0.1111111111111111,
              "#46039f"
             ],
             [
              0.2222222222222222,
              "#7201a8"
             ],
             [
              0.3333333333333333,
              "#9c179e"
             ],
             [
              0.4444444444444444,
              "#bd3786"
             ],
             [
              0.5555555555555556,
              "#d8576b"
             ],
             [
              0.6666666666666666,
              "#ed7953"
             ],
             [
              0.7777777777777778,
              "#fb9f3a"
             ],
             [
              0.8888888888888888,
              "#fdca26"
             ],
             [
              1,
              "#f0f921"
             ]
            ],
            "type": "contour"
           }
          ],
          "contourcarpet": [
           {
            "colorbar": {
             "outlinewidth": 0,
             "ticks": ""
            },
            "type": "contourcarpet"
           }
          ],
          "heatmap": [
           {
            "colorbar": {
             "outlinewidth": 0,
             "ticks": ""
            },
            "colorscale": [
             [
              0,
              "#0d0887"
             ],
             [
              0.1111111111111111,
              "#46039f"
             ],
             [
              0.2222222222222222,
              "#7201a8"
             ],
             [
              0.3333333333333333,
              "#9c179e"
             ],
             [
              0.4444444444444444,
              "#bd3786"
             ],
             [
              0.5555555555555556,
              "#d8576b"
             ],
             [
              0.6666666666666666,
              "#ed7953"
             ],
             [
              0.7777777777777778,
              "#fb9f3a"
             ],
             [
              0.8888888888888888,
              "#fdca26"
             ],
             [
              1,
              "#f0f921"
             ]
            ],
            "type": "heatmap"
           }
          ],
          "heatmapgl": [
           {
            "colorbar": {
             "outlinewidth": 0,
             "ticks": ""
            },
            "colorscale": [
             [
              0,
              "#0d0887"
             ],
             [
              0.1111111111111111,
              "#46039f"
             ],
             [
              0.2222222222222222,
              "#7201a8"
             ],
             [
              0.3333333333333333,
              "#9c179e"
             ],
             [
              0.4444444444444444,
              "#bd3786"
             ],
             [
              0.5555555555555556,
              "#d8576b"
             ],
             [
              0.6666666666666666,
              "#ed7953"
             ],
             [
              0.7777777777777778,
              "#fb9f3a"
             ],
             [
              0.8888888888888888,
              "#fdca26"
             ],
             [
              1,
              "#f0f921"
             ]
            ],
            "type": "heatmapgl"
           }
          ],
          "histogram": [
           {
            "marker": {
             "pattern": {
              "fillmode": "overlay",
              "size": 10,
              "solidity": 0.2
             }
            },
            "type": "histogram"
           }
          ],
          "histogram2d": [
           {
            "colorbar": {
             "outlinewidth": 0,
             "ticks": ""
            },
            "colorscale": [
             [
              0,
              "#0d0887"
             ],
             [
              0.1111111111111111,
              "#46039f"
             ],
             [
              0.2222222222222222,
              "#7201a8"
             ],
             [
              0.3333333333333333,
              "#9c179e"
             ],
             [
              0.4444444444444444,
              "#bd3786"
             ],
             [
              0.5555555555555556,
              "#d8576b"
             ],
             [
              0.6666666666666666,
              "#ed7953"
             ],
             [
              0.7777777777777778,
              "#fb9f3a"
             ],
             [
              0.8888888888888888,
              "#fdca26"
             ],
             [
              1,
              "#f0f921"
             ]
            ],
            "type": "histogram2d"
           }
          ],
          "histogram2dcontour": [
           {
            "colorbar": {
             "outlinewidth": 0,
             "ticks": ""
            },
            "colorscale": [
             [
              0,
              "#0d0887"
             ],
             [
              0.1111111111111111,
              "#46039f"
             ],
             [
              0.2222222222222222,
              "#7201a8"
             ],
             [
              0.3333333333333333,
              "#9c179e"
             ],
             [
              0.4444444444444444,
              "#bd3786"
             ],
             [
              0.5555555555555556,
              "#d8576b"
             ],
             [
              0.6666666666666666,
              "#ed7953"
             ],
             [
              0.7777777777777778,
              "#fb9f3a"
             ],
             [
              0.8888888888888888,
              "#fdca26"
             ],
             [
              1,
              "#f0f921"
             ]
            ],
            "type": "histogram2dcontour"
           }
          ],
          "mesh3d": [
           {
            "colorbar": {
             "outlinewidth": 0,
             "ticks": ""
            },
            "type": "mesh3d"
           }
          ],
          "parcoords": [
           {
            "line": {
             "colorbar": {
              "outlinewidth": 0,
              "ticks": ""
             }
            },
            "type": "parcoords"
           }
          ],
          "pie": [
           {
            "automargin": true,
            "type": "pie"
           }
          ],
          "scatter": [
           {
            "fillpattern": {
             "fillmode": "overlay",
             "size": 10,
             "solidity": 0.2
            },
            "type": "scatter"
           }
          ],
          "scatter3d": [
           {
            "line": {
             "colorbar": {
              "outlinewidth": 0,
              "ticks": ""
             }
            },
            "marker": {
             "colorbar": {
              "outlinewidth": 0,
              "ticks": ""
             }
            },
            "type": "scatter3d"
           }
          ],
          "scattercarpet": [
           {
            "marker": {
             "colorbar": {
              "outlinewidth": 0,
              "ticks": ""
             }
            },
            "type": "scattercarpet"
           }
          ],
          "scattergeo": [
           {
            "marker": {
             "colorbar": {
              "outlinewidth": 0,
              "ticks": ""
             }
            },
            "type": "scattergeo"
           }
          ],
          "scattergl": [
           {
            "marker": {
             "colorbar": {
              "outlinewidth": 0,
              "ticks": ""
             }
            },
            "type": "scattergl"
           }
          ],
          "scattermapbox": [
           {
            "marker": {
             "colorbar": {
              "outlinewidth": 0,
              "ticks": ""
             }
            },
            "type": "scattermapbox"
           }
          ],
          "scatterpolar": [
           {
            "marker": {
             "colorbar": {
              "outlinewidth": 0,
              "ticks": ""
             }
            },
            "type": "scatterpolar"
           }
          ],
          "scatterpolargl": [
           {
            "marker": {
             "colorbar": {
              "outlinewidth": 0,
              "ticks": ""
             }
            },
            "type": "scatterpolargl"
           }
          ],
          "scatterternary": [
           {
            "marker": {
             "colorbar": {
              "outlinewidth": 0,
              "ticks": ""
             }
            },
            "type": "scatterternary"
           }
          ],
          "surface": [
           {
            "colorbar": {
             "outlinewidth": 0,
             "ticks": ""
            },
            "colorscale": [
             [
              0,
              "#0d0887"
             ],
             [
              0.1111111111111111,
              "#46039f"
             ],
             [
              0.2222222222222222,
              "#7201a8"
             ],
             [
              0.3333333333333333,
              "#9c179e"
             ],
             [
              0.4444444444444444,
              "#bd3786"
             ],
             [
              0.5555555555555556,
              "#d8576b"
             ],
             [
              0.6666666666666666,
              "#ed7953"
             ],
             [
              0.7777777777777778,
              "#fb9f3a"
             ],
             [
              0.8888888888888888,
              "#fdca26"
             ],
             [
              1,
              "#f0f921"
             ]
            ],
            "type": "surface"
           }
          ],
          "table": [
           {
            "cells": {
             "fill": {
              "color": "#EBF0F8"
             },
             "line": {
              "color": "white"
             }
            },
            "header": {
             "fill": {
              "color": "#C8D4E3"
             },
             "line": {
              "color": "white"
             }
            },
            "type": "table"
           }
          ]
         },
         "layout": {
          "annotationdefaults": {
           "arrowcolor": "#2a3f5f",
           "arrowhead": 0,
           "arrowwidth": 1
          },
          "autotypenumbers": "strict",
          "coloraxis": {
           "colorbar": {
            "outlinewidth": 0,
            "ticks": ""
           }
          },
          "colorscale": {
           "diverging": [
            [
             0,
             "#8e0152"
            ],
            [
             0.1,
             "#c51b7d"
            ],
            [
             0.2,
             "#de77ae"
            ],
            [
             0.3,
             "#f1b6da"
            ],
            [
             0.4,
             "#fde0ef"
            ],
            [
             0.5,
             "#f7f7f7"
            ],
            [
             0.6,
             "#e6f5d0"
            ],
            [
             0.7,
             "#b8e186"
            ],
            [
             0.8,
             "#7fbc41"
            ],
            [
             0.9,
             "#4d9221"
            ],
            [
             1,
             "#276419"
            ]
           ],
           "sequential": [
            [
             0,
             "#0d0887"
            ],
            [
             0.1111111111111111,
             "#46039f"
            ],
            [
             0.2222222222222222,
             "#7201a8"
            ],
            [
             0.3333333333333333,
             "#9c179e"
            ],
            [
             0.4444444444444444,
             "#bd3786"
            ],
            [
             0.5555555555555556,
             "#d8576b"
            ],
            [
             0.6666666666666666,
             "#ed7953"
            ],
            [
             0.7777777777777778,
             "#fb9f3a"
            ],
            [
             0.8888888888888888,
             "#fdca26"
            ],
            [
             1,
             "#f0f921"
            ]
           ],
           "sequentialminus": [
            [
             0,
             "#0d0887"
            ],
            [
             0.1111111111111111,
             "#46039f"
            ],
            [
             0.2222222222222222,
             "#7201a8"
            ],
            [
             0.3333333333333333,
             "#9c179e"
            ],
            [
             0.4444444444444444,
             "#bd3786"
            ],
            [
             0.5555555555555556,
             "#d8576b"
            ],
            [
             0.6666666666666666,
             "#ed7953"
            ],
            [
             0.7777777777777778,
             "#fb9f3a"
            ],
            [
             0.8888888888888888,
             "#fdca26"
            ],
            [
             1,
             "#f0f921"
            ]
           ]
          },
          "colorway": [
           "#636efa",
           "#EF553B",
           "#00cc96",
           "#ab63fa",
           "#FFA15A",
           "#19d3f3",
           "#FF6692",
           "#B6E880",
           "#FF97FF",
           "#FECB52"
          ],
          "font": {
           "color": "#2a3f5f"
          },
          "geo": {
           "bgcolor": "white",
           "lakecolor": "white",
           "landcolor": "#E5ECF6",
           "showlakes": true,
           "showland": true,
           "subunitcolor": "white"
          },
          "hoverlabel": {
           "align": "left"
          },
          "hovermode": "closest",
          "mapbox": {
           "style": "light"
          },
          "paper_bgcolor": "white",
          "plot_bgcolor": "#E5ECF6",
          "polar": {
           "angularaxis": {
            "gridcolor": "white",
            "linecolor": "white",
            "ticks": ""
           },
           "bgcolor": "#E5ECF6",
           "radialaxis": {
            "gridcolor": "white",
            "linecolor": "white",
            "ticks": ""
           }
          },
          "scene": {
           "xaxis": {
            "backgroundcolor": "#E5ECF6",
            "gridcolor": "white",
            "gridwidth": 2,
            "linecolor": "white",
            "showbackground": true,
            "ticks": "",
            "zerolinecolor": "white"
           },
           "yaxis": {
            "backgroundcolor": "#E5ECF6",
            "gridcolor": "white",
            "gridwidth": 2,
            "linecolor": "white",
            "showbackground": true,
            "ticks": "",
            "zerolinecolor": "white"
           },
           "zaxis": {
            "backgroundcolor": "#E5ECF6",
            "gridcolor": "white",
            "gridwidth": 2,
            "linecolor": "white",
            "showbackground": true,
            "ticks": "",
            "zerolinecolor": "white"
           }
          },
          "shapedefaults": {
           "line": {
            "color": "#2a3f5f"
           }
          },
          "ternary": {
           "aaxis": {
            "gridcolor": "white",
            "linecolor": "white",
            "ticks": ""
           },
           "baxis": {
            "gridcolor": "white",
            "linecolor": "white",
            "ticks": ""
           },
           "bgcolor": "#E5ECF6",
           "caxis": {
            "gridcolor": "white",
            "linecolor": "white",
            "ticks": ""
           }
          },
          "title": {
           "x": 0.05
          },
          "xaxis": {
           "automargin": true,
           "gridcolor": "white",
           "linecolor": "white",
           "ticks": "",
           "title": {
            "standoff": 15
           },
           "zerolinecolor": "white",
           "zerolinewidth": 2
          },
          "yaxis": {
           "automargin": true,
           "gridcolor": "white",
           "linecolor": "white",
           "ticks": "",
           "title": {
            "standoff": 15
           },
           "zerolinecolor": "white",
           "zerolinewidth": 2
          }
         }
        },
        "title": {
         "text": "3d TSNE Plot for Topic Model"
        },
        "width": 900
       }
      },
      "text/html": [
       "<div>                            <div id=\"c64a4681-7f88-496b-bbdc-187ff9ec2029\" class=\"plotly-graph-div\" style=\"height:800px; width:900px;\"></div>            <script type=\"text/javascript\">                require([\"plotly\"], function(Plotly) {                    window.PLOTLYENV=window.PLOTLYENV || {};                                    if (document.getElementById(\"c64a4681-7f88-496b-bbdc-187ff9ec2029\")) {                    Plotly.newPlot(                        \"c64a4681-7f88-496b-bbdc-187ff9ec2029\",                        [{\"hovertemplate\":\"Dominant_Topic=Topic 0<br>0=%{x}<br>1=%{y}<br>2=%{z}<extra></extra>\",\"legendgroup\":\"Topic 0\",\"marker\":{\"color\":\"#636efa\",\"opacity\":0.7,\"symbol\":\"circle\"},\"mode\":\"markers\",\"name\":\"Topic 0\",\"scene\":\"scene\",\"showlegend\":true,\"x\":[-7.9457292556762695,-7.627931118011475,-10.157678604125977,-4.926962852478027,-7.055996894836426,-7.234171390533447,0.018715763464570045,-10.060647010803223,-12.48039436340332,-2.7690510749816895,-8.41404914855957,-5.038110256195068,-8.225703239440918,-5.042664527893066,-6.514148235321045,-3.505845785140991,-1.0481761693954468,-5.315303802490234,-12.304738998413086,-12.248930931091309,-1.2066764831542969,-11.90322494506836,-1.8610883951187134,-5.6697492599487305,-1.2549482583999634,-1.976262092590332,-3.4758124351501465,-12.232725143432617,-10.452335357666016,-0.3016180992126465,-11.424826622009277,-5.395011901855469,-4.98275899887085,-2.3811516761779785,-2.1663057804107666,-2.8727009296417236,-12.04267406463623,-3.036994695663452,-7.915470600128174,-2.6565868854522705,-6.112994194030762,-1.5895112752914429,-8.5272855758667,-1.8228657245635986,-12.21633529663086,-10.381488800048828,-7.731869220733643,-2.3954124450683594,-6.7545576095581055,-8.911771774291992,-5.896399021148682,-11.56197738647461,-5.530653476715088,-0.7538859248161316,-6.18690299987793,-12.216371536254883,-11.960665702819824,-2.2709872722625732,-8.886161804199219,-11.935803413391113,-9.253205299377441,-0.2669384479522705,-2.0121970176696777,-12.016626358032227,0.3572671413421631,-2.701789617538452,0.1574767827987671,-7.481057643890381,-9.970893859863281,-6.2789130210876465,-5.677137851715088,-6.80078125,-6.409131050109863,-6.725569248199463,-2.321876287460327,0.04895354434847832,-3.072974681854248,-8.182456970214844,-7.5878729820251465,-2.5436031818389893,-0.5468742251396179,-5.285254001617432,-9.266921997070312,-4.982044696807861,-1.7767963409423828,-8.552833557128906,-4.681399822235107,-4.763460636138916,-6.3849873542785645,-6.811985969543457,-8.882160186767578,-12.561941146850586,-4.825186729431152,-1.9895557165145874,-1.6196110248565674,-1.2017344236373901,-8.2706937789917,-2.089061737060547,-2.6977882385253906,-7.035425662994385,-1.9125386476516724,-6.956578254699707,-0.8939954042434692,-0.978634238243103,0.811848521232605,-8.321370124816895,-0.09085066616535187,-0.47061967849731445,-0.2213265597820282,-3.3113129138946533,-7.707605838775635,-8.134523391723633,-6.69728422164917,-1.838572382926941,-1.5650577545166016,-6.036736488342285,-6.235682010650635,-5.767560005187988,-5.092308521270752,-11.904764175415039,-9.271659851074219,-0.5779126882553101,0.7215117812156677,-12.037906646728516,-4.448770523071289,-2.424680471420288,-1.9474878311157227,-10.613682746887207,-6.079879283905029,-6.564777851104736,-2.8589701652526855,-12.523994445800781,-11.903807640075684,0.15317867696285248,-6.474518775939941,-8.64841365814209,-2.741025924682617,-3.3843815326690674,-1.875541090965271,-6.163997650146484,-6.741404056549072,-1.3751792907714844,-6.672235488891602,-0.03290311619639397,-2.926563262939453,-6.040572643280029,-8.265918731689453,-2.3581814765930176,-5.032453536987305,-1.9099677801132202,-7.094387054443359,-5.543930530548096,-11.672811508178711,-8.817428588867188,-9.292006492614746,-2.5466675758361816,-8.707327842712402,-1.5456503629684448,-12.296621322631836,-5.178046226501465,-12.267494201660156,-2.677321672439575,-10.41635799407959,-5.500792026519775,-10.884451866149902,-1.158881425857544,-3.47843337059021,-1.9986568689346313,-6.200404644012451,-5.4521660804748535,-10.993837356567383,-2.2895262241363525,-6.476363658905029,-11.602253913879395,-1.214607834815979,-2.496842861175537,-2.773498773574829,-6.244824409484863,-4.091079235076904,0.2700953185558319,-9.004759788513184,-0.2684979736804962,-5.047082424163818,-7.692154884338379,-0.2922297418117523,-1.596298336982727,-5.442121982574463,-1.2329339981079102,-1.2208971977233887,-9.210326194763184,-9.090597152709961,-11.685579299926758,-2.5157477855682373,-10.487581253051758,-10.378068923950195,-3.685736894607544,-6.379734039306641,-3.526689291000366,-1.5417982339859009,-8.680584907531738,-7.085078239440918,-8.210097312927246,-2.6475322246551514,-5.734321594238281],\"y\":[-2.764716386795044,-4.715635299682617,-1.9638848304748535,-1.0126265287399292,-1.200790286064148,-5.750080108642578,-1.939424991607666,-4.3743486404418945,-2.518336057662964,-3.1779110431671143,-5.296500205993652,-3.0526316165924072,-5.365360260009766,-2.836580276489258,-1.152469277381897,-5.813990116119385,-4.881818771362305,-1.5767476558685303,-2.8431406021118164,-2.148418426513672,-2.5967376232147217,-2.9597160816192627,-2.3603241443634033,-6.068525314331055,-3.575460433959961,-6.390305519104004,-4.290897846221924,-2.144462823867798,-2.03166127204895,-1.8159416913986206,-3.169778347015381,-1.010210633277893,-1.0034489631652832,-7.504141807556152,-2.3212056159973145,-0.7839812636375427,-2.533581018447876,-0.8549656271934509,-1.4027750492095947,-5.7379279136657715,-4.617420673370361,-4.557035446166992,-2.1390883922576904,-3.96720814704895,-2.3785297870635986,-4.1132354736328125,-1.4623240232467651,-6.453025817871094,-3.9284133911132812,-5.009502410888672,-4.282222270965576,-2.8267974853515625,-1.0284333229064941,-4.402016639709473,-1.1069085597991943,-2.261195182800293,-2.8245606422424316,-4.443830966949463,-5.116077899932861,-2.7708213329315186,-4.907993793487549,-2.1499321460723877,-0.5769522786140442,-2.121593475341797,-1.5049124956130981,-7.365391731262207,-1.588505506515503,-4.4212446212768555,-4.444042682647705,-4.021944046020508,-2.048118829727173,-5.86418342590332,-1.0375864505767822,-1.1469429731369019,-0.6609827280044556,-1.682502031326294,-5.963217735290527,-5.362565040588379,-1.285829782485962,-1.7384033203125,-4.9376935958862305,-2.968812942504883,-4.914059638977051,-3.1006662845611572,-0.49568745493888855,-5.230755805969238,-2.646740436553955,-0.9535835385322571,-2.175258159637451,-5.873045921325684,-1.7626428604125977,-2.5932979583740234,-6.132880687713623,-4.770482540130615,-4.754785537719727,-2.736086130142212,-2.5885391235351562,-0.6046374440193176,-2.0519940853118896,-4.068939208984375,-0.5304272174835205,-5.809023380279541,-2.5397937297821045,-4.288482189178467,-1.0914287567138672,-1.6035773754119873,-0.6953285336494446,-4.26045036315918,-2.4126057624816895,-6.701594829559326,-5.55680513381958,-5.39196252822876,-4.614657878875732,-0.8915838003158569,-0.6200894117355347,-1.5701794624328613,-3.7491681575775146,-6.026954650878906,-6.125256538391113,-2.195158004760742,-4.916309356689453,-4.50523567199707,-2.7546629905700684,-2.4515206813812256,-2.8211448192596436,-0.7425132989883423,-3.438319206237793,-3.899256467819214,-1.163893222808838,-5.911166191101074,-5.684334754943848,-2.4261112213134766,-2.648073673248291,-1.4012185335159302,-5.918604373931885,-5.21735143661499,-5.68979024887085,-5.606525421142578,-6.245516777038574,-1.1402344703674316,-1.1043201684951782,-3.2569544315338135,-5.844954967498779,-2.540221691131592,-3.4928839206695557,-6.021323204040527,-5.299947261810303,-6.127630710601807,-4.042949676513672,-2.253969669342041,-1.1630457639694214,-1.043527364730835,-2.912442207336426,-1.65847647190094,-1.7620011568069458,-4.093250274658203,-1.6061606407165527,-0.7251516580581665,-2.9148316383361816,-6.114038467407227,-2.735869884490967,-0.7305358648300171,-4.0795392990112305,-1.004479169845581,-2.1486635208129883,-3.8147451877593994,-0.8283940553665161,-0.5615607500076294,-4.319149494171143,-4.114249229431152,-2.178936719894409,-2.644390106201172,-5.578857421875,-2.4933834075927734,-3.29883074760437,-3.3055901527404785,-7.274386405944824,-5.933506965637207,-6.11575174331665,-2.6785261631011963,-1.708713173866272,-2.2830429077148438,-3.808913230895996,-1.3251683712005615,-0.9837188720703125,-4.0982160568237305,-2.1137635707855225,-0.8884363770484924,-3.0469985008239746,-4.961067199707031,-4.987618446350098,-2.4642727375030518,-7.6964030265808105,-2.099689483642578,-2.0218443870544434,-6.349948883056641,-5.944132328033447,-0.8422902822494507,-2.6730306148529053,-1.6478904485702515,-1.1726734638214111,-2.48421573638916,-3.2551984786987305,-4.4278693199157715],\"z\":[-9.673698425292969,-8.11696720123291,-9.787053108215332,-10.409333229064941,-10.634754180908203,-7.1841349601745605,-7.239418029785156,-8.075836181640625,-9.165369987487793,-8.091251373291016,-7.58864164352417,-9.112257957458496,-7.534064769744873,-9.271235466003418,-10.632160186767578,-6.050767421722412,-5.454433917999268,-10.184167861938477,-9.148646354675293,-9.095128059387207,-7.639459609985352,-8.711028099060059,-8.247358322143555,-6.629143714904785,-6.833009243011475,-4.698559761047363,-7.442969799041748,-8.767180442810059,-9.673238754272461,-7.5858049392700195,-8.655879974365234,-10.533262252807617,-10.429964065551758,-3.9396615028381348,-8.511516571044922,-9.860105514526367,-8.466179847717285,-9.876561164855957,-10.507858276367188,-5.703968048095703,-8.107414245605469,-6.152266979217529,-10.50943660736084,-6.855961799621582,-8.533427238464355,-8.205052375793457,-10.48337173461914,-4.909893035888672,-8.745467185974121,-7.790850639343262,-8.35396671295166,-8.872318267822266,-10.554675102233887,-5.6936445236206055,-10.61963176727295,-9.215482711791992,-9.23984432220459,-6.68515682220459,-7.70366096496582,-9.26429557800293,-7.816719055175781,-7.304405212402344,-9.614531517028809,-8.851075172424316,-7.293543338775635,-4.272866725921631,-7.397189140319824,-8.366353988647461,-8.040699005126953,-8.622913360595703,-9.956214904785156,-7.06314754486084,-10.684565544128418,-10.652074813842773,-9.706698417663574,-7.4141130447387695,-5.7139410972595215,-7.5397186279296875,-10.588997840881348,-9.069246292114258,-5.024922847747803,-9.236136436462402,-7.809487819671631,-9.0590181350708,-9.545105934143066,-7.641201496124268,-9.293956756591797,-10.394046783447266,-9.975859642028809,-7.054808139801025,-10.192464828491211,-8.947281837463379,-6.286150932312012,-6.209634780883789,-5.984384059906006,-7.524812698364258,-9.78713607788086,-9.63350772857666,-8.916743278503418,-8.646573066711426,-9.593588829040527,-7.12129020690918,-7.462748050689697,-5.9721245765686035,-7.224734783172607,-10.363729476928711,-8.213797569274902,-5.603446960449219,-7.051237106323242,-5.1762590408325195,-7.419435024261475,-7.516314506530762,-8.17340087890625,-9.288737297058105,-9.322237968444824,-10.325355529785156,-8.827858924865723,-6.708402633666992,-6.3906049728393555,-8.729630470275879,-7.80703592300415,-5.460273265838623,-5.9191484451293945,-9.314558982849121,-9.082225799560547,-9.71407699584961,-7.406625747680664,-8.30709457397461,-10.573716163635254,-6.993627548217773,-5.860316753387451,-8.746127128601074,-9.289774894714355,-7.539871692657471,-6.9737629890441895,-7.6471266746521,-5.792946815490723,-6.191183567047119,-4.764554500579834,-10.598478317260742,-10.676894187927246,-7.2007269859313965,-7.071211814880371,-6.782872200012207,-7.90131139755249,-6.782293796539307,-7.621912002563477,-5.1811909675598145,-8.317956924438477,-8.357562065124512,-10.660594940185547,-10.548151969909668,-8.85291576385498,-10.26214599609375,-10.111513137817383,-7.163677215576172,-10.306477546691895,-9.231928825378418,-8.79633617401123,-6.430542469024658,-8.571745872497559,-9.814637184143066,-8.222795486450195,-10.560529708862305,-9.48958969116211,-6.547097682952881,-10.055401802062988,-9.61966323852539,-8.373017311096191,-8.390212059020996,-9.448452949523926,-8.270115852355957,-7.29978084564209,-8.773106575012207,-7.055165767669678,-7.842733383178711,-4.395475387573242,-6.934114933013916,-6.01943302154541,-6.401799201965332,-10.201823234558105,-7.195662975311279,-8.515819549560547,-10.562878608703613,-8.167266845703125,-6.589306354522705,-9.863044738769531,-8.907975196838379,-7.276519775390625,-7.782390117645264,-7.781179428100586,-8.632644653320312,-3.8433783054351807,-9.63804817199707,-9.695874214172363,-5.647355556488037,-6.938227653503418,-10.062966346740723,-7.8022541999816895,-10.291196823120117,-10.65446662902832,-9.896025657653809,-7.9649481773376465,-8.19777774810791],\"type\":\"scatter3d\"},{\"hovertemplate\":\"Dominant_Topic=Topic 1<br>0=%{x}<br>1=%{y}<br>2=%{z}<extra></extra>\",\"legendgroup\":\"Topic 1\",\"marker\":{\"color\":\"#EF553B\",\"opacity\":0.7,\"symbol\":\"circle\"},\"mode\":\"markers\",\"name\":\"Topic 1\",\"scene\":\"scene\",\"showlegend\":true,\"x\":[7.427457332611084,7.71676778793335,4.343689918518066,4.384413242340088,6.200432300567627,4.299566268920898,6.027554035186768,5.181463718414307,7.033001899719238,7.428346633911133,4.267778396606445,6.800673961639404,4.775094032287598,3.8574540615081787,6.250576972961426,6.815981388092041,2.641043186187744,2.5798754692077637,3.2285919189453125,7.521244049072266,6.149364471435547,0.8713163733482361,6.540011405944824,3.029008388519287,2.995077610015869,3.010777235031128,8.197848320007324,5.790047645568848,7.042032718658447,5.306138515472412,5.691394805908203,3.8338935375213623,3.1670355796813965,3.063026189804077,3.0040175914764404,4.942359447479248,5.702307224273682,2.9887022972106934,2.9537148475646973,7.187546253204346,3.1636404991149902,6.0487895011901855,4.263741970062256,3.103659152984619,1.1706061363220215,6.107080936431885,3.0785932540893555,8.134425163269043,2.7108941078186035,6.124804496765137,4.743449687957764,2.7838990688323975,3.792750835418701,7.096711158752441,5.102334022521973,5.015829563140869,6.308334827423096,2.585750102996826,3.620734930038452,2.988725185394287,1.9059268236160278,2.5619583129882812,4.277338027954102,8.109376907348633,7.813608169555664,4.856488227844238,3.038419008255005,7.19620943069458,8.283954620361328,7.96467924118042,3.0333046913146973,2.997157573699951,5.041402816772461,1.3052438497543335,6.160423278808594,6.635894775390625,3.38787841796875,3.007418394088745,3.785705327987671,5.408594608306885,4.501719951629639,3.030069351196289,3.026397466659546,5.74239444732666,3.069631576538086,1.8225840330123901,4.235991954803467,2.9043667316436768,5.275135040283203,4.960206985473633,4.468167304992676,5.8892412185668945,3.071700096130371,2.674921751022339,2.4772353172302246,6.234039783477783,7.088927268981934,5.057064056396484,1.8478809595108032,3.6721715927124023,2.7369582653045654,7.99212646484375,7.769713401794434,4.319279670715332,4.376084804534912,7.504077434539795,4.658872127532959,8.269044876098633,7.164643287658691,7.28898811340332,7.503620624542236,5.706286907196045,4.975442409515381,4.052417755126953,3.778073310852051,2.483396053314209,3.2690184116363525,4.757641315460205,6.988184928894043,5.98521614074707,3.004112482070923,3.2457075119018555,4.965915203094482,6.964839935302734,7.432620525360107,5.1775102615356445,7.86357307434082,3.7213430404663086,4.012875080108643,7.435600757598877,2.6947107315063477,6.232183933258057,5.002408981323242,5.099921703338623,2.620295524597168,0.9307175874710083,2.9995665550231934,3.206806182861328,5.896026134490967,1.321747064590454,7.480591773986816,2.998878240585327,8.235783576965332,6.187261581420898,2.6147327423095703,1.9525675773620605,3.1659512519836426,5.816631317138672,4.435378551483154,2.03053617477417,8.176849365234375,7.628413677215576,4.609153747558594,7.979135036468506,3.0248119831085205,6.950572967529297,5.977087020874023,3.6917343139648438,2.9554526805877686,5.784605026245117,4.139847755432129,3.6865153312683105,3.8516926765441895,5.584112644195557,3.373899221420288,2.6543326377868652,2.808710813522339,2.5094540119171143,2.9674766063690186,2.985668182373047,7.412024021148682,6.215054988861084,6.0462446212768555,3.067012071609497,2.9799373149871826,2.8903257846832275,7.59259557723999,7.787909030914307,3.234513759613037,7.244814395904541,8.068145751953125,7.1931376457214355,5.390847682952881,3.5061609745025635,4.057787895202637,4.432396411895752,3.9076647758483887,6.622912883758545,6.048523426055908,3.0357604026794434,8.253891944885254,3.649502992630005,4.955472469329834,2.9602701663970947,8.274221420288086,2.4688525199890137,3.9836931228637695,2.4632866382598877,3.0356979370117188,2.898486375808716,5.933619976043701,3.4184560775756836,5.67545223236084,7.965334892272949,3.4464683532714844,6.885489463806152,5.839375972747803,5.085686683654785,3.161611795425415,5.417574405670166,7.950992107391357,3.68656587600708,2.4651639461517334,2.467294931411743,2.6536285877227783,8.24545669555664,6.257650375366211,4.273775100708008,4.702918529510498,2.616962194442749,2.4988441467285156,3.1604971885681152,5.388322353363037,1.192642092704773,3.1546645164489746,5.056210994720459,3.5517032146453857,1.4497781991958618,2.8904850482940674,7.864773273468018,3.009347915649414,8.260979652404785,2.27496075630188,2.7042696475982666,4.430234432220459,3.042785167694092,2.7989413738250732,3.4675564765930176,7.380503177642822,7.831576347351074,2.2147040367126465,1.8840792179107666,1.5925962924957275,3.0433003902435303,2.8473103046417236,8.089524269104004,7.10548734664917,3.0081441402435303,4.671174049377441,3.59454083442688,7.524405002593994,3.0741379261016846,3.406374454498291,7.9352922439575195,6.877791881561279,2.55788254737854,5.304582118988037,3.6981186866760254,7.043455123901367,3.6661181449890137,8.235081672668457,8.26583194732666,4.875607013702393,7.172928333282471,5.365796089172363,4.642043590545654,4.482944488525391,2.9031076431274414,7.909572124481201,2.550196886062622,3.09035062789917,6.859707355499268,6.816495418548584,7.762442111968994,2.982226610183716,8.091680526733398,5.62078332901001,5.530672073364258,2.9390065670013428,4.677766799926758,7.279507160186768,6.80094575881958,7.199591159820557,5.1078410148620605,5.975642204284668,4.570313930511475,7.322017669677734,6.1551408767700195,5.558537483215332,7.634329319000244,3.0184788703918457,2.7867493629455566,3.177417755126953,6.116347312927246,8.033639907836914,3.6545469760894775,6.22211217880249,3.4503352642059326,6.798863887786865,6.678868293762207,5.148521900177002,4.605519771575928,2.977969169616699,6.767923831939697,2.6434247493743896,4.4648756980896,2.62334942817688,3.8234262466430664,1.301234483718872,8.266218185424805,6.385073184967041],\"y\":[1.8394947052001953,8.858735084533691,-0.5005500316619873,-1.066212773323059,-0.4157836139202118,0.9354103803634644,4.032315731048584,13.295680046081543,11.019917488098145,1.7762941122055054,-0.344453901052475,11.424863815307617,6.263593673706055,3.9226737022399902,2.582566261291504,11.318001747131348,7.32917594909668,6.8054094314575195,7.566114902496338,9.69608211517334,1.9193509817123413,-1.089908242225647,5.961736679077148,12.56319808959961,12.706151962280273,14.003047943115234,6.707708358764648,0.34264442324638367,10.926715850830078,2.0933609008789062,3.411834478378296,7.6749114990234375,15.642151832580566,11.19292163848877,13.531342506408691,2.7302143573760986,12.833296775817871,12.30314826965332,9.78860855102539,10.606300354003906,14.831300735473633,2.5720765590667725,9.65515422821045,11.565286636352539,2.0849342346191406,3.5798838138580322,12.860627174377441,4.46551513671875,5.784183025360107,4.563084602355957,-0.6203214526176453,14.961858749389648,4.550562381744385,2.437072992324829,8.413655281066895,0.961815357208252,2.582099437713623,15.634970664978027,-1.0106453895568848,11.922567367553711,3.3525826930999756,6.449466705322266,-1.120597004890442,4.27029275894165,3.2722740173339844,5.981063365936279,13.701094627380371,10.553384780883789,5.69759464263916,3.495527982711792,11.014355659484863,11.783639907836914,6.123105049133301,2.26277756690979,10.964762687683105,11.629429817199707,15.450644493103027,10.540877342224121,-0.6699827313423157,13.116397857666016,3.265002965927124,13.278541564941406,10.283098220825195,0.24117259681224823,9.105351448059082,3.213900566101074,0.6744475960731506,9.487305641174316,7.6860575675964355,13.525388717651367,9.261674880981445,11.275707244873047,15.386679649353027,15.755223274230957,1.438563585281372,12.193657875061035,6.259960651397705,8.995878219604492,-0.03824879974126816,11.293766021728516,5.881354808807373,7.742893218994141,3.9267194271087646,14.077437400817871,7.363610744476318,3.981168270111084,13.424837112426758,6.025268077850342,7.107585430145264,2.531141757965088,1.863903284072876,12.127034187316895,8.531983375549316,4.041434288024902,5.187104225158691,15.356362342834473,-0.8245862126350403,13.69636058807373,6.733800411224365,-0.8921410441398621,13.364338874816895,8.299635887145996,8.486266136169434,0.9697132110595703,3.2737343311309814,7.456760883331299,8.29049015045166,10.918340682983398,10.862998008728027,7.663905143737793,15.292277336120605,6.190345764160156,3.2692811489105225,13.377156257629395,1.7045522928237915,-0.6759441494941711,2.472712755203247,3.1691086292266846,-1.205250859260559,2.28334903717041,9.744805335998535,11.768177032470703,6.0394110679626465,5.599030017852783,7.305517673492432,3.4882469177246094,-0.14226241409778595,12.67535400390625,7.775464057922363,3.510284662246704,6.682889938354492,9.201930046081543,0.012219483032822609,3.4643428325653076,12.236921310424805,1.7951358556747437,12.484375,10.164437294006348,10.7430419921875,3.852583408355713,-1.0455363988876343,2.220686674118042,3.455765962600708,1.120408535003662,2.7958786487579346,7.956308841705322,8.914031982421875,6.141381740570068,2.174755334854126,15.502019882202148,9.839715957641602,6.881302833557129,-0.7685770988464355,2.1525425910949707,11.505415916442871,15.482712745666504,9.393881797790527,8.630051612854004,2.6491897106170654,7.400763034820557,7.366684436798096,1.498395323753357,7.498746395111084,2.061711072921753,0.853861927986145,0.8636730313301086,8.183029174804688,9.722121238708496,3.7425589561462402,11.09867000579834,6.339634418487549,-0.18686196208000183,1.797021508216858,15.51632308959961,5.461125373840332,5.4829421043396,0.9773890972137451,5.142086029052734,14.06791877746582,14.837716102600098,12.556715965270996,3.3089678287506104,6.028870582580566,3.4472334384918213,15.14093017578125,1.8182774782180786,8.54653263092041,-1.7176897525787354,15.678017616271973,-0.21084891259670258,8.019272804260254,-1.0156521797180176,5.557295322418213,1.8995260000228882,14.990988731384277,5.245214939117432,10.227824211120605,8.002056121826172,9.410969734191895,7.182173728942871,15.523421287536621,11.067927360534668,2.88279128074646,-0.5008258819580078,15.121371269226074,7.82915735244751,1.4320226907730103,2.495542526245117,4.457812309265137,8.318947792053223,13.285324096679688,6.183718681335449,3.635626792907715,15.089757919311523,-0.47504886984825134,11.992864608764648,8.724675178527832,8.776325225830078,7.66735315322876,2.964033603668213,3.319556951522827,-0.4386455714702606,2.7487566471099854,15.757189750671387,8.5741548538208,4.076891899108887,9.29785442352295,13.19469928741455,8.010129928588867,14.626652717590332,2.0066075325012207,4.30793571472168,7.540794849395752,5.937752723693848,0.7967570424079895,1.2834904193878174,-0.04519903287291527,3.0538127422332764,1.0429071187973022,2.52419376373291,5.121034622192383,6.079236030578613,9.44986629486084,10.669246673583984,-2.41485333442688,5.85907506942749,7.114765644073486,9.47502326965332,3.2126364707946777,6.372591018676758,14.989171981811523,1.44014310836792,11.372560501098633,8.640349388122559,12.901132583618164,7.22936487197876,12.859582901000977,12.968050003051758,7.751625061035156,13.719614028930664,10.417638778686523,11.385411262512207,1.3719269037246704,12.26257610321045,6.330016136169434,1.483181357383728,7.013969421386719,8.10831069946289,4.786549091339111,2.2993197441101074,13.31383228302002,7.958721160888672,14.837423324584961,12.288269996643066,7.625854015350342,3.8137972354888916,12.187917709350586,14.970885276794434,11.440086364746094,2.589331865310669,1.5621129274368286,0.060330018401145935,8.755158424377441,11.459842681884766,5.543149471282959,1.257880449295044,-0.9835021495819092,14.505587577819824,2.239990234375,5.986357688903809,3.6901910305023193],\"z\":[-3.1216070652008057,-2.9435532093048096,-4.458658695220947,-3.650055408477783,-2.550178289413452,-5.820684432983398,-5.364816188812256,-1.8130921125411987,-2.195971965789795,-3.079423427581787,-4.736780166625977,-2.0739212036132812,-6.7107253074646,-7.327512264251709,-8.532952308654785,-2.1591100692749023,-8.239396095275879,-8.365218162536621,-7.8088788986206055,-2.6500132083892822,-4.49282169342041,-7.1721510887146,-5.196218013763428,-4.921850204467773,-4.805843353271484,-3.2725236415863037,-3.2508556842803955,-3.7322492599487305,-2.279940128326416,-5.394452095031738,-5.523230075836182,-7.33245325088501,-1.9234880208969116,-6.136507987976074,-3.860197067260742,-5.999838829040527,-1.7970895767211914,-5.228217601776123,-7.085358619689941,-2.368154525756836,-2.0071663856506348,-8.578022956848145,-6.113248825073242,-5.809653282165527,-8.944111824035645,-5.186882019042969,-4.555796146392822,-3.3201260566711426,-8.351140975952148,-5.353993892669678,-3.8314459323883057,-1.498826026916504,-7.450750827789307,-3.824361801147461,-5.973264217376709,-5.0718793869018555,-8.519208908081055,-1.8544038534164429,-4.524501800537109,-5.597395896911621,-8.786579132080078,-8.418509483337402,-3.68965220451355,-3.3923182487487793,-3.397238254547119,-6.645624160766602,-3.6184349060058594,-2.3984169960021973,-3.27656888961792,-3.304800510406494,-6.282020568847656,-5.7160515785217285,-6.476654529571533,-8.915562629699707,-3.207977533340454,-2.039207696914673,-1.5970207452774048,-6.614654064178467,-4.83170747756958,-1.7798024415969849,-6.585449695587158,-4.136396884918213,-6.75213623046875,-3.6930506229400635,-7.356625556945801,-8.815196990966797,-6.052268981933594,-7.283445358276367,-6.0552802085876465,-1.785651445388794,-6.152527809143066,-3.2022757530212402,-1.315722107887268,-1.5171507596969604,-7.613016605377197,-1.9035183191299438,-4.5298380851745605,-5.74495792388916,-7.115342617034912,-5.54775333404541,-8.33384895324707,-3.1628077030181885,-3.6477956771850586,-1.7855795621871948,-6.95186710357666,-3.9463536739349365,-2.2141599655151367,-3.281633138656616,-4.3018999099731445,-3.667367696762085,-3.2151148319244385,-1.391692042350769,-6.044071674346924,-7.168869972229004,-7.511146068572998,-1.7398998737335205,-5.1469221115112305,-1.8005534410476685,-4.561293601989746,-2.3180017471313477,-4.060762405395508,-7.584628105163574,-6.0731353759765625,-3.0135385990142822,-3.8112733364105225,-6.20313024520874,-3.0736727714538574,-5.784087657928467,-5.566118240356445,-3.8417551517486572,-1.3291229009628296,-5.360723495483398,-6.121610164642334,-1.8074910640716553,-7.649813175201416,-7.424835205078125,-7.695859432220459,-7.733682155609131,-2.1093592643737793,-8.910452842712402,-2.6623947620391846,-5.723933696746826,-3.324937105178833,-5.395761013031006,-8.261582374572754,-8.778751373291016,-5.94169807434082,-1.831346035003662,-6.813571929931641,-8.724968910217285,-3.2801342010498047,-2.8472886085510254,-4.7403764724731445,-3.278646469116211,-5.262789249420166,-3.639789581298828,-1.8647962808609009,-6.293745040893555,-6.527132987976074,-5.548351287841797,-3.913709878921509,-7.020857810974121,-7.240406036376953,-4.569209098815918,-7.500226020812988,-8.067110061645508,-7.625331401824951,-8.48365306854248,-7.604298114776611,-2.1216323375701904,-2.6777191162109375,-5.291208267211914,-2.374624490737915,-7.519832611083984,-5.962484836578369,-2.118817090988159,-2.7685117721557617,-2.9882521629333496,-7.572699546813965,-4.137739181518555,-3.210513114929199,-3.1644582748413086,-5.983628749847412,-7.116005897521973,-6.299397945404053,-5.638589382171631,-7.115527629852295,-3.652362823486328,-5.284460067749023,-6.223754405975342,-3.2637205123901367,-5.485098361968994,-5.614528656005859,-1.2967162132263184,-3.279721260070801,-8.533671379089355,-6.144899368286133,-8.529010772705078,-3.1655571460723877,-1.622084617614746,-1.844883680343628,-7.591793060302734,-5.886941909790039,-3.2873127460479736,-1.9504327774047852,-3.7208497524261475,-5.157474994659424,-5.038086891174316,-1.5439220666885376,-3.5968236923217773,-3.0946319103240967,-4.443445205688477,-8.537087440490723,-7.860990524291992,-1.7892683744430542,-3.295335054397583,-3.688561201095581,-6.880352973937988,-5.8637237548828125,-8.283114433288574,-1.6211358308792114,-6.146579265594482,-5.6268534660339355,-7.332704067230225,-2.1857547760009766,-6.2300124168396,-6.778974533081055,-8.888639450073242,-8.165468215942383,-3.0582334995269775,-4.149024486541748,-3.272827625274658,-8.558279037475586,-2.015780448913574,-4.425237655639648,-5.484262466430664,-7.707196235656738,-7.210901737213135,-3.8994481563568115,-3.252591133117676,-8.54605770111084,-6.788388252258301,-8.860308647155762,-1.792057991027832,-7.7378058433532715,-3.3049914836883545,-3.3911795616149902,-4.255600929260254,-6.5332231521606445,-1.8495503664016724,-3.1105024814605713,-8.009889602661133,-7.691322326660156,-3.677628993988037,-2.943317413330078,-7.460579872131348,-3.8954875469207764,-7.284753799438477,-2.972391366958618,-7.151118278503418,-3.2946231365203857,-3.2819464206695557,-5.676332473754883,-2.338120460510254,-4.474399566650391,-6.828433513641357,-6.896994113922119,-7.291499137878418,-3.2658402919769287,-8.434957504272461,-1.4282662868499756,-3.492419958114624,-2.1099324226379395,-3.0113537311553955,-4.6071977615356445,-3.22930908203125,-1.8303298950195312,-1.8072693347930908,-7.951803684234619,-1.855951189994812,-2.404608726501465,-2.111102342605591,-3.060238838195801,-2.985171318054199,-5.592879772186279,-5.858767032623291,-4.159847259521484,-5.010051727294922,-5.897641658782959,-3.151592969894409,-4.1072468757629395,-7.986148834228516,-2.0172278881073,-1.9090813398361206,-3.1579670906066895,-7.479430675506592,-1.9127633571624756,-1.7301063537597656,-2.05859375,-4.29488468170166,-5.303654193878174,-4.792915344238281,-7.576864242553711,-2.0690860748291016,-8.402458190917969,-5.858133316040039,-5.62565803527832,-1.7712525129318237,-8.910996437072754,-3.28905987739563,-4.960139274597168],\"type\":\"scatter3d\"},{\"hovertemplate\":\"Dominant_Topic=Topic 2<br>0=%{x}<br>1=%{y}<br>2=%{z}<extra></extra>\",\"legendgroup\":\"Topic 2\",\"marker\":{\"color\":\"#00cc96\",\"opacity\":0.7,\"symbol\":\"circle\"},\"mode\":\"markers\",\"name\":\"Topic 2\",\"scene\":\"scene\",\"showlegend\":true,\"x\":[-2.0937089920043945,-0.31347137689590454,-4.7775678634643555,1.8754615783691406,5.374332427978516,2.102306365966797,-2.3666586875915527,5.563736438751221,5.250238418579102,3.05127215385437,-1.2724825143814087,5.370233535766602,-2.1075801849365234,1.6989458799362183,2.1311559677124023,5.1953206062316895,0.41526252031326294,-2.276228427886963,-5.140738010406494,5.740119934082031,-1.423080563545227,-4.085860729217529,-1.848423719406128,-2.4789483547210693,-6.978489398956299,4.457380294799805,-4.459824562072754,4.751659393310547,-2.6499900817871094,0.6212630271911621,0.8388503789901733,-2.2697815895080566,4.892354488372803,-2.879460334777832,-5.434964656829834,-2.4644486904144287,4.092620372772217,-2.4800286293029785,-2.4410524368286133,-1.7288782596588135,-2.4471797943115234,-3.7968976497650146,2.1770026683807373,-1.9693900346755981,-0.5738813281059265,0.8371714353561401,-2.6146514415740967,5.288891315460205,3.569570541381836,-1.3956884145736694,2.279566526412964,-2.0976293087005615,1.3982151746749878,-6.2984299659729,-4.522032260894775,5.096953392028809,2.8644251823425293,-5.93343448638916,3.7887332439422607,-5.209501266479492,-4.531073570251465,-2.235884428024292,-5.724826335906982,0.21655870974063873,-1.7663387060165405,1.7170971632003784,-2.48594331741333,-4.837662220001221,-0.0401449054479599,4.268632411956787,-5.609169960021973,-2.0531060695648193,-1.1315584182739258,5.578718185424805,1.0097012519836426,5.698313236236572,1.6879827976226807,3.673360824584961,-1.9674021005630493,0.5585944056510925,3.007192373275757,-4.889275550842285,1.9106944799423218,0.21774627268314362,-1.8218059539794922,2.0067288875579834,-1.6869419813156128,-2.350532293319702,-5.406651020050049,0.7372015714645386,-4.659643650054932,-6.607992172241211,-0.03883446380496025,-3.0495316982269287,-1.4744476079940796,1.9325796365737915,5.741371154785156,-2.218381404876709,1.2387031316757202,-1.7501877546310425,-2.1287310123443604,-4.718392848968506,4.093896389007568,2.85274338722229,5.096651554107666,0.6416733860969543,3.160928964614868,-1.8729990720748901,4.7705397605896,2.5506374835968018,-2.4195611476898193,-5.15082311630249,2.1890320777893066,1.5253170728683472,-2.1853837966918945,0.1540273129940033,5.743767261505127,2.158087730407715,-2.281440019607544,5.735610485076904,4.101166725158691,0.5606387853622437,3.1306912899017334,1.868747353553772,4.8805365562438965,-2.229936361312866,3.3075456619262695,1.8999314308166504,-2.28999400138855,0.5522773861885071,5.725715160369873,-2.1101431846618652,-1.8406158685684204,-6.313310146331787,2.1932284832000732,5.737061023712158,-5.223057746887207,1.8341684341430664,4.931051731109619,3.1472604274749756,1.13153874874115,-6.105010509490967,2.541796922683716,-6.475574016571045,0.0492640845477581,-7.431061267852783,-2.231482744216919,-5.547627925872803,-0.5201787948608398,5.251218795776367,-2.9298455715179443,-6.683198928833008,-2.28718900680542,-2.860365629196167,-2.1224122047424316,-7.394676685333252,1.3716652393341064,4.323976993560791,-5.896274089813232,-5.1039814949035645,5.74498987197876,-1.8871289491653442,2.364987373352051,5.45334005355835,5.728726387023926,4.492821216583252,-5.896387577056885,-2.8012518882751465,1.598379135131836,1.4669185876846313,-1.1975631713867188,-7.525781631469727,-1.8630536794662476,2.603985071182251,3.5036985874176025,-0.6366223096847534,-5.348783493041992,1.9445935487747192,3.6016197204589844,4.4866228103637695,-1.5751607418060303,4.3979387283325195,0.27647197246551514,0.653169572353363,-2.2692787647247314,-5.668898105621338,-6.0268049240112305,-2.3869380950927734,-2.2346317768096924,-6.7952494621276855,1.8189032077789307,-2.0920684337615967,1.476855993270874,4.543234825134277,-2.254979372024536,-4.157069206237793,-6.093748569488525,4.690531253814697,0.7126281261444092,-1.8462485074996948,-0.6983903050422668,2.1110711097717285,2.2432620525360107,3.798384666442871,-2.056356430053711,2.20037579536438,0.9718628525733948,-2.473510980606079,4.20514440536499,0.9811887741088867,-1.8425081968307495,1.2778798341751099,-2.313284158706665,-5.428834915161133,-1.505882740020752,-5.215692520141602,-2.842863082885742,-6.873707294464111,-2.973560333251953,2.2297921180725098,0.12286951392889023,-0.0668182298541069,-5.595728874206543,-1.8600914478302002,-2.1951839923858643,-2.358407497406006,-2.230961322784424,0.5931002497673035,-3.0264370441436768,5.377201557159424,-2.162388801574707,-0.8196096420288086,1.7935810089111328,2.4498958587646484,-5.2046709060668945,1.0416055917739868,2.671750783920288,1.7703396081924438,-0.3452683389186859,-0.8382158875465393,4.701487064361572,-2.989414930343628,3.553556442260742,-2.498511791229248,-1.8600844144821167,-1.869042992591858,2.202965497970581,3.7835845947265625,-4.451074123382568,3.154235601425171,3.45222806930542,1.4359461069107056,-2.237077474594116,-5.528215408325195,0.5457363724708557,-1.9614440202713013,-2.394352436065674,-7.28376579284668,3.1247076988220215,2.14388370513916,-7.297470569610596,1.0722167491912842,0.40180259943008423,-4.649599075317383,3.4826865196228027,5.348570346832275,-1.2788690328598022,2.234659433364868,-6.380847454071045,1.2804434299468994,3.3451640605926514,1.155529499053955,3.2462456226348877,-0.5439967513084412,3.382641077041626,-2.465879201889038,-5.644090175628662,5.663361072540283,2.9293596744537354,-2.3039145469665527,-5.75133752822876,-0.3229508697986603,0.27875816822052,-2.2994205951690674,-2.445970296859741,2.725604772567749,-6.1398539543151855,-2.197068929672241,5.723496913909912,-2.4341325759887695,-6.046089172363281,5.003241539001465,-5.969653606414795,-4.5128655433654785,-5.733663082122803,-2.3038556575775146,-6.128162860870361,-1.8531203269958496,1.6115589141845703,-2.201812744140625,-4.778378486633301,4.304174423217773,-2.4854254722595215,1.959256887435913,-2.1675713062286377,-1.853691816329956,-2.489112138748169,2.9081037044525146,-4.783222675323486,4.772786617279053,-2.9969356060028076,-1.8401252031326294,-6.931397438049316,-5.2586517333984375,-4.55303955078125,-1.9425357580184937,-5.146422386169434,-1.7587167024612427,-3.0184261798858643,-2.0149905681610107,-5.622655391693115,-1.8570611476898193,5.257824420928955,5.31458044052124,1.466343879699707,5.250211238861084,5.753638744354248,0.16324035823345184,-1.3119820356369019,0.035165537148714066,-2.453683614730835,-1.7579665184020996,3.1377174854278564,1.3220769166946411,-1.8364253044128418,3.1036622524261475,-1.9212284088134766,0.07631542533636093,-1.2112081050872803,-0.3074965476989746,-1.9828375577926636,0.44667625427246094,-2.2977724075317383,3.972885847091675,-2.341010808944702,-5.035940170288086,-2.3009610176086426,3.2043161392211914,2.5500636100769043,1.1707661151885986,-2.328193426132202,1.5533232688903809,-2.1850595474243164,2.9453964233398438,-2.6556882858276367,-6.323871612548828,0.21201321482658386,-1.9645956754684448,-2.833383321762085,5.644726753234863,-2.3279459476470947,1.1569818258285522,-1.70552659034729,-2.7717409133911133,-3.102940797805786,-0.26505231857299805,4.324164390563965,2.186255693435669,-2.447465658187866,-1.7432072162628174,-2.3475165367126465,-2.097658634185791,2.2430193424224854,2.7610790729522705,3.312551498413086,-0.3646840751171112,-2.2230172157287598,-2.5066685676574707,-2.995058536529541,1.115263819694519,-6.249318599700928,-2.261911153793335,-2.388118267059326,-2.3947036266326904,2.0232386589050293,-2.296300172805786,4.758415222167969,-0.2794915735721588,-1.880385160446167,-2.247183084487915,-1.9804149866104126,1.069231390953064,-1.352980613708496,-2.032045364379883,5.78070592880249,-2.9837937355041504,-6.399113178253174,4.621518135070801,-4.987195014953613,-5.178228855133057,1.4664591550827026,4.691341400146484,-2.1667892932891846,-2.226956844329834,-2.3383419513702393,-1.8421648740768433,-2.499661922454834,3.283946990966797,0.6134997010231018,5.78779935836792,-1.8415197134017944,-3.022059440612793,1.6555813550949097,-2.9788060188293457,-2.708266019821167,3.404770851135254,1.6832941770553589,-2.5220041275024414,1.1742793321609497,0.9761390089988708,0.909543514251709,-5.679553508758545,5.168240070343018,-0.7844873666763306,-2.0064287185668945,0.6825903654098511,2.566596031188965,-2.258971691131592,3.7178070545196533,-0.29229769110679626,3.0951437950134277,-3.0631322860717773,2.8874645233154297,1.9683506488800049,5.720256805419922,4.2917866706848145,4.788998126983643,-2.5785880088806152,1.899202585220337,3.678175926208496,-5.4575700759887695,-2.2126221656799316,5.747406959533691,2.4148826599121094,-2.254138946533203,2.7960915565490723,-2.9777379035949707,-3.1783297061920166,2.5481648445129395,-0.24130071699619293,-0.61977618932724,-4.461417198181152,-1.2273720502853394,1.1974679231643677,4.771812438964844,0.19885268807411194,4.840613842010498],\"y\":[-10.59423542022705,-2.379499912261963,2.3346543312072754,-1.6476973295211792,-4.233975410461426,-5.390387535095215,-10.008658409118652,-3.9486336708068848,-3.5601587295532227,-4.437689781188965,-1.3063373565673828,-4.240261077880859,-0.6580214500427246,-6.188781261444092,-7.010843276977539,-4.4255595207214355,-6.153434753417969,-6.584304332733154,3.632384777069092,-2.204965591430664,-7.546470642089844,1.1786781549453735,-9.768442153930664,-10.568638801574707,8.810641288757324,-4.664079189300537,1.070845127105713,-4.653432369232178,-5.685511589050293,-0.5719507932662964,-8.275211334228516,-8.288651466369629,-4.654538154602051,-4.879758834838867,4.848329544067383,-10.711080551147461,-5.2971930503845215,-10.676856994628906,-10.71737003326416,-0.8391077518463135,-10.72462272644043,0.8479509949684143,-6.964798450469971,-0.6498083472251892,-7.509005546569824,-8.196420669555664,-5.866594314575195,-3.009343147277832,-4.124717712402344,-1.2008395195007324,-5.579297065734863,-10.589343070983887,-1.1897573471069336,7.355204105377197,1.7265145778656006,-4.509785175323486,-5.400410175323486,6.409825325012207,-4.388814449310303,4.073882102966309,1.729636788368225,-7.360306262969971,6.774355888366699,-2.296510934829712,-9.331249237060547,-1.4511337280273438,-10.687116622924805,2.53871750831604,-5.078476428985596,-4.574866771697998,6.229118347167969,-10.751290321350098,-7.266784191131592,-3.8880436420440674,-5.535696506500244,-2.8488099575042725,-6.281130790710449,-4.223001003265381,-0.7666147351264954,-2.363325834274292,-3.158230781555176,2.7538001537323,-2.300204277038574,-4.946551322937012,-9.414234161376953,-6.961537837982178,-7.892068386077881,-9.932162284851074,4.764598846435547,-8.351960182189941,1.9992139339447021,8.370115280151367,-5.175211429595947,-2.666797399520874,-1.1266347169876099,-1.702185034751892,-3.3703854084014893,-7.150125026702881,-7.8701629638671875,-7.183891773223877,-0.45559975504875183,2.1911284923553467,-4.749885559082031,-2.9641385078430176,-4.509154319763184,-8.315110206604004,-3.3522114753723145,-10.096200942993164,-4.597277641296387,-2.513814687728882,-9.678237915039062,3.6599104404449463,-6.268180847167969,-7.253418445587158,-9.320408821105957,-8.01709270477295,-3.4337093830108643,-5.66069221496582,-10.711038589477539,-1.8899106979370117,-4.509147644042969,-6.993224143981934,-4.75752067565918,-7.111024379730225,-4.161331653594971,-8.186003684997559,-3.9380197525024414,-6.158693313598633,-8.266796112060547,-2.9348342418670654,-2.4451210498809814,-10.593255996704102,-9.875144004821777,7.736289978027344,-6.945094108581543,-2.236872673034668,3.949709177017212,-6.202922821044922,-4.6166911125183105,-3.2668423652648926,-7.5041279792785645,6.925792217254639,-5.3775153160095215,8.068182945251465,-2.200789213180542,9.109464645385742,-7.850915908813477,5.36712646484375,-7.13925313949585,-3.7484452724456787,-4.483273983001709,8.485761642456055,-10.715460777282715,-4.967039585113525,-10.6370849609375,9.075519561767578,-7.504307746887207,-5.0987701416015625,6.354815483093262,3.5095419883728027,-3.5170483589172363,-0.7122148275375366,-6.267454147338867,-4.128419399261475,-3.5230181217193604,-1.3720966577529907,7.187182426452637,0.4042414128780365,-6.92236328125,-7.400832653045654,-8.68701457977295,9.165976524353027,-8.900811195373535,-5.260420799255371,-4.3116326332092285,-7.386123180389404,4.5289812088012695,-2.2247519493103027,-4.442493915557861,-4.6684465408325195,-1.1016908884048462,-4.624744892120361,-6.153873920440674,-6.044731140136719,-8.248876571655273,5.942484378814697,6.280506134033203,-7.841959476470947,-10.688173294067383,8.637373924255371,-5.697490215301514,-10.564066886901855,-7.062831401824951,-4.845126628875732,-8.215106964111328,1.2293487787246704,6.944629192352295,-4.554131507873535,-7.052517414093018,-9.595281600952148,-7.720639228820801,-5.721112251281738,-6.896238803863525,-5.327884674072266,-10.5560302734375,-5.4190216064453125,-7.547949314117432,-5.919155120849609,-5.099816799163818,-8.13442611694336,-9.451751708984375,-1.0559183359146118,-9.942456245422363,4.827165603637695,-1.0885810852050781,3.986995220184326,-5.117191791534424,8.719554901123047,-8.802582740783691,-6.9071431159973145,-2.868539571762085,-0.2949616014957428,5.4739298820495605,-8.910237312316895,-8.146624565124512,-10.135397911071777,-6.563149452209473,-5.140734672546387,-3.0726325511932373,-4.230020999908447,-0.41575756669044495,-7.683724880218506,-6.246731758117676,-6.644040107727051,3.932713270187378,-2.986173152923584,-2.588024139404297,-6.413266181945801,-2.3378407955169678,-6.420836448669434,-4.687171459197998,-3.6565639972686768,-4.459462642669678,-10.684022903442383,-9.692490577697754,-8.74752426147461,-2.980520009994507,-5.253350257873535,1.5743986368179321,-3.2695834636688232,-4.069884777069092,-5.740750312805176,-7.340872764587402,5.214738845825195,-5.228244781494141,-8.615240097045898,-10.309496879577637,9.012035369873047,-4.754148483276367,-6.950835704803467,9.018226623535156,-0.9288416504859924,-7.886191368103027,1.916443109512329,-5.394894123077393,-4.040196418762207,-6.87429141998291,-2.0800652503967285,7.814642429351807,-7.760031223297119,-5.912718296051025,-7.974256992340088,-4.176032543182373,-6.371205806732178,-4.276250839233398,-10.538240432739258,6.313540935516357,-3.686412811279297,-2.862194061279297,-7.820884704589844,6.664523601531982,-2.3612077236175537,-2.431413412094116,-9.662525177001953,-10.482648849487305,-6.230071067810059,6.827615737915039,-6.650998115539551,-3.1555445194244385,-10.451528549194336,7.333348751068115,-3.873108386993408,6.408886432647705,1.7046047449111938,6.000145435333252,-9.73280143737793,7.205878257751465,-9.946744918823242,-1.9331780672073364,-0.5693033933639526,1.6726001501083374,-4.5861616134643555,-6.372562408447266,-1.8334028720855713,-7.485772609710693,-9.98288631439209,-10.603266716003418,-2.89135479927063,2.387498378753662,-4.6467390060424805,-2.935091018676758,-9.140183448791504,8.773670196533203,3.892951011657715,1.7805373668670654,-0.7756345272064209,3.7184181213378906,-9.30930233001709,-3.2365684509277344,-8.471660614013672,5.585673809051514,-10.017510414123535,-3.99417781829834,-3.3193533420562744,-7.462881088256836,-3.560192823410034,-3.3940889835357666,-4.929131031036377,-8.742473602294922,-2.600905418395996,-10.502281188964844,-9.304977416992188,-3.302429437637329,-7.611035346984863,-9.1646728515625,-5.086132526397705,-10.249008178710938,-6.22562837600708,-1.409014344215393,-2.376561164855957,-10.503971099853516,-2.769805669784546,-9.228636741638184,-4.440454006195068,-5.949598789215088,3.2846875190734863,-8.752044677734375,-3.404752016067505,-6.600874423980713,-7.906285285949707,-7.973496913909912,-1.3913953304290771,-8.228654861450195,-3.1095807552337646,-5.682258129119873,7.631062030792236,-8.793232917785645,-8.619855880737305,-5.188583850860596,-1.491127610206604,-8.88213062286377,-0.923987865447998,-1.060032606124878,-5.273161888122559,-8.74755859375,-2.6870760917663574,-4.614165306091309,-5.8988800048828125,-6.146238803863525,-10.523475646972656,-9.254673957824707,-0.6462661027908325,-6.775343418121338,-6.276592254638672,-3.786850929260254,-2.020498037338257,-7.576633930206299,-6.495865345001221,0.6781539916992188,-7.992531776428223,6.527644157409668,-6.813708305358887,-7.945062160491943,-9.673657417297363,-5.474514484405518,-8.811263084411621,-4.538625717163086,-2.002657890319824,-10.156222343444824,-7.768942356109619,-10.421242713928223,-6.662604331970215,-7.785796165466309,-9.249383926391602,-1.7720756530761719,-9.468606948852539,7.902406215667725,-4.79522705078125,3.0907652378082275,3.9143664836883545,-1.203240990638733,-4.805612564086914,-6.74168586730957,-7.016827583312988,-9.44267463684082,-9.881220817565918,-10.646394729614258,-5.86206579208374,-8.481735229492188,-1.6061205863952637,-9.153101921081543,-9.70579719543457,-6.017775058746338,-3.9794540405273438,-5.7993550300598145,-4.314614772796631,-6.000474452972412,-5.912632942199707,-0.9376412034034729,-8.142121315002441,-8.204354286193848,6.927083969116211,-4.449084281921387,-1.654834508895874,-0.768839955329895,-0.7315467000007629,-6.587090015411377,-8.611515045166016,-4.332271575927734,-0.2290557473897934,-6.043715000152588,-4.65465784072876,-2.922102689743042,-6.091629505157471,-2.631566047668457,-1.1875128746032715,-4.716392517089844,-0.2669318616390228,-1.7883018255233765,-5.386082172393799,4.935375690460205,-10.678228378295898,-3.3662514686584473,-6.566028118133545,-9.119017601013184,-5.642530918121338,-4.01409387588501,-8.54541301727295,-5.403808116912842,-2.6345789432525635,-7.335903167724609,1.5989800691604614,-1.373736023902893,-0.9363925457000732,-4.736325263977051,-2.8492212295532227,-4.70533561706543],\"z\":[2.0994977951049805,7.219381809234619,10.698271751403809,11.527508735656738,2.475501298904419,7.807034015655518,6.370798110961914,1.6742775440216064,-0.47809869050979614,8.235610008239746,12.38644027709961,2.4987316131591797,12.146296501159668,-1.5508275032043457,1.8680789470672607,3.152557849884033,8.640216827392578,10.336368560791016,10.102376937866211,-1.2916730642318726,-3.1461117267608643,11.417470932006836,-0.14703388512134552,4.889936447143555,8.183714866638184,5.448047637939453,11.974373817443848,4.570910930633545,10.975468635559082,12.12219524383545,2.342386484146118,8.892942428588867,3.8544023036956787,11.35123348236084,9.586864471435547,3.964221477508545,2.3319571018218994,4.0942463874816895,3.7884199619293213,12.263975143432617,3.8186912536621094,11.612871170043945,1.8722548484802246,12.171323776245117,-2.3978006839752197,1.4758654832839966,10.855740547180176,-3.920438766479492,8.157671928405762,12.365598678588867,7.173939228057861,2.0515644550323486,11.912283897399902,8.553544998168945,11.042607307434082,3.6345551013946533,-1.1807299852371216,8.685791015625,7.397792816162109,9.94622802734375,11.015386581420898,9.76293659210205,8.991467475891113,12.304363250732422,6.422652244567871,11.686417579650879,4.158353328704834,10.61059856414795,-4.481332302093506,6.14817476272583,8.93214225769043,2.289651393890381,-3.2067623138427734,1.433580756187439,-3.0558576583862305,-0.6056654453277588,-1.4107671976089478,7.892773628234863,12.20112419128418,12.16179370880127,9.743847846984863,10.521350860595703,9.610068321228027,-4.388442516326904,-0.8294732570648193,3.8224546909332275,-2.981956958770752,6.484402179718018,9.615903854370117,1.9147523641586304,10.861434936523438,8.230072975158691,-4.3840813636779785,11.942344665527344,12.345647811889648,11.464341163635254,0.27668702602386475,9.919280052185059,1.7896695137023926,-3.786388635635376,9.569677352905273,10.797992706298828,6.009208679199219,10.017565727233887,3.6209146976470947,1.2369437217712402,9.459444046020508,0.6447260975837708,1.1863586902618408,10.565264701843262,7.1158342361450195,10.083192825317383,5.643861293792725,4.336081027984619,7.270563125610352,5.661153793334961,0.4208619296550751,7.193021297454834,2.9141578674316406,-1.6213886737823486,6.593652725219727,-1.7750319242477417,7.577960968017578,3.6668202877044678,0.06117577105760574,-3.1017634868621826,8.645455360412598,6.49571418762207,8.930885314941406,6.224205493927002,-1.0482546091079712,2.0433037281036377,0.10905151814222336,8.414881706237793,2.2162399291992188,-1.2613130807876587,9.920924186706543,-1.33109712600708,4.218258380889893,9.573355674743652,4.678702354431152,8.985928535461426,-1.7212837934494019,8.31594467163086,12.343551635742188,8.251580238342285,9.343457221984863,9.357271194458008,-2.8020644187927246,-0.08279495686292648,11.489474296569824,8.200861930847168,2.8718533515930176,11.340675354003906,2.353229522705078,8.249663352966309,3.915128707885742,3.9627325534820557,9.165976524353027,10.161046981811523,0.6396563649177551,9.32703971862793,5.257607460021973,2.159262180328369,0.6070489287376404,-3.268648862838745,8.614984512329102,10.6655855178833,5.207364082336426,3.987974166870117,6.864439964294434,8.274598121643066,-1.768850564956665,-1.8263957500457764,7.929506778717041,-2.616976499557495,9.700651168823242,9.933490753173828,7.565176486968994,5.355809211730957,12.33499526977539,5.733819007873535,8.780660629272461,8.523475646972656,8.940023422241211,9.157020568847656,9.059355735778809,-3.6080195903778076,2.490135669708252,8.176323890686035,-2.0962765216827393,1.9041261672973633,5.057520866394043,4.470299243927002,8.97029972076416,11.41141414642334,8.520721435546875,0.7287123799324036,-1.4583755731582642,-0.5045039653778076,-2.2417333126068115,-1.738915205001831,1.7834476232528687,4.855379581451416,1.9474608898162842,7.621335983276367,4.982660293579102,10.77838134765625,1.312682032585144,2.0170867443084717,-0.782878577709198,11.972256660461426,6.364893913269043,9.600568771362305,12.341886520385742,9.943721771240234,11.262625694274902,8.183439254760742,5.780828475952148,1.7590932846069336,5.90251350402832,12.18894100189209,9.330698013305664,-1.7504607439041138,-3.118104934692383,6.059626579284668,10.32109546661377,-3.8627779483795166,11.878780364990234,2.460526466369629,9.588491439819336,-2.4266481399536133,-1.312660574913025,1.3978395462036133,9.959959983825684,7.2246623039245605,10.452702522277832,-0.9986753463745117,7.307896614074707,9.472805976867676,1.3420811891555786,11.751426696777344,7.597926139831543,4.36728572845459,5.829018592834473,-2.006847620010376,10.471821784973145,0.4698278307914734,11.059033393859863,9.56521987915039,8.347051620483398,8.055920600891113,9.77913761138916,9.438032150268555,-3.8149311542510986,-2.2934961318969727,5.688686847686768,8.2274808883667,7.592369556427002,2.7957780361175537,8.229730606079102,12.044008255004883,5.442692756652832,10.855047225952148,0.1334134191274643,1.0805926322937012,-3.7245852947235107,11.05515193939209,8.408666610717773,3.1025898456573486,1.936697006225586,2.194434642791748,7.350382328033447,9.284666061401367,8.10844612121582,5.034801483154297,8.882570266723633,0.9135239720344543,10.095195770263672,-3.56864595413208,9.088139533996582,7.264321804046631,12.280072212219238,6.878427982330322,5.242839813232422,4.461833953857422,8.569931983947754,10.262706756591797,-0.13024766743183136,5.240536212921143,8.679655075073242,-0.36617064476013184,8.694819450378418,11.04428768157959,9.090237617492676,6.758303165435791,8.79864501953125,0.25517982244491577,11.627836227416992,12.10659122467041,10.573221206665039,6.050142765045166,10.58642578125,11.382157325744629,9.637706756591797,0.3548889458179474,4.810791015625,10.0697660446167,10.701371192932129,1.4713054895401,11.906163215637207,-1.3516035079956055,8.179847717285156,9.869622230529785,11.009690284729004,12.208253860473633,10.068259239196777,6.4594645500183105,11.846753120422363,-2.540903329849243,9.277107238769531,0.4431662857532501,0.5806149244308472,-0.7371811866760254,1.0021170377731323,-0.47803694009780884,0.3554859459400177,-4.452182769775391,6.946404933929443,6.889922142028809,5.164224624633789,6.465082168579102,9.530618667602539,3.652333974838257,-1.304000735282898,-1.3828530311584473,1.0535317659378052,8.890195846557617,12.398604393005371,7.2380475997924805,1.8633488416671753,6.899853229522705,7.6213579177856445,6.975306034088135,10.690858840942383,10.269070625305176,8.323890686035156,9.380180358886719,1.7198572158813477,2.838874578475952,-3.424321413040161,11.797555923461914,-3.0114169120788574,9.824599266052246,10.97557544708252,8.464959144592285,1.7890945672988892,-2.2899363040924072,11.233162879943848,-2.0945968627929688,8.186538696289062,12.015642166137695,12.309575080871582,11.188241004943848,5.530107498168945,6.433163642883301,5.924649715423584,-1.3389431238174438,10.662253379821777,2.671701669692993,7.655313968658447,12.144800186157227,3.711341142654419,1.0439425706863403,8.841025352478027,12.407577514648438,9.59093952178955,10.521517753601074,10.439535140991211,2.572782039642334,9.066097259521484,10.19763469696045,-3.5020153522491455,7.066977024078369,-2.1768076419830322,8.241094589233398,0.8873214721679688,12.39311408996582,0.8214482665061951,9.426836967468262,1.5320426225662231,-1.6314090490341187,9.95700740814209,7.125245094299316,-1.678868293762207,4.991924285888672,8.372879981994629,4.400787830352783,10.349761962890625,10.005802154541016,11.873648643493652,2.311060905456543,10.192242622375488,10.036356925964355,7.346229076385498,0.12094774842262268,4.44063138961792,4.196846961975098,2.1788270473480225,-1.8336787223815918,-1.331207275390625,4.413727283477783,-1.8539798259735107,11.659855842590332,10.937405586242676,8.027349472045898,7.216458797454834,10.804327011108398,12.011381149291992,2.0654733180999756,2.4275290966033936,8.541067123413086,3.237891912460327,12.417585372924805,12.193448066711426,12.126328468322754,1.7320387363433838,8.473374366760254,7.626846790313721,12.198018074035645,3.949692964553833,11.732686042785645,10.044267654418945,-1.3253591060638428,-0.8358107805252075,-3.6062817573547363,4.073439598083496,11.986989974975586,11.446328163146973,0.6209748387336731,9.551263809204102,2.456835985183716,0.2820732295513153,4.088305950164795,7.7165446281433105,-0.7317781448364258,11.648234367370605,5.56365442276001,-1.6667269468307495,6.316683292388916,-2.664383888244629,11.064123153686523,12.394951820373535,12.004379272460938,4.033812999725342,6.154132843017578,3.755293369293213],\"type\":\"scatter3d\"},{\"hovertemplate\":\"Dominant_Topic=Topic 3<br>0=%{x}<br>1=%{y}<br>2=%{z}<extra></extra>\",\"legendgroup\":\"Topic 3\",\"marker\":{\"color\":\"#ab63fa\",\"opacity\":0.7,\"symbol\":\"circle\"},\"mode\":\"markers\",\"name\":\"Topic 3\",\"scene\":\"scene\",\"showlegend\":true,\"x\":[13.954755783081055,14.009546279907227,14.395902633666992,14.446246147155762,13.936464309692383,14.188933372497559,14.461572647094727,14.54793930053711,13.725210189819336,14.449017524719238,13.737074851989746,14.252141952514648,14.72828483581543,14.376742362976074,14.009366989135742,14.75869369506836,14.642382621765137,14.464262962341309,14.684030532836914,14.153166770935059,5.356818199157715,13.794002532958984,13.987208366394043,14.016815185546875,14.381082534790039,13.897693634033203,14.342650413513184,13.775430679321289],\"y\":[0.7437161803245544,0.7098067998886108,1.6274172067642212,0.7998389005661011,0.9262247681617737,1.6058820486068726,0.6253994107246399,1.1126898527145386,1.1426880359649658,0.9877976179122925,0.616904616355896,1.0455228090286255,1.2905149459838867,0.5771778225898743,0.5229700207710266,1.2391995191574097,1.3243757486343384,1.1795480251312256,0.9370409846305847,1.3216941356658936,-3.127397298812866,1.2018450498580933,1.2928255796432495,1.4197322130203247,1.6276779174804688,1.4249383211135864,1.3684868812561035,0.7676952481269836],\"z\":[5.485942840576172,4.832470417022705,5.237608909606934,5.5215630531311035,4.7136969566345215,5.054574966430664,5.086437702178955,5.609785079956055,5.240495204925537,4.750169277191162,4.86423397064209,5.682199954986572,5.328452110290527,5.292932987213135,5.20246696472168,5.251121520996094,4.934933185577393,4.751244068145752,5.077424049377441,4.731681823730469,-4.069455146789551,4.878193378448486,5.595561504364014,5.523321151733398,5.279982566833496,5.072678565979004,5.638523101806641,5.254930019378662],\"type\":\"scatter3d\"}],                        {\"template\":{\"data\":{\"histogram2dcontour\":[{\"type\":\"histogram2dcontour\",\"colorbar\":{\"outlinewidth\":0,\"ticks\":\"\"},\"colorscale\":[[0.0,\"#0d0887\"],[0.1111111111111111,\"#46039f\"],[0.2222222222222222,\"#7201a8\"],[0.3333333333333333,\"#9c179e\"],[0.4444444444444444,\"#bd3786\"],[0.5555555555555556,\"#d8576b\"],[0.6666666666666666,\"#ed7953\"],[0.7777777777777778,\"#fb9f3a\"],[0.8888888888888888,\"#fdca26\"],[1.0,\"#f0f921\"]]}],\"choropleth\":[{\"type\":\"choropleth\",\"colorbar\":{\"outlinewidth\":0,\"ticks\":\"\"}}],\"histogram2d\":[{\"type\":\"histogram2d\",\"colorbar\":{\"outlinewidth\":0,\"ticks\":\"\"},\"colorscale\":[[0.0,\"#0d0887\"],[0.1111111111111111,\"#46039f\"],[0.2222222222222222,\"#7201a8\"],[0.3333333333333333,\"#9c179e\"],[0.4444444444444444,\"#bd3786\"],[0.5555555555555556,\"#d8576b\"],[0.6666666666666666,\"#ed7953\"],[0.7777777777777778,\"#fb9f3a\"],[0.8888888888888888,\"#fdca26\"],[1.0,\"#f0f921\"]]}],\"heatmap\":[{\"type\":\"heatmap\",\"colorbar\":{\"outlinewidth\":0,\"ticks\":\"\"},\"colorscale\":[[0.0,\"#0d0887\"],[0.1111111111111111,\"#46039f\"],[0.2222222222222222,\"#7201a8\"],[0.3333333333333333,\"#9c179e\"],[0.4444444444444444,\"#bd3786\"],[0.5555555555555556,\"#d8576b\"],[0.6666666666666666,\"#ed7953\"],[0.7777777777777778,\"#fb9f3a\"],[0.8888888888888888,\"#fdca26\"],[1.0,\"#f0f921\"]]}],\"heatmapgl\":[{\"type\":\"heatmapgl\",\"colorbar\":{\"outlinewidth\":0,\"ticks\":\"\"},\"colorscale\":[[0.0,\"#0d0887\"],[0.1111111111111111,\"#46039f\"],[0.2222222222222222,\"#7201a8\"],[0.3333333333333333,\"#9c179e\"],[0.4444444444444444,\"#bd3786\"],[0.5555555555555556,\"#d8576b\"],[0.6666666666666666,\"#ed7953\"],[0.7777777777777778,\"#fb9f3a\"],[0.8888888888888888,\"#fdca26\"],[1.0,\"#f0f921\"]]}],\"contourcarpet\":[{\"type\":\"contourcarpet\",\"colorbar\":{\"outlinewidth\":0,\"ticks\":\"\"}}],\"contour\":[{\"type\":\"contour\",\"colorbar\":{\"outlinewidth\":0,\"ticks\":\"\"},\"colorscale\":[[0.0,\"#0d0887\"],[0.1111111111111111,\"#46039f\"],[0.2222222222222222,\"#7201a8\"],[0.3333333333333333,\"#9c179e\"],[0.4444444444444444,\"#bd3786\"],[0.5555555555555556,\"#d8576b\"],[0.6666666666666666,\"#ed7953\"],[0.7777777777777778,\"#fb9f3a\"],[0.8888888888888888,\"#fdca26\"],[1.0,\"#f0f921\"]]}],\"surface\":[{\"type\":\"surface\",\"colorbar\":{\"outlinewidth\":0,\"ticks\":\"\"},\"colorscale\":[[0.0,\"#0d0887\"],[0.1111111111111111,\"#46039f\"],[0.2222222222222222,\"#7201a8\"],[0.3333333333333333,\"#9c179e\"],[0.4444444444444444,\"#bd3786\"],[0.5555555555555556,\"#d8576b\"],[0.6666666666666666,\"#ed7953\"],[0.7777777777777778,\"#fb9f3a\"],[0.8888888888888888,\"#fdca26\"],[1.0,\"#f0f921\"]]}],\"mesh3d\":[{\"type\":\"mesh3d\",\"colorbar\":{\"outlinewidth\":0,\"ticks\":\"\"}}],\"scatter\":[{\"fillpattern\":{\"fillmode\":\"overlay\",\"size\":10,\"solidity\":0.2},\"type\":\"scatter\"}],\"parcoords\":[{\"type\":\"parcoords\",\"line\":{\"colorbar\":{\"outlinewidth\":0,\"ticks\":\"\"}}}],\"scatterpolargl\":[{\"type\":\"scatterpolargl\",\"marker\":{\"colorbar\":{\"outlinewidth\":0,\"ticks\":\"\"}}}],\"bar\":[{\"error_x\":{\"color\":\"#2a3f5f\"},\"error_y\":{\"color\":\"#2a3f5f\"},\"marker\":{\"line\":{\"color\":\"#E5ECF6\",\"width\":0.5},\"pattern\":{\"fillmode\":\"overlay\",\"size\":10,\"solidity\":0.2}},\"type\":\"bar\"}],\"scattergeo\":[{\"type\":\"scattergeo\",\"marker\":{\"colorbar\":{\"outlinewidth\":0,\"ticks\":\"\"}}}],\"scatterpolar\":[{\"type\":\"scatterpolar\",\"marker\":{\"colorbar\":{\"outlinewidth\":0,\"ticks\":\"\"}}}],\"histogram\":[{\"marker\":{\"pattern\":{\"fillmode\":\"overlay\",\"size\":10,\"solidity\":0.2}},\"type\":\"histogram\"}],\"scattergl\":[{\"type\":\"scattergl\",\"marker\":{\"colorbar\":{\"outlinewidth\":0,\"ticks\":\"\"}}}],\"scatter3d\":[{\"type\":\"scatter3d\",\"line\":{\"colorbar\":{\"outlinewidth\":0,\"ticks\":\"\"}},\"marker\":{\"colorbar\":{\"outlinewidth\":0,\"ticks\":\"\"}}}],\"scattermapbox\":[{\"type\":\"scattermapbox\",\"marker\":{\"colorbar\":{\"outlinewidth\":0,\"ticks\":\"\"}}}],\"scatterternary\":[{\"type\":\"scatterternary\",\"marker\":{\"colorbar\":{\"outlinewidth\":0,\"ticks\":\"\"}}}],\"scattercarpet\":[{\"type\":\"scattercarpet\",\"marker\":{\"colorbar\":{\"outlinewidth\":0,\"ticks\":\"\"}}}],\"carpet\":[{\"aaxis\":{\"endlinecolor\":\"#2a3f5f\",\"gridcolor\":\"white\",\"linecolor\":\"white\",\"minorgridcolor\":\"white\",\"startlinecolor\":\"#2a3f5f\"},\"baxis\":{\"endlinecolor\":\"#2a3f5f\",\"gridcolor\":\"white\",\"linecolor\":\"white\",\"minorgridcolor\":\"white\",\"startlinecolor\":\"#2a3f5f\"},\"type\":\"carpet\"}],\"table\":[{\"cells\":{\"fill\":{\"color\":\"#EBF0F8\"},\"line\":{\"color\":\"white\"}},\"header\":{\"fill\":{\"color\":\"#C8D4E3\"},\"line\":{\"color\":\"white\"}},\"type\":\"table\"}],\"barpolar\":[{\"marker\":{\"line\":{\"color\":\"#E5ECF6\",\"width\":0.5},\"pattern\":{\"fillmode\":\"overlay\",\"size\":10,\"solidity\":0.2}},\"type\":\"barpolar\"}],\"pie\":[{\"automargin\":true,\"type\":\"pie\"}]},\"layout\":{\"autotypenumbers\":\"strict\",\"colorway\":[\"#636efa\",\"#EF553B\",\"#00cc96\",\"#ab63fa\",\"#FFA15A\",\"#19d3f3\",\"#FF6692\",\"#B6E880\",\"#FF97FF\",\"#FECB52\"],\"font\":{\"color\":\"#2a3f5f\"},\"hovermode\":\"closest\",\"hoverlabel\":{\"align\":\"left\"},\"paper_bgcolor\":\"white\",\"plot_bgcolor\":\"#E5ECF6\",\"polar\":{\"bgcolor\":\"#E5ECF6\",\"angularaxis\":{\"gridcolor\":\"white\",\"linecolor\":\"white\",\"ticks\":\"\"},\"radialaxis\":{\"gridcolor\":\"white\",\"linecolor\":\"white\",\"ticks\":\"\"}},\"ternary\":{\"bgcolor\":\"#E5ECF6\",\"aaxis\":{\"gridcolor\":\"white\",\"linecolor\":\"white\",\"ticks\":\"\"},\"baxis\":{\"gridcolor\":\"white\",\"linecolor\":\"white\",\"ticks\":\"\"},\"caxis\":{\"gridcolor\":\"white\",\"linecolor\":\"white\",\"ticks\":\"\"}},\"coloraxis\":{\"colorbar\":{\"outlinewidth\":0,\"ticks\":\"\"}},\"colorscale\":{\"sequential\":[[0.0,\"#0d0887\"],[0.1111111111111111,\"#46039f\"],[0.2222222222222222,\"#7201a8\"],[0.3333333333333333,\"#9c179e\"],[0.4444444444444444,\"#bd3786\"],[0.5555555555555556,\"#d8576b\"],[0.6666666666666666,\"#ed7953\"],[0.7777777777777778,\"#fb9f3a\"],[0.8888888888888888,\"#fdca26\"],[1.0,\"#f0f921\"]],\"sequentialminus\":[[0.0,\"#0d0887\"],[0.1111111111111111,\"#46039f\"],[0.2222222222222222,\"#7201a8\"],[0.3333333333333333,\"#9c179e\"],[0.4444444444444444,\"#bd3786\"],[0.5555555555555556,\"#d8576b\"],[0.6666666666666666,\"#ed7953\"],[0.7777777777777778,\"#fb9f3a\"],[0.8888888888888888,\"#fdca26\"],[1.0,\"#f0f921\"]],\"diverging\":[[0,\"#8e0152\"],[0.1,\"#c51b7d\"],[0.2,\"#de77ae\"],[0.3,\"#f1b6da\"],[0.4,\"#fde0ef\"],[0.5,\"#f7f7f7\"],[0.6,\"#e6f5d0\"],[0.7,\"#b8e186\"],[0.8,\"#7fbc41\"],[0.9,\"#4d9221\"],[1,\"#276419\"]]},\"xaxis\":{\"gridcolor\":\"white\",\"linecolor\":\"white\",\"ticks\":\"\",\"title\":{\"standoff\":15},\"zerolinecolor\":\"white\",\"automargin\":true,\"zerolinewidth\":2},\"yaxis\":{\"gridcolor\":\"white\",\"linecolor\":\"white\",\"ticks\":\"\",\"title\":{\"standoff\":15},\"zerolinecolor\":\"white\",\"automargin\":true,\"zerolinewidth\":2},\"scene\":{\"xaxis\":{\"backgroundcolor\":\"#E5ECF6\",\"gridcolor\":\"white\",\"linecolor\":\"white\",\"showbackground\":true,\"ticks\":\"\",\"zerolinecolor\":\"white\",\"gridwidth\":2},\"yaxis\":{\"backgroundcolor\":\"#E5ECF6\",\"gridcolor\":\"white\",\"linecolor\":\"white\",\"showbackground\":true,\"ticks\":\"\",\"zerolinecolor\":\"white\",\"gridwidth\":2},\"zaxis\":{\"backgroundcolor\":\"#E5ECF6\",\"gridcolor\":\"white\",\"linecolor\":\"white\",\"showbackground\":true,\"ticks\":\"\",\"zerolinecolor\":\"white\",\"gridwidth\":2}},\"shapedefaults\":{\"line\":{\"color\":\"#2a3f5f\"}},\"annotationdefaults\":{\"arrowcolor\":\"#2a3f5f\",\"arrowhead\":0,\"arrowwidth\":1},\"geo\":{\"bgcolor\":\"white\",\"landcolor\":\"#E5ECF6\",\"subunitcolor\":\"white\",\"showland\":true,\"showlakes\":true,\"lakecolor\":\"white\"},\"title\":{\"x\":0.05},\"mapbox\":{\"style\":\"light\"}}},\"scene\":{\"domain\":{\"x\":[0.0,1.0],\"y\":[0.0,1.0]},\"xaxis\":{\"title\":{\"text\":\"0\"}},\"yaxis\":{\"title\":{\"text\":\"1\"}},\"zaxis\":{\"title\":{\"text\":\"2\"}}},\"legend\":{\"title\":{\"text\":\"Dominant_Topic\"},\"tracegroupgap\":0},\"title\":{\"text\":\"3d TSNE Plot for Topic Model\"},\"height\":800,\"width\":900},                        {\"responsive\": true}                    ).then(function(){\n",
       "                            \n",
       "var gd = document.getElementById('c64a4681-7f88-496b-bbdc-187ff9ec2029');\n",
       "var x = new MutationObserver(function (mutations, observer) {{\n",
       "        var display = window.getComputedStyle(gd).display;\n",
       "        if (!display || display === 'none') {{\n",
       "            console.log([gd, 'removed!']);\n",
       "            Plotly.purge(gd);\n",
       "            observer.disconnect();\n",
       "        }}\n",
       "}});\n",
       "\n",
       "// Listen for the removal of the full notebook cells\n",
       "var notebookContainer = gd.closest('#notebook-container');\n",
       "if (notebookContainer) {{\n",
       "    x.observe(notebookContainer, {childList: true});\n",
       "}}\n",
       "\n",
       "// Listen for the clearing of the current output cell\n",
       "var outputEl = gd.closest('.output');\n",
       "if (outputEl) {{\n",
       "    x.observe(outputEl, {childList: true});\n",
       "}}\n",
       "\n",
       "                        })                };                });            </script>        </div>"
      ]
     },
     "metadata": {},
     "output_type": "display_data"
    }
   ],
   "source": [
    "plot_model(lda, plot = 'tsne')"
   ]
  },
  {
   "cell_type": "code",
   "execution_count": null,
   "metadata": {},
   "outputs": [
    {
     "data": {
      "text/html": [
       "        <script type=\"text/javascript\">\n",
       "        window.PlotlyConfig = {MathJaxConfig: 'local'};\n",
       "        if (window.MathJax && window.MathJax.Hub && window.MathJax.Hub.Config) {window.MathJax.Hub.Config({SVG: {font: \"STIX-Web\"}});}\n",
       "        if (typeof require !== 'undefined') {\n",
       "        require.undef(\"plotly\");\n",
       "        requirejs.config({\n",
       "            paths: {\n",
       "                'plotly': ['https://cdn.plot.ly/plotly-2.12.1.min']\n",
       "            }\n",
       "        });\n",
       "        require(['plotly'], function(Plotly) {\n",
       "            window._Plotly = Plotly;\n",
       "        });\n",
       "        }\n",
       "        </script>\n",
       "        "
      ]
     },
     "metadata": {},
     "output_type": "display_data"
    },
    {
     "name": "stderr",
     "output_type": "stream",
     "text": [
      "findfont: Font family ['sans-serif'] not found. Falling back to DejaVu Sans.\n",
      "findfont: Generic family 'sans-serif' not found because none of the following families were found: Arial, Liberation Sans, Bitstream Vera Sans, sans-serif\n",
      "findfont: Font family ['sans-serif'] not found. Falling back to DejaVu Sans.\n",
      "findfont: Generic family 'sans-serif' not found because none of the following families were found: Arial, Liberation Sans, Bitstream Vera Sans, sans-serif\n"
     ]
    },
    {
     "data": {
      "image/png": "[encoded data removed]",
      "text/plain": [
       "<Figure size 720x432 with 1 Axes>"
      ]
     },
     "metadata": {},
     "output_type": "display_data"
    }
   ],
   "source": [
    "plot_model(lda, plot = 'umap')"
   ]
  },
  {
   "cell_type": "code",
   "execution_count": null,
   "metadata": {},
   "outputs": [
    {
     "data": {
      "application/vnd.jupyter.widget-view+json": {
       "model_id": "6b974381e06646af9d07cd9d4bc0c03e",
       "version_major": 2,
       "version_minor": 0
      },
      "text/plain": [
       "interactive(children=(ToggleButtons(description='Plot Type:', icons=('',), options=(('Frequency Plot', 'freque…"
      ]
     },
     "metadata": {},
     "output_type": "display_data"
    }
   ],
   "source": [
    "evaluate_model(lda)"
   ]
  }
 ],
 "metadata": {
  "interpreter": {
   "hash": "949777d72b0d2535278d3dc13498b2535136f6dfe0678499012e853ee9abcab1"
  },
  "kernelspec": {
   "display_name": "Python 3.8.13 64-bit",
   "language": "python",
   "name": "python3"
  },
  "language_info": {
   "codemirror_mode": {
    "name": "ipython",
    "version": 3
   },
   "file_extension": ".py",
   "mimetype": "text/x-python",
   "name": "python",
   "nbconvert_exporter": "python",
   "pygments_lexer": "ipython3",
   "version": "3.8.13"
  },
  "orig_nbformat": 4
 },
 "nbformat": 4,
 "nbformat_minor": 2
}
